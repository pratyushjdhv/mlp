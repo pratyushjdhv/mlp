{
 "cells": [
  {
   "cell_type": "code",
   "execution_count": 1,
   "id": "5f68bfb6",
   "metadata": {
    "_cell_guid": "b1076dfc-b9ad-4769-8c92-a6c4dae69d19",
    "_uuid": "8f2839f25d086af736a60e9eeb907d3b93b6e0e5",
    "execution": {
     "iopub.execute_input": "2024-11-15T06:47:08.669994Z",
     "iopub.status.busy": "2024-11-15T06:47:08.669494Z",
     "iopub.status.idle": "2024-11-15T06:47:09.825183Z",
     "shell.execute_reply": "2024-11-15T06:47:09.824022Z"
    },
    "papermill": {
     "duration": 1.202309,
     "end_time": "2024-11-15T06:47:09.827989",
     "exception": false,
     "start_time": "2024-11-15T06:47:08.625680",
     "status": "completed"
    },
    "tags": []
   },
   "outputs": [
    {
     "name": "stdout",
     "output_type": "stream",
     "text": [
      "/kaggle/input/predict-the-success-of-bank-telemarketing/sample_submission.csv\n",
      "/kaggle/input/predict-the-success-of-bank-telemarketing/train.csv\n",
      "/kaggle/input/predict-the-success-of-bank-telemarketing/test.csv\n"
     ]
    }
   ],
   "source": [
    "# This Python 3 environment comes with many helpful analytics libraries installed\n",
    "# It is defined by the kaggle/python Docker image: https://github.com/kaggle/docker-python\n",
    "# For example, here's several helpful packages to load\n",
    "\n",
    "import numpy as np # linear algebra\n",
    "import pandas as pd # data processing, CSV file I/O (e.g. pd.read_csv)\n",
    "\n",
    "# Input data files are available in the read-only \"../input/\" directory\n",
    "# For example, running this (by clicking run or pressing Shift+Enter) will list all files under the input directory\n",
    "\n",
    "import os\n",
    "for dirname, _, filenames in os.walk('/kaggle/input'):\n",
    "    for filename in filenames:\n",
    "        print(os.path.join(dirname, filename))\n",
    "\n",
    "# You can write up to 20GB to the current directory (/kaggle/working/) that gets preserved as output when you create a version using \"Save & Run All\" \n",
    "# You can also write temporary files to /kaggle/temp/, but they won't be saved outside of the current session"
   ]
  },
  {
   "cell_type": "code",
   "execution_count": 2,
   "id": "ec412a26",
   "metadata": {
    "execution": {
     "iopub.execute_input": "2024-11-15T06:47:09.903653Z",
     "iopub.status.busy": "2024-11-15T06:47:09.902453Z",
     "iopub.status.idle": "2024-11-15T06:47:09.911126Z",
     "shell.execute_reply": "2024-11-15T06:47:09.910095Z"
    },
    "papermill": {
     "duration": 0.049661,
     "end_time": "2024-11-15T06:47:09.913749",
     "exception": false,
     "start_time": "2024-11-15T06:47:09.864088",
     "status": "completed"
    },
    "tags": []
   },
   "outputs": [
    {
     "data": {
      "text/plain": [
       "'rm submission.csv'"
      ]
     },
     "execution_count": 2,
     "metadata": {},
     "output_type": "execute_result"
    }
   ],
   "source": [
    "'''rm submission.csv'''"
   ]
  },
  {
   "cell_type": "code",
   "execution_count": 3,
   "id": "eb7bfedd",
   "metadata": {
    "execution": {
     "iopub.execute_input": "2024-11-15T06:47:09.987670Z",
     "iopub.status.busy": "2024-11-15T06:47:09.986907Z",
     "iopub.status.idle": "2024-11-15T06:47:09.993624Z",
     "shell.execute_reply": "2024-11-15T06:47:09.992623Z"
    },
    "papermill": {
     "duration": 0.046325,
     "end_time": "2024-11-15T06:47:09.996070",
     "exception": false,
     "start_time": "2024-11-15T06:47:09.949745",
     "status": "completed"
    },
    "tags": []
   },
   "outputs": [
    {
     "data": {
      "text/plain": [
       "'df.to_excel(\"mlp_data.xlsx\",sheet_name=\\'mlp_data\\')  '"
      ]
     },
     "execution_count": 3,
     "metadata": {},
     "output_type": "execute_result"
    }
   ],
   "source": [
    "'''df.to_excel(\"mlp_data.xlsx\",sheet_name='mlp_data')  '''  "
   ]
  },
  {
   "cell_type": "code",
   "execution_count": 4,
   "id": "3d2817b4",
   "metadata": {
    "execution": {
     "iopub.execute_input": "2024-11-15T06:47:10.072743Z",
     "iopub.status.busy": "2024-11-15T06:47:10.071331Z",
     "iopub.status.idle": "2024-11-15T06:47:12.000041Z",
     "shell.execute_reply": "2024-11-15T06:47:11.998792Z"
    },
    "papermill": {
     "duration": 1.97031,
     "end_time": "2024-11-15T06:47:12.003311",
     "exception": false,
     "start_time": "2024-11-15T06:47:10.033001",
     "status": "completed"
    },
    "tags": []
   },
   "outputs": [
    {
     "data": {
      "text/plain": [
       "\"submission = pd.DataFrame({'id':range(0,x_test.shape[0]),\\n                          'target':y_predict})\\n                     \\nsubmission.to_csv('submission.csv',index=False)\""
      ]
     },
     "execution_count": 4,
     "metadata": {},
     "output_type": "execute_result"
    }
   ],
   "source": [
    "'''dummy submission here'''\n",
    "\n",
    "df=pd.read_csv('/kaggle/input/predict-the-success-of-bank-telemarketing/train.csv')\n",
    "from sklearn.dummy import DummyClassifier\n",
    "x = df.drop('target', axis = 1)\n",
    "y = df['target']\n",
    "\n",
    "model = DummyClassifier().fit(x,y)\n",
    "\n",
    "x_test = pd.read_csv('/kaggle/input/predict-the-success-of-bank-telemarketing/test.csv')\n",
    "y_predict = model.predict(x_test)\n",
    "                     \n",
    "'''submission = pd.DataFrame({'id':range(0,x_test.shape[0]),\n",
    "                          'target':y_predict})\n",
    "                     \n",
    "submission.to_csv('submission.csv',index=False)'''"
   ]
  },
  {
   "cell_type": "markdown",
   "id": "44c9b1fd",
   "metadata": {
    "papermill": {
     "duration": 0.036219,
     "end_time": "2024-11-15T06:47:12.076491",
     "exception": false,
     "start_time": "2024-11-15T06:47:12.040272",
     "status": "completed"
    },
    "tags": []
   },
   "source": [
    "# **ASSESSMENT**"
   ]
  },
  {
   "cell_type": "code",
   "execution_count": 5,
   "id": "96fa71ce",
   "metadata": {
    "execution": {
     "iopub.execute_input": "2024-11-15T06:47:12.152000Z",
     "iopub.status.busy": "2024-11-15T06:47:12.150915Z",
     "iopub.status.idle": "2024-11-15T06:47:12.301461Z",
     "shell.execute_reply": "2024-11-15T06:47:12.299936Z"
    },
    "papermill": {
     "duration": 0.1923,
     "end_time": "2024-11-15T06:47:12.305604",
     "exception": false,
     "start_time": "2024-11-15T06:47:12.113304",
     "status": "completed"
    },
    "tags": []
   },
   "outputs": [],
   "source": [
    "df = pd.read_csv('/kaggle/input/predict-the-success-of-bank-telemarketing/train.csv')"
   ]
  },
  {
   "cell_type": "code",
   "execution_count": 6,
   "id": "912938ea",
   "metadata": {
    "execution": {
     "iopub.execute_input": "2024-11-15T06:47:12.417888Z",
     "iopub.status.busy": "2024-11-15T06:47:12.417325Z",
     "iopub.status.idle": "2024-11-15T06:47:12.425821Z",
     "shell.execute_reply": "2024-11-15T06:47:12.424465Z"
    },
    "papermill": {
     "duration": 0.063464,
     "end_time": "2024-11-15T06:47:12.428369",
     "exception": false,
     "start_time": "2024-11-15T06:47:12.364905",
     "status": "completed"
    },
    "tags": []
   },
   "outputs": [
    {
     "data": {
      "text/plain": [
       "(39211, 16)"
      ]
     },
     "execution_count": 6,
     "metadata": {},
     "output_type": "execute_result"
    }
   ],
   "source": [
    "df.shape"
   ]
  },
  {
   "cell_type": "code",
   "execution_count": 7,
   "id": "5c615670",
   "metadata": {
    "execution": {
     "iopub.execute_input": "2024-11-15T06:47:12.512498Z",
     "iopub.status.busy": "2024-11-15T06:47:12.511918Z",
     "iopub.status.idle": "2024-11-15T06:47:12.595331Z",
     "shell.execute_reply": "2024-11-15T06:47:12.593650Z"
    },
    "papermill": {
     "duration": 0.133791,
     "end_time": "2024-11-15T06:47:12.599813",
     "exception": false,
     "start_time": "2024-11-15T06:47:12.466022",
     "status": "completed"
    },
    "tags": []
   },
   "outputs": [
    {
     "name": "stdout",
     "output_type": "stream",
     "text": [
      "<class 'pandas.core.frame.DataFrame'>\n",
      "RangeIndex: 39211 entries, 0 to 39210\n",
      "Data columns (total 16 columns):\n",
      " #   Column             Non-Null Count  Dtype \n",
      "---  ------             --------------  ----- \n",
      " 0   last contact date  39211 non-null  object\n",
      " 1   age                39211 non-null  int64 \n",
      " 2   job                38982 non-null  object\n",
      " 3   marital            39211 non-null  object\n",
      " 4   education          37744 non-null  object\n",
      " 5   default            39211 non-null  object\n",
      " 6   balance            39211 non-null  int64 \n",
      " 7   housing            39211 non-null  object\n",
      " 8   loan               39211 non-null  object\n",
      " 9   contact            28875 non-null  object\n",
      " 10  duration           39211 non-null  int64 \n",
      " 11  campaign           39211 non-null  int64 \n",
      " 12  pdays              39211 non-null  int64 \n",
      " 13  previous           39211 non-null  int64 \n",
      " 14  poutcome           9760 non-null   object\n",
      " 15  target             39211 non-null  object\n",
      "dtypes: int64(6), object(10)\n",
      "memory usage: 4.8+ MB\n"
     ]
    }
   ],
   "source": [
    "df.info()"
   ]
  },
  {
   "cell_type": "code",
   "execution_count": 8,
   "id": "dc074eaa",
   "metadata": {
    "execution": {
     "iopub.execute_input": "2024-11-15T06:47:12.684359Z",
     "iopub.status.busy": "2024-11-15T06:47:12.683574Z",
     "iopub.status.idle": "2024-11-15T06:47:12.731618Z",
     "shell.execute_reply": "2024-11-15T06:47:12.728799Z"
    },
    "papermill": {
     "duration": 0.089798,
     "end_time": "2024-11-15T06:47:12.734994",
     "exception": false,
     "start_time": "2024-11-15T06:47:12.645196",
     "status": "completed"
    },
    "tags": []
   },
   "outputs": [
    {
     "data": {
      "text/html": [
       "<div>\n",
       "<style scoped>\n",
       "    .dataframe tbody tr th:only-of-type {\n",
       "        vertical-align: middle;\n",
       "    }\n",
       "\n",
       "    .dataframe tbody tr th {\n",
       "        vertical-align: top;\n",
       "    }\n",
       "\n",
       "    .dataframe thead th {\n",
       "        text-align: right;\n",
       "    }\n",
       "</style>\n",
       "<table border=\"1\" class=\"dataframe\">\n",
       "  <thead>\n",
       "    <tr style=\"text-align: right;\">\n",
       "      <th></th>\n",
       "      <th>age</th>\n",
       "      <th>balance</th>\n",
       "      <th>duration</th>\n",
       "      <th>campaign</th>\n",
       "      <th>pdays</th>\n",
       "      <th>previous</th>\n",
       "    </tr>\n",
       "  </thead>\n",
       "  <tbody>\n",
       "    <tr>\n",
       "      <th>count</th>\n",
       "      <td>39211.000000</td>\n",
       "      <td>39211.000000</td>\n",
       "      <td>39211.000000</td>\n",
       "      <td>39211.000000</td>\n",
       "      <td>39211.000000</td>\n",
       "      <td>39211.000000</td>\n",
       "    </tr>\n",
       "    <tr>\n",
       "      <th>mean</th>\n",
       "      <td>42.120247</td>\n",
       "      <td>5441.781719</td>\n",
       "      <td>439.062789</td>\n",
       "      <td>5.108770</td>\n",
       "      <td>72.256051</td>\n",
       "      <td>11.826171</td>\n",
       "    </tr>\n",
       "    <tr>\n",
       "      <th>std</th>\n",
       "      <td>12.709352</td>\n",
       "      <td>16365.292065</td>\n",
       "      <td>769.096291</td>\n",
       "      <td>9.890153</td>\n",
       "      <td>160.942593</td>\n",
       "      <td>44.140259</td>\n",
       "    </tr>\n",
       "    <tr>\n",
       "      <th>min</th>\n",
       "      <td>18.000000</td>\n",
       "      <td>-8019.000000</td>\n",
       "      <td>0.000000</td>\n",
       "      <td>1.000000</td>\n",
       "      <td>-1.000000</td>\n",
       "      <td>0.000000</td>\n",
       "    </tr>\n",
       "    <tr>\n",
       "      <th>25%</th>\n",
       "      <td>33.000000</td>\n",
       "      <td>98.000000</td>\n",
       "      <td>109.000000</td>\n",
       "      <td>1.000000</td>\n",
       "      <td>-1.000000</td>\n",
       "      <td>0.000000</td>\n",
       "    </tr>\n",
       "    <tr>\n",
       "      <th>50%</th>\n",
       "      <td>40.000000</td>\n",
       "      <td>549.000000</td>\n",
       "      <td>197.000000</td>\n",
       "      <td>2.000000</td>\n",
       "      <td>-1.000000</td>\n",
       "      <td>0.000000</td>\n",
       "    </tr>\n",
       "    <tr>\n",
       "      <th>75%</th>\n",
       "      <td>50.000000</td>\n",
       "      <td>2030.000000</td>\n",
       "      <td>380.000000</td>\n",
       "      <td>4.000000</td>\n",
       "      <td>-1.000000</td>\n",
       "      <td>0.000000</td>\n",
       "    </tr>\n",
       "    <tr>\n",
       "      <th>max</th>\n",
       "      <td>95.000000</td>\n",
       "      <td>102127.000000</td>\n",
       "      <td>4918.000000</td>\n",
       "      <td>63.000000</td>\n",
       "      <td>871.000000</td>\n",
       "      <td>275.000000</td>\n",
       "    </tr>\n",
       "  </tbody>\n",
       "</table>\n",
       "</div>"
      ],
      "text/plain": [
       "                age        balance      duration      campaign         pdays  \\\n",
       "count  39211.000000   39211.000000  39211.000000  39211.000000  39211.000000   \n",
       "mean      42.120247    5441.781719    439.062789      5.108770     72.256051   \n",
       "std       12.709352   16365.292065    769.096291      9.890153    160.942593   \n",
       "min       18.000000   -8019.000000      0.000000      1.000000     -1.000000   \n",
       "25%       33.000000      98.000000    109.000000      1.000000     -1.000000   \n",
       "50%       40.000000     549.000000    197.000000      2.000000     -1.000000   \n",
       "75%       50.000000    2030.000000    380.000000      4.000000     -1.000000   \n",
       "max       95.000000  102127.000000   4918.000000     63.000000    871.000000   \n",
       "\n",
       "           previous  \n",
       "count  39211.000000  \n",
       "mean      11.826171  \n",
       "std       44.140259  \n",
       "min        0.000000  \n",
       "25%        0.000000  \n",
       "50%        0.000000  \n",
       "75%        0.000000  \n",
       "max      275.000000  "
      ]
     },
     "execution_count": 8,
     "metadata": {},
     "output_type": "execute_result"
    }
   ],
   "source": [
    "df.describe()"
   ]
  },
  {
   "cell_type": "markdown",
   "id": "0720df6c",
   "metadata": {
    "papermill": {
     "duration": 0.037023,
     "end_time": "2024-11-15T06:47:12.809145",
     "exception": false,
     "start_time": "2024-11-15T06:47:12.772122",
     "status": "completed"
    },
    "tags": []
   },
   "source": [
    "> ## **Basic Assessment**\n",
    "\n",
    "\n"
   ]
  },
  {
   "cell_type": "code",
   "execution_count": 9,
   "id": "00f8462c",
   "metadata": {
    "execution": {
     "iopub.execute_input": "2024-11-15T06:47:12.888846Z",
     "iopub.status.busy": "2024-11-15T06:47:12.888382Z",
     "iopub.status.idle": "2024-11-15T06:47:12.940031Z",
     "shell.execute_reply": "2024-11-15T06:47:12.938490Z"
    },
    "papermill": {
     "duration": 0.097502,
     "end_time": "2024-11-15T06:47:12.943385",
     "exception": false,
     "start_time": "2024-11-15T06:47:12.845883",
     "status": "completed"
    },
    "tags": []
   },
   "outputs": [
    {
     "data": {
      "text/plain": [
       "last contact date        0\n",
       "age                      0\n",
       "job                    229\n",
       "marital                  0\n",
       "education             1467\n",
       "default                  0\n",
       "balance                  0\n",
       "housing                  0\n",
       "loan                     0\n",
       "contact              10336\n",
       "duration                 0\n",
       "campaign                 0\n",
       "pdays                    0\n",
       "previous                 0\n",
       "poutcome             29451\n",
       "target                   0\n",
       "dtype: int64"
      ]
     },
     "execution_count": 9,
     "metadata": {},
     "output_type": "execute_result"
    }
   ],
   "source": [
    "df.isnull().sum()"
   ]
  },
  {
   "cell_type": "code",
   "execution_count": 10,
   "id": "7b3eefad",
   "metadata": {
    "execution": {
     "iopub.execute_input": "2024-11-15T06:47:13.020856Z",
     "iopub.status.busy": "2024-11-15T06:47:13.020120Z",
     "iopub.status.idle": "2024-11-15T06:47:13.035588Z",
     "shell.execute_reply": "2024-11-15T06:47:13.034495Z"
    },
    "papermill": {
     "duration": 0.056439,
     "end_time": "2024-11-15T06:47:13.037836",
     "exception": false,
     "start_time": "2024-11-15T06:47:12.981397",
     "status": "completed"
    },
    "tags": []
   },
   "outputs": [
    {
     "data": {
      "text/plain": [
       "job\n",
       "blue-collar      7776\n",
       "management       7462\n",
       "technician       6078\n",
       "admin.           4116\n",
       "services         3325\n",
       "self-employed    1862\n",
       "retired          1824\n",
       "entrepreneur     1805\n",
       "unemployed       1685\n",
       "housemaid        1656\n",
       "student          1393\n",
       "Name: count, dtype: int64"
      ]
     },
     "execution_count": 10,
     "metadata": {},
     "output_type": "execute_result"
    }
   ],
   "source": [
    "df['job'].value_counts()"
   ]
  },
  {
   "cell_type": "code",
   "execution_count": 11,
   "id": "9a079b7f",
   "metadata": {
    "execution": {
     "iopub.execute_input": "2024-11-15T06:47:13.115173Z",
     "iopub.status.busy": "2024-11-15T06:47:13.114703Z",
     "iopub.status.idle": "2024-11-15T06:47:13.144559Z",
     "shell.execute_reply": "2024-11-15T06:47:13.143392Z"
    },
    "papermill": {
     "duration": 0.071194,
     "end_time": "2024-11-15T06:47:13.147235",
     "exception": false,
     "start_time": "2024-11-15T06:47:13.076041",
     "status": "completed"
    },
    "tags": []
   },
   "outputs": [
    {
     "data": {
      "text/html": [
       "<div>\n",
       "<style scoped>\n",
       "    .dataframe tbody tr th:only-of-type {\n",
       "        vertical-align: middle;\n",
       "    }\n",
       "\n",
       "    .dataframe tbody tr th {\n",
       "        vertical-align: top;\n",
       "    }\n",
       "\n",
       "    .dataframe thead th {\n",
       "        text-align: right;\n",
       "    }\n",
       "</style>\n",
       "<table border=\"1\" class=\"dataframe\">\n",
       "  <thead>\n",
       "    <tr style=\"text-align: right;\">\n",
       "      <th></th>\n",
       "      <th>last contact date</th>\n",
       "      <th>age</th>\n",
       "      <th>job</th>\n",
       "      <th>marital</th>\n",
       "      <th>education</th>\n",
       "      <th>default</th>\n",
       "      <th>balance</th>\n",
       "      <th>housing</th>\n",
       "      <th>loan</th>\n",
       "      <th>contact</th>\n",
       "      <th>duration</th>\n",
       "      <th>campaign</th>\n",
       "      <th>pdays</th>\n",
       "      <th>previous</th>\n",
       "      <th>poutcome</th>\n",
       "      <th>target</th>\n",
       "    </tr>\n",
       "  </thead>\n",
       "  <tbody>\n",
       "    <tr>\n",
       "      <th>256</th>\n",
       "      <td>2009-08-19</td>\n",
       "      <td>40</td>\n",
       "      <td>NaN</td>\n",
       "      <td>married</td>\n",
       "      <td>tertiary</td>\n",
       "      <td>no</td>\n",
       "      <td>119</td>\n",
       "      <td>no</td>\n",
       "      <td>no</td>\n",
       "      <td>cellular</td>\n",
       "      <td>258</td>\n",
       "      <td>2</td>\n",
       "      <td>-1</td>\n",
       "      <td>0</td>\n",
       "      <td>NaN</td>\n",
       "      <td>no</td>\n",
       "    </tr>\n",
       "    <tr>\n",
       "      <th>490</th>\n",
       "      <td>2010-05-29</td>\n",
       "      <td>41</td>\n",
       "      <td>NaN</td>\n",
       "      <td>single</td>\n",
       "      <td>secondary</td>\n",
       "      <td>no</td>\n",
       "      <td>646</td>\n",
       "      <td>yes</td>\n",
       "      <td>no</td>\n",
       "      <td>NaN</td>\n",
       "      <td>40</td>\n",
       "      <td>2</td>\n",
       "      <td>-1</td>\n",
       "      <td>0</td>\n",
       "      <td>NaN</td>\n",
       "      <td>no</td>\n",
       "    </tr>\n",
       "    <tr>\n",
       "      <th>564</th>\n",
       "      <td>2008-05-28</td>\n",
       "      <td>57</td>\n",
       "      <td>NaN</td>\n",
       "      <td>married</td>\n",
       "      <td>NaN</td>\n",
       "      <td>no</td>\n",
       "      <td>327</td>\n",
       "      <td>yes</td>\n",
       "      <td>no</td>\n",
       "      <td>NaN</td>\n",
       "      <td>74</td>\n",
       "      <td>2</td>\n",
       "      <td>-1</td>\n",
       "      <td>0</td>\n",
       "      <td>NaN</td>\n",
       "      <td>no</td>\n",
       "    </tr>\n",
       "    <tr>\n",
       "      <th>768</th>\n",
       "      <td>2010-08-04</td>\n",
       "      <td>52</td>\n",
       "      <td>NaN</td>\n",
       "      <td>married</td>\n",
       "      <td>NaN</td>\n",
       "      <td>no</td>\n",
       "      <td>1571</td>\n",
       "      <td>no</td>\n",
       "      <td>no</td>\n",
       "      <td>cellular</td>\n",
       "      <td>164</td>\n",
       "      <td>1</td>\n",
       "      <td>-1</td>\n",
       "      <td>0</td>\n",
       "      <td>NaN</td>\n",
       "      <td>no</td>\n",
       "    </tr>\n",
       "    <tr>\n",
       "      <th>790</th>\n",
       "      <td>2009-06-16</td>\n",
       "      <td>54</td>\n",
       "      <td>NaN</td>\n",
       "      <td>married</td>\n",
       "      <td>secondary</td>\n",
       "      <td>no</td>\n",
       "      <td>1241</td>\n",
       "      <td>no</td>\n",
       "      <td>no</td>\n",
       "      <td>NaN</td>\n",
       "      <td>97</td>\n",
       "      <td>6</td>\n",
       "      <td>-1</td>\n",
       "      <td>0</td>\n",
       "      <td>NaN</td>\n",
       "      <td>no</td>\n",
       "    </tr>\n",
       "    <tr>\n",
       "      <th>...</th>\n",
       "      <td>...</td>\n",
       "      <td>...</td>\n",
       "      <td>...</td>\n",
       "      <td>...</td>\n",
       "      <td>...</td>\n",
       "      <td>...</td>\n",
       "      <td>...</td>\n",
       "      <td>...</td>\n",
       "      <td>...</td>\n",
       "      <td>...</td>\n",
       "      <td>...</td>\n",
       "      <td>...</td>\n",
       "      <td>...</td>\n",
       "      <td>...</td>\n",
       "      <td>...</td>\n",
       "      <td>...</td>\n",
       "    </tr>\n",
       "    <tr>\n",
       "      <th>38048</th>\n",
       "      <td>2009-06-11</td>\n",
       "      <td>51</td>\n",
       "      <td>NaN</td>\n",
       "      <td>married</td>\n",
       "      <td>NaN</td>\n",
       "      <td>no</td>\n",
       "      <td>12</td>\n",
       "      <td>no</td>\n",
       "      <td>no</td>\n",
       "      <td>NaN</td>\n",
       "      <td>45</td>\n",
       "      <td>1</td>\n",
       "      <td>-1</td>\n",
       "      <td>0</td>\n",
       "      <td>NaN</td>\n",
       "      <td>no</td>\n",
       "    </tr>\n",
       "    <tr>\n",
       "      <th>38549</th>\n",
       "      <td>2009-08-21</td>\n",
       "      <td>36</td>\n",
       "      <td>NaN</td>\n",
       "      <td>married</td>\n",
       "      <td>primary</td>\n",
       "      <td>no</td>\n",
       "      <td>0</td>\n",
       "      <td>no</td>\n",
       "      <td>no</td>\n",
       "      <td>cellular</td>\n",
       "      <td>238</td>\n",
       "      <td>2</td>\n",
       "      <td>-1</td>\n",
       "      <td>0</td>\n",
       "      <td>NaN</td>\n",
       "      <td>no</td>\n",
       "    </tr>\n",
       "    <tr>\n",
       "      <th>38597</th>\n",
       "      <td>2009-06-05</td>\n",
       "      <td>59</td>\n",
       "      <td>NaN</td>\n",
       "      <td>married</td>\n",
       "      <td>primary</td>\n",
       "      <td>no</td>\n",
       "      <td>1470</td>\n",
       "      <td>no</td>\n",
       "      <td>no</td>\n",
       "      <td>NaN</td>\n",
       "      <td>74</td>\n",
       "      <td>1</td>\n",
       "      <td>-1</td>\n",
       "      <td>0</td>\n",
       "      <td>NaN</td>\n",
       "      <td>no</td>\n",
       "    </tr>\n",
       "    <tr>\n",
       "      <th>38637</th>\n",
       "      <td>2008-08-25</td>\n",
       "      <td>52</td>\n",
       "      <td>NaN</td>\n",
       "      <td>married</td>\n",
       "      <td>secondary</td>\n",
       "      <td>no</td>\n",
       "      <td>142</td>\n",
       "      <td>no</td>\n",
       "      <td>no</td>\n",
       "      <td>cellular</td>\n",
       "      <td>112</td>\n",
       "      <td>6</td>\n",
       "      <td>-1</td>\n",
       "      <td>0</td>\n",
       "      <td>NaN</td>\n",
       "      <td>no</td>\n",
       "    </tr>\n",
       "    <tr>\n",
       "      <th>38703</th>\n",
       "      <td>2009-07-20</td>\n",
       "      <td>31</td>\n",
       "      <td>NaN</td>\n",
       "      <td>married</td>\n",
       "      <td>secondary</td>\n",
       "      <td>no</td>\n",
       "      <td>3</td>\n",
       "      <td>no</td>\n",
       "      <td>no</td>\n",
       "      <td>cellular</td>\n",
       "      <td>91</td>\n",
       "      <td>2</td>\n",
       "      <td>-1</td>\n",
       "      <td>0</td>\n",
       "      <td>NaN</td>\n",
       "      <td>no</td>\n",
       "    </tr>\n",
       "  </tbody>\n",
       "</table>\n",
       "<p>229 rows × 16 columns</p>\n",
       "</div>"
      ],
      "text/plain": [
       "      last contact date  age  job  marital  education default  balance  \\\n",
       "256          2009-08-19   40  NaN  married   tertiary      no      119   \n",
       "490          2010-05-29   41  NaN   single  secondary      no      646   \n",
       "564          2008-05-28   57  NaN  married        NaN      no      327   \n",
       "768          2010-08-04   52  NaN  married        NaN      no     1571   \n",
       "790          2009-06-16   54  NaN  married  secondary      no     1241   \n",
       "...                 ...  ...  ...      ...        ...     ...      ...   \n",
       "38048        2009-06-11   51  NaN  married        NaN      no       12   \n",
       "38549        2009-08-21   36  NaN  married    primary      no        0   \n",
       "38597        2009-06-05   59  NaN  married    primary      no     1470   \n",
       "38637        2008-08-25   52  NaN  married  secondary      no      142   \n",
       "38703        2009-07-20   31  NaN  married  secondary      no        3   \n",
       "\n",
       "      housing loan   contact  duration  campaign  pdays  previous poutcome  \\\n",
       "256        no   no  cellular       258         2     -1         0      NaN   \n",
       "490       yes   no       NaN        40         2     -1         0      NaN   \n",
       "564       yes   no       NaN        74         2     -1         0      NaN   \n",
       "768        no   no  cellular       164         1     -1         0      NaN   \n",
       "790        no   no       NaN        97         6     -1         0      NaN   \n",
       "...       ...  ...       ...       ...       ...    ...       ...      ...   \n",
       "38048      no   no       NaN        45         1     -1         0      NaN   \n",
       "38549      no   no  cellular       238         2     -1         0      NaN   \n",
       "38597      no   no       NaN        74         1     -1         0      NaN   \n",
       "38637      no   no  cellular       112         6     -1         0      NaN   \n",
       "38703      no   no  cellular        91         2     -1         0      NaN   \n",
       "\n",
       "      target  \n",
       "256       no  \n",
       "490       no  \n",
       "564       no  \n",
       "768       no  \n",
       "790       no  \n",
       "...      ...  \n",
       "38048     no  \n",
       "38549     no  \n",
       "38597     no  \n",
       "38637     no  \n",
       "38703     no  \n",
       "\n",
       "[229 rows x 16 columns]"
      ]
     },
     "execution_count": 11,
     "metadata": {},
     "output_type": "execute_result"
    }
   ],
   "source": [
    "df[df['job'].isnull()]"
   ]
  },
  {
   "cell_type": "code",
   "execution_count": 12,
   "id": "023e516c",
   "metadata": {
    "execution": {
     "iopub.execute_input": "2024-11-15T06:47:13.226978Z",
     "iopub.status.busy": "2024-11-15T06:47:13.225938Z",
     "iopub.status.idle": "2024-11-15T06:47:13.255209Z",
     "shell.execute_reply": "2024-11-15T06:47:13.254044Z"
    },
    "papermill": {
     "duration": 0.072982,
     "end_time": "2024-11-15T06:47:13.257932",
     "exception": false,
     "start_time": "2024-11-15T06:47:13.184950",
     "status": "completed"
    },
    "tags": []
   },
   "outputs": [
    {
     "data": {
      "text/html": [
       "<div>\n",
       "<style scoped>\n",
       "    .dataframe tbody tr th:only-of-type {\n",
       "        vertical-align: middle;\n",
       "    }\n",
       "\n",
       "    .dataframe tbody tr th {\n",
       "        vertical-align: top;\n",
       "    }\n",
       "\n",
       "    .dataframe thead th {\n",
       "        text-align: right;\n",
       "    }\n",
       "</style>\n",
       "<table border=\"1\" class=\"dataframe\">\n",
       "  <thead>\n",
       "    <tr style=\"text-align: right;\">\n",
       "      <th></th>\n",
       "      <th>last contact date</th>\n",
       "      <th>age</th>\n",
       "      <th>job</th>\n",
       "      <th>marital</th>\n",
       "      <th>education</th>\n",
       "      <th>default</th>\n",
       "      <th>balance</th>\n",
       "      <th>housing</th>\n",
       "      <th>loan</th>\n",
       "      <th>contact</th>\n",
       "      <th>duration</th>\n",
       "      <th>campaign</th>\n",
       "      <th>pdays</th>\n",
       "      <th>previous</th>\n",
       "      <th>poutcome</th>\n",
       "      <th>target</th>\n",
       "    </tr>\n",
       "  </thead>\n",
       "  <tbody>\n",
       "    <tr>\n",
       "      <th>6</th>\n",
       "      <td>2009-05-15</td>\n",
       "      <td>46</td>\n",
       "      <td>blue-collar</td>\n",
       "      <td>married</td>\n",
       "      <td>secondary</td>\n",
       "      <td>no</td>\n",
       "      <td>668</td>\n",
       "      <td>yes</td>\n",
       "      <td>no</td>\n",
       "      <td>NaN</td>\n",
       "      <td>1263</td>\n",
       "      <td>2</td>\n",
       "      <td>-1</td>\n",
       "      <td>0</td>\n",
       "      <td>NaN</td>\n",
       "      <td>yes</td>\n",
       "    </tr>\n",
       "    <tr>\n",
       "      <th>7</th>\n",
       "      <td>2010-05-08</td>\n",
       "      <td>37</td>\n",
       "      <td>admin.</td>\n",
       "      <td>married</td>\n",
       "      <td>secondary</td>\n",
       "      <td>no</td>\n",
       "      <td>14</td>\n",
       "      <td>yes</td>\n",
       "      <td>no</td>\n",
       "      <td>NaN</td>\n",
       "      <td>176</td>\n",
       "      <td>2</td>\n",
       "      <td>-1</td>\n",
       "      <td>0</td>\n",
       "      <td>NaN</td>\n",
       "      <td>no</td>\n",
       "    </tr>\n",
       "    <tr>\n",
       "      <th>9</th>\n",
       "      <td>2010-05-21</td>\n",
       "      <td>31</td>\n",
       "      <td>technician</td>\n",
       "      <td>married</td>\n",
       "      <td>secondary</td>\n",
       "      <td>no</td>\n",
       "      <td>589</td>\n",
       "      <td>yes</td>\n",
       "      <td>yes</td>\n",
       "      <td>NaN</td>\n",
       "      <td>151</td>\n",
       "      <td>1</td>\n",
       "      <td>-1</td>\n",
       "      <td>0</td>\n",
       "      <td>NaN</td>\n",
       "      <td>no</td>\n",
       "    </tr>\n",
       "    <tr>\n",
       "      <th>11</th>\n",
       "      <td>2009-05-15</td>\n",
       "      <td>46</td>\n",
       "      <td>management</td>\n",
       "      <td>single</td>\n",
       "      <td>secondary</td>\n",
       "      <td>no</td>\n",
       "      <td>244</td>\n",
       "      <td>yes</td>\n",
       "      <td>no</td>\n",
       "      <td>NaN</td>\n",
       "      <td>244</td>\n",
       "      <td>1</td>\n",
       "      <td>-1</td>\n",
       "      <td>0</td>\n",
       "      <td>NaN</td>\n",
       "      <td>no</td>\n",
       "    </tr>\n",
       "    <tr>\n",
       "      <th>14</th>\n",
       "      <td>2008-05-07</td>\n",
       "      <td>33</td>\n",
       "      <td>management</td>\n",
       "      <td>single</td>\n",
       "      <td>tertiary</td>\n",
       "      <td>no</td>\n",
       "      <td>54</td>\n",
       "      <td>no</td>\n",
       "      <td>no</td>\n",
       "      <td>NaN</td>\n",
       "      <td>262</td>\n",
       "      <td>2</td>\n",
       "      <td>-1</td>\n",
       "      <td>0</td>\n",
       "      <td>NaN</td>\n",
       "      <td>no</td>\n",
       "    </tr>\n",
       "    <tr>\n",
       "      <th>...</th>\n",
       "      <td>...</td>\n",
       "      <td>...</td>\n",
       "      <td>...</td>\n",
       "      <td>...</td>\n",
       "      <td>...</td>\n",
       "      <td>...</td>\n",
       "      <td>...</td>\n",
       "      <td>...</td>\n",
       "      <td>...</td>\n",
       "      <td>...</td>\n",
       "      <td>...</td>\n",
       "      <td>...</td>\n",
       "      <td>...</td>\n",
       "      <td>...</td>\n",
       "      <td>...</td>\n",
       "      <td>...</td>\n",
       "    </tr>\n",
       "    <tr>\n",
       "      <th>39196</th>\n",
       "      <td>2010-06-04</td>\n",
       "      <td>50</td>\n",
       "      <td>unemployed</td>\n",
       "      <td>married</td>\n",
       "      <td>secondary</td>\n",
       "      <td>no</td>\n",
       "      <td>306</td>\n",
       "      <td>yes</td>\n",
       "      <td>no</td>\n",
       "      <td>NaN</td>\n",
       "      <td>117</td>\n",
       "      <td>1</td>\n",
       "      <td>-1</td>\n",
       "      <td>0</td>\n",
       "      <td>NaN</td>\n",
       "      <td>no</td>\n",
       "    </tr>\n",
       "    <tr>\n",
       "      <th>39199</th>\n",
       "      <td>2010-05-27</td>\n",
       "      <td>40</td>\n",
       "      <td>blue-collar</td>\n",
       "      <td>married</td>\n",
       "      <td>primary</td>\n",
       "      <td>yes</td>\n",
       "      <td>-56</td>\n",
       "      <td>yes</td>\n",
       "      <td>no</td>\n",
       "      <td>NaN</td>\n",
       "      <td>316</td>\n",
       "      <td>1</td>\n",
       "      <td>-1</td>\n",
       "      <td>0</td>\n",
       "      <td>NaN</td>\n",
       "      <td>no</td>\n",
       "    </tr>\n",
       "    <tr>\n",
       "      <th>39204</th>\n",
       "      <td>2008-05-28</td>\n",
       "      <td>32</td>\n",
       "      <td>management</td>\n",
       "      <td>married</td>\n",
       "      <td>tertiary</td>\n",
       "      <td>no</td>\n",
       "      <td>4307</td>\n",
       "      <td>yes</td>\n",
       "      <td>no</td>\n",
       "      <td>NaN</td>\n",
       "      <td>91</td>\n",
       "      <td>3</td>\n",
       "      <td>-1</td>\n",
       "      <td>0</td>\n",
       "      <td>NaN</td>\n",
       "      <td>no</td>\n",
       "    </tr>\n",
       "    <tr>\n",
       "      <th>39205</th>\n",
       "      <td>2009-11-12</td>\n",
       "      <td>34</td>\n",
       "      <td>admin.</td>\n",
       "      <td>married</td>\n",
       "      <td>tertiary</td>\n",
       "      <td>no</td>\n",
       "      <td>899</td>\n",
       "      <td>yes</td>\n",
       "      <td>no</td>\n",
       "      <td>NaN</td>\n",
       "      <td>114</td>\n",
       "      <td>1</td>\n",
       "      <td>170</td>\n",
       "      <td>3</td>\n",
       "      <td>failure</td>\n",
       "      <td>yes</td>\n",
       "    </tr>\n",
       "    <tr>\n",
       "      <th>39208</th>\n",
       "      <td>2008-06-02</td>\n",
       "      <td>36</td>\n",
       "      <td>blue-collar</td>\n",
       "      <td>married</td>\n",
       "      <td>secondary</td>\n",
       "      <td>no</td>\n",
       "      <td>63</td>\n",
       "      <td>yes</td>\n",
       "      <td>no</td>\n",
       "      <td>NaN</td>\n",
       "      <td>56</td>\n",
       "      <td>8</td>\n",
       "      <td>-1</td>\n",
       "      <td>0</td>\n",
       "      <td>NaN</td>\n",
       "      <td>no</td>\n",
       "    </tr>\n",
       "  </tbody>\n",
       "</table>\n",
       "<p>10336 rows × 16 columns</p>\n",
       "</div>"
      ],
      "text/plain": [
       "      last contact date  age          job  marital  education default  \\\n",
       "6            2009-05-15   46  blue-collar  married  secondary      no   \n",
       "7            2010-05-08   37       admin.  married  secondary      no   \n",
       "9            2010-05-21   31   technician  married  secondary      no   \n",
       "11           2009-05-15   46   management   single  secondary      no   \n",
       "14           2008-05-07   33   management   single   tertiary      no   \n",
       "...                 ...  ...          ...      ...        ...     ...   \n",
       "39196        2010-06-04   50   unemployed  married  secondary      no   \n",
       "39199        2010-05-27   40  blue-collar  married    primary     yes   \n",
       "39204        2008-05-28   32   management  married   tertiary      no   \n",
       "39205        2009-11-12   34       admin.  married   tertiary      no   \n",
       "39208        2008-06-02   36  blue-collar  married  secondary      no   \n",
       "\n",
       "       balance housing loan contact  duration  campaign  pdays  previous  \\\n",
       "6          668     yes   no     NaN      1263         2     -1         0   \n",
       "7           14     yes   no     NaN       176         2     -1         0   \n",
       "9          589     yes  yes     NaN       151         1     -1         0   \n",
       "11         244     yes   no     NaN       244         1     -1         0   \n",
       "14          54      no   no     NaN       262         2     -1         0   \n",
       "...        ...     ...  ...     ...       ...       ...    ...       ...   \n",
       "39196      306     yes   no     NaN       117         1     -1         0   \n",
       "39199      -56     yes   no     NaN       316         1     -1         0   \n",
       "39204     4307     yes   no     NaN        91         3     -1         0   \n",
       "39205      899     yes   no     NaN       114         1    170         3   \n",
       "39208       63     yes   no     NaN        56         8     -1         0   \n",
       "\n",
       "      poutcome target  \n",
       "6          NaN    yes  \n",
       "7          NaN     no  \n",
       "9          NaN     no  \n",
       "11         NaN     no  \n",
       "14         NaN     no  \n",
       "...        ...    ...  \n",
       "39196      NaN     no  \n",
       "39199      NaN     no  \n",
       "39204      NaN     no  \n",
       "39205  failure    yes  \n",
       "39208      NaN     no  \n",
       "\n",
       "[10336 rows x 16 columns]"
      ]
     },
     "execution_count": 12,
     "metadata": {},
     "output_type": "execute_result"
    }
   ],
   "source": [
    "df[df['contact'].isnull()]"
   ]
  },
  {
   "cell_type": "code",
   "execution_count": 13,
   "id": "93cf7468",
   "metadata": {
    "execution": {
     "iopub.execute_input": "2024-11-15T06:47:13.336509Z",
     "iopub.status.busy": "2024-11-15T06:47:13.335718Z",
     "iopub.status.idle": "2024-11-15T06:47:13.351180Z",
     "shell.execute_reply": "2024-11-15T06:47:13.350028Z"
    },
    "papermill": {
     "duration": 0.057686,
     "end_time": "2024-11-15T06:47:13.353737",
     "exception": false,
     "start_time": "2024-11-15T06:47:13.296051",
     "status": "completed"
    },
    "tags": []
   },
   "outputs": [
    {
     "data": {
      "text/plain": [
       "education\n",
       "secondary    19584\n",
       "tertiary     11615\n",
       "primary       6545\n",
       "Name: count, dtype: int64"
      ]
     },
     "execution_count": 13,
     "metadata": {},
     "output_type": "execute_result"
    }
   ],
   "source": [
    "df['education'].value_counts()"
   ]
  },
  {
   "cell_type": "code",
   "execution_count": 14,
   "id": "b3b20673",
   "metadata": {
    "execution": {
     "iopub.execute_input": "2024-11-15T06:47:13.434516Z",
     "iopub.status.busy": "2024-11-15T06:47:13.433445Z",
     "iopub.status.idle": "2024-11-15T06:47:13.462512Z",
     "shell.execute_reply": "2024-11-15T06:47:13.461404Z"
    },
    "papermill": {
     "duration": 0.071938,
     "end_time": "2024-11-15T06:47:13.465195",
     "exception": false,
     "start_time": "2024-11-15T06:47:13.393257",
     "status": "completed"
    },
    "tags": []
   },
   "outputs": [
    {
     "data": {
      "text/html": [
       "<div>\n",
       "<style scoped>\n",
       "    .dataframe tbody tr th:only-of-type {\n",
       "        vertical-align: middle;\n",
       "    }\n",
       "\n",
       "    .dataframe tbody tr th {\n",
       "        vertical-align: top;\n",
       "    }\n",
       "\n",
       "    .dataframe thead th {\n",
       "        text-align: right;\n",
       "    }\n",
       "</style>\n",
       "<table border=\"1\" class=\"dataframe\">\n",
       "  <thead>\n",
       "    <tr style=\"text-align: right;\">\n",
       "      <th></th>\n",
       "      <th>last contact date</th>\n",
       "      <th>age</th>\n",
       "      <th>job</th>\n",
       "      <th>marital</th>\n",
       "      <th>education</th>\n",
       "      <th>default</th>\n",
       "      <th>balance</th>\n",
       "      <th>housing</th>\n",
       "      <th>loan</th>\n",
       "      <th>contact</th>\n",
       "      <th>duration</th>\n",
       "      <th>campaign</th>\n",
       "      <th>pdays</th>\n",
       "      <th>previous</th>\n",
       "      <th>poutcome</th>\n",
       "      <th>target</th>\n",
       "    </tr>\n",
       "  </thead>\n",
       "  <tbody>\n",
       "    <tr>\n",
       "      <th>23</th>\n",
       "      <td>2008-07-03</td>\n",
       "      <td>35</td>\n",
       "      <td>blue-collar</td>\n",
       "      <td>married</td>\n",
       "      <td>NaN</td>\n",
       "      <td>no</td>\n",
       "      <td>-400</td>\n",
       "      <td>yes</td>\n",
       "      <td>yes</td>\n",
       "      <td>NaN</td>\n",
       "      <td>85</td>\n",
       "      <td>1</td>\n",
       "      <td>-1</td>\n",
       "      <td>0</td>\n",
       "      <td>NaN</td>\n",
       "      <td>no</td>\n",
       "    </tr>\n",
       "    <tr>\n",
       "      <th>25</th>\n",
       "      <td>2009-05-05</td>\n",
       "      <td>47</td>\n",
       "      <td>blue-collar</td>\n",
       "      <td>married</td>\n",
       "      <td>NaN</td>\n",
       "      <td>no</td>\n",
       "      <td>1506</td>\n",
       "      <td>yes</td>\n",
       "      <td>no</td>\n",
       "      <td>NaN</td>\n",
       "      <td>92</td>\n",
       "      <td>1</td>\n",
       "      <td>-1</td>\n",
       "      <td>0</td>\n",
       "      <td>NaN</td>\n",
       "      <td>no</td>\n",
       "    </tr>\n",
       "    <tr>\n",
       "      <th>38</th>\n",
       "      <td>2009-02-05</td>\n",
       "      <td>26</td>\n",
       "      <td>student</td>\n",
       "      <td>single</td>\n",
       "      <td>NaN</td>\n",
       "      <td>no</td>\n",
       "      <td>198</td>\n",
       "      <td>no</td>\n",
       "      <td>no</td>\n",
       "      <td>cellular</td>\n",
       "      <td>161</td>\n",
       "      <td>1</td>\n",
       "      <td>-1</td>\n",
       "      <td>0</td>\n",
       "      <td>NaN</td>\n",
       "      <td>no</td>\n",
       "    </tr>\n",
       "    <tr>\n",
       "      <th>41</th>\n",
       "      <td>2008-06-04</td>\n",
       "      <td>41</td>\n",
       "      <td>technician</td>\n",
       "      <td>single</td>\n",
       "      <td>NaN</td>\n",
       "      <td>no</td>\n",
       "      <td>454</td>\n",
       "      <td>yes</td>\n",
       "      <td>no</td>\n",
       "      <td>NaN</td>\n",
       "      <td>267</td>\n",
       "      <td>2</td>\n",
       "      <td>-1</td>\n",
       "      <td>0</td>\n",
       "      <td>NaN</td>\n",
       "      <td>no</td>\n",
       "    </tr>\n",
       "    <tr>\n",
       "      <th>60</th>\n",
       "      <td>2010-05-13</td>\n",
       "      <td>43</td>\n",
       "      <td>blue-collar</td>\n",
       "      <td>married</td>\n",
       "      <td>NaN</td>\n",
       "      <td>no</td>\n",
       "      <td>-633</td>\n",
       "      <td>yes</td>\n",
       "      <td>yes</td>\n",
       "      <td>NaN</td>\n",
       "      <td>277</td>\n",
       "      <td>1</td>\n",
       "      <td>-1</td>\n",
       "      <td>0</td>\n",
       "      <td>NaN</td>\n",
       "      <td>no</td>\n",
       "    </tr>\n",
       "    <tr>\n",
       "      <th>...</th>\n",
       "      <td>...</td>\n",
       "      <td>...</td>\n",
       "      <td>...</td>\n",
       "      <td>...</td>\n",
       "      <td>...</td>\n",
       "      <td>...</td>\n",
       "      <td>...</td>\n",
       "      <td>...</td>\n",
       "      <td>...</td>\n",
       "      <td>...</td>\n",
       "      <td>...</td>\n",
       "      <td>...</td>\n",
       "      <td>...</td>\n",
       "      <td>...</td>\n",
       "      <td>...</td>\n",
       "      <td>...</td>\n",
       "    </tr>\n",
       "    <tr>\n",
       "      <th>39066</th>\n",
       "      <td>2010-05-26</td>\n",
       "      <td>25</td>\n",
       "      <td>student</td>\n",
       "      <td>single</td>\n",
       "      <td>NaN</td>\n",
       "      <td>no</td>\n",
       "      <td>3</td>\n",
       "      <td>no</td>\n",
       "      <td>no</td>\n",
       "      <td>cellular</td>\n",
       "      <td>170</td>\n",
       "      <td>1</td>\n",
       "      <td>-1</td>\n",
       "      <td>0</td>\n",
       "      <td>NaN</td>\n",
       "      <td>yes</td>\n",
       "    </tr>\n",
       "    <tr>\n",
       "      <th>39088</th>\n",
       "      <td>2010-05-11</td>\n",
       "      <td>39</td>\n",
       "      <td>admin.</td>\n",
       "      <td>single</td>\n",
       "      <td>NaN</td>\n",
       "      <td>no</td>\n",
       "      <td>0</td>\n",
       "      <td>yes</td>\n",
       "      <td>no</td>\n",
       "      <td>cellular</td>\n",
       "      <td>62</td>\n",
       "      <td>1</td>\n",
       "      <td>-1</td>\n",
       "      <td>0</td>\n",
       "      <td>NaN</td>\n",
       "      <td>no</td>\n",
       "    </tr>\n",
       "    <tr>\n",
       "      <th>39143</th>\n",
       "      <td>2008-10-20</td>\n",
       "      <td>77</td>\n",
       "      <td>retired</td>\n",
       "      <td>married</td>\n",
       "      <td>NaN</td>\n",
       "      <td>no</td>\n",
       "      <td>1807</td>\n",
       "      <td>no</td>\n",
       "      <td>no</td>\n",
       "      <td>telephone</td>\n",
       "      <td>373</td>\n",
       "      <td>1</td>\n",
       "      <td>-1</td>\n",
       "      <td>0</td>\n",
       "      <td>NaN</td>\n",
       "      <td>yes</td>\n",
       "    </tr>\n",
       "    <tr>\n",
       "      <th>39158</th>\n",
       "      <td>2009-07-23</td>\n",
       "      <td>42</td>\n",
       "      <td>blue-collar</td>\n",
       "      <td>married</td>\n",
       "      <td>NaN</td>\n",
       "      <td>no</td>\n",
       "      <td>149</td>\n",
       "      <td>yes</td>\n",
       "      <td>no</td>\n",
       "      <td>telephone</td>\n",
       "      <td>329</td>\n",
       "      <td>3</td>\n",
       "      <td>-1</td>\n",
       "      <td>0</td>\n",
       "      <td>NaN</td>\n",
       "      <td>no</td>\n",
       "    </tr>\n",
       "    <tr>\n",
       "      <th>39173</th>\n",
       "      <td>2008-05-05</td>\n",
       "      <td>35</td>\n",
       "      <td>student</td>\n",
       "      <td>single</td>\n",
       "      <td>NaN</td>\n",
       "      <td>no</td>\n",
       "      <td>298</td>\n",
       "      <td>yes</td>\n",
       "      <td>no</td>\n",
       "      <td>NaN</td>\n",
       "      <td>611</td>\n",
       "      <td>2</td>\n",
       "      <td>-1</td>\n",
       "      <td>0</td>\n",
       "      <td>NaN</td>\n",
       "      <td>no</td>\n",
       "    </tr>\n",
       "  </tbody>\n",
       "</table>\n",
       "<p>1467 rows × 16 columns</p>\n",
       "</div>"
      ],
      "text/plain": [
       "      last contact date  age          job  marital education default  balance  \\\n",
       "23           2008-07-03   35  blue-collar  married       NaN      no     -400   \n",
       "25           2009-05-05   47  blue-collar  married       NaN      no     1506   \n",
       "38           2009-02-05   26      student   single       NaN      no      198   \n",
       "41           2008-06-04   41   technician   single       NaN      no      454   \n",
       "60           2010-05-13   43  blue-collar  married       NaN      no     -633   \n",
       "...                 ...  ...          ...      ...       ...     ...      ...   \n",
       "39066        2010-05-26   25      student   single       NaN      no        3   \n",
       "39088        2010-05-11   39       admin.   single       NaN      no        0   \n",
       "39143        2008-10-20   77      retired  married       NaN      no     1807   \n",
       "39158        2009-07-23   42  blue-collar  married       NaN      no      149   \n",
       "39173        2008-05-05   35      student   single       NaN      no      298   \n",
       "\n",
       "      housing loan    contact  duration  campaign  pdays  previous poutcome  \\\n",
       "23        yes  yes        NaN        85         1     -1         0      NaN   \n",
       "25        yes   no        NaN        92         1     -1         0      NaN   \n",
       "38         no   no   cellular       161         1     -1         0      NaN   \n",
       "41        yes   no        NaN       267         2     -1         0      NaN   \n",
       "60        yes  yes        NaN       277         1     -1         0      NaN   \n",
       "...       ...  ...        ...       ...       ...    ...       ...      ...   \n",
       "39066      no   no   cellular       170         1     -1         0      NaN   \n",
       "39088     yes   no   cellular        62         1     -1         0      NaN   \n",
       "39143      no   no  telephone       373         1     -1         0      NaN   \n",
       "39158     yes   no  telephone       329         3     -1         0      NaN   \n",
       "39173     yes   no        NaN       611         2     -1         0      NaN   \n",
       "\n",
       "      target  \n",
       "23        no  \n",
       "25        no  \n",
       "38        no  \n",
       "41        no  \n",
       "60        no  \n",
       "...      ...  \n",
       "39066    yes  \n",
       "39088     no  \n",
       "39143    yes  \n",
       "39158     no  \n",
       "39173     no  \n",
       "\n",
       "[1467 rows x 16 columns]"
      ]
     },
     "execution_count": 14,
     "metadata": {},
     "output_type": "execute_result"
    }
   ],
   "source": [
    "df[df['education'].isnull()]"
   ]
  },
  {
   "cell_type": "markdown",
   "id": "e1118d11",
   "metadata": {
    "papermill": {
     "duration": 0.099337,
     "end_time": "2024-11-15T06:47:13.603530",
     "exception": false,
     "start_time": "2024-11-15T06:47:13.504193",
     "status": "completed"
    },
    "tags": []
   },
   "source": [
    "> ## **EDA Process**"
   ]
  },
  {
   "cell_type": "code",
   "execution_count": 15,
   "id": "97af7f8e",
   "metadata": {
    "execution": {
     "iopub.execute_input": "2024-11-15T06:47:13.683688Z",
     "iopub.status.busy": "2024-11-15T06:47:13.682692Z",
     "iopub.status.idle": "2024-11-15T06:47:14.379400Z",
     "shell.execute_reply": "2024-11-15T06:47:14.377833Z"
    },
    "papermill": {
     "duration": 0.739584,
     "end_time": "2024-11-15T06:47:14.382087",
     "exception": false,
     "start_time": "2024-11-15T06:47:13.642503",
     "status": "completed"
    },
    "tags": []
   },
   "outputs": [
    {
     "name": "stdout",
     "output_type": "stream",
     "text": [
      "<class 'pandas.core.frame.DataFrame'>\n",
      "RangeIndex: 39211 entries, 0 to 39210\n",
      "Data columns (total 16 columns):\n",
      " #   Column             Non-Null Count  Dtype \n",
      "---  ------             --------------  ----- \n",
      " 0   last contact date  39211 non-null  object\n",
      " 1   age                39211 non-null  int64 \n",
      " 2   job                38982 non-null  object\n",
      " 3   marital            39211 non-null  object\n",
      " 4   education          37744 non-null  object\n",
      " 5   default            39211 non-null  object\n",
      " 6   balance            39211 non-null  int64 \n",
      " 7   housing            39211 non-null  object\n",
      " 8   loan               39211 non-null  object\n",
      " 9   contact            28875 non-null  object\n",
      " 10  duration           39211 non-null  int64 \n",
      " 11  campaign           39211 non-null  int64 \n",
      " 12  pdays              39211 non-null  int64 \n",
      " 13  previous           39211 non-null  int64 \n",
      " 14  poutcome           9760 non-null   object\n",
      " 15  target             39211 non-null  object\n",
      "dtypes: int64(6), object(10)\n",
      "memory usage: 4.8+ MB\n"
     ]
    }
   ],
   "source": [
    "import pandas as pd\n",
    "import numpy as np\n",
    "import seaborn as sns\n",
    "import matplotlib.pyplot as plt\n",
    "\n",
    "\n",
    "x = df.drop('target',axis=1)\n",
    "y = df['target']\n",
    "df.info()"
   ]
  },
  {
   "cell_type": "markdown",
   "id": "fa485fb4",
   "metadata": {
    "papermill": {
     "duration": 0.03948,
     "end_time": "2024-11-15T06:47:14.461096",
     "exception": false,
     "start_time": "2024-11-15T06:47:14.421616",
     "status": "completed"
    },
    "tags": []
   },
   "source": [
    "\n",
    "`Numerical Variables` : **age, balance, duration, campaign, pdays, previous**\n",
    "\n",
    "`Categorical Variables`:  **last contact date,job,marital,education,default,housing,loan,contact,poutcome,target**\n"
   ]
  },
  {
   "cell_type": "markdown",
   "id": "89eba87c",
   "metadata": {
    "papermill": {
     "duration": 0.038829,
     "end_time": "2024-11-15T06:47:14.539421",
     "exception": false,
     "start_time": "2024-11-15T06:47:14.500592",
     "status": "completed"
    },
    "tags": []
   },
   "source": [
    "> ## Age\n",
    "> \n",
    "> **conclusion**\n",
    ">  1. As it can be seen in below observations, data for age is positively skewed\n",
    ">  2. There are many outliers on the maximum side\n",
    ">  3. out of 1002 outliers 146 belongs to student job title which seems absurd"
   ]
  },
  {
   "cell_type": "code",
   "execution_count": 16,
   "id": "1967535c",
   "metadata": {
    "execution": {
     "iopub.execute_input": "2024-11-15T06:47:14.620849Z",
     "iopub.status.busy": "2024-11-15T06:47:14.619850Z",
     "iopub.status.idle": "2024-11-15T06:47:14.633658Z",
     "shell.execute_reply": "2024-11-15T06:47:14.632438Z"
    },
    "papermill": {
     "duration": 0.057836,
     "end_time": "2024-11-15T06:47:14.636289",
     "exception": false,
     "start_time": "2024-11-15T06:47:14.578453",
     "status": "completed"
    },
    "tags": []
   },
   "outputs": [
    {
     "data": {
      "text/plain": [
       "count    39211.000000\n",
       "mean        42.120247\n",
       "std         12.709352\n",
       "min         18.000000\n",
       "25%         33.000000\n",
       "50%         40.000000\n",
       "75%         50.000000\n",
       "max         95.000000\n",
       "Name: age, dtype: float64"
      ]
     },
     "execution_count": 16,
     "metadata": {},
     "output_type": "execute_result"
    }
   ],
   "source": [
    "df['age'].describe()"
   ]
  },
  {
   "cell_type": "code",
   "execution_count": 17,
   "id": "3a5fd584",
   "metadata": {
    "execution": {
     "iopub.execute_input": "2024-11-15T06:47:14.716738Z",
     "iopub.status.busy": "2024-11-15T06:47:14.716291Z",
     "iopub.status.idle": "2024-11-15T06:47:15.108281Z",
     "shell.execute_reply": "2024-11-15T06:47:15.107019Z"
    },
    "papermill": {
     "duration": 0.435526,
     "end_time": "2024-11-15T06:47:15.111007",
     "exception": false,
     "start_time": "2024-11-15T06:47:14.675481",
     "status": "completed"
    },
    "tags": []
   },
   "outputs": [
    {
     "data": {
      "text/plain": [
       "<Axes: ylabel='Frequency'>"
      ]
     },
     "execution_count": 17,
     "metadata": {},
     "output_type": "execute_result"
    },
    {
     "data": {
      "image/png": "[encoded data removed]",
      "text/plain": [
       "<Figure size 640x480 with 1 Axes>"
      ]
     },
     "metadata": {},
     "output_type": "display_data"
    }
   ],
   "source": [
    "df['age'].plot(kind='hist',bins=20)"
   ]
  },
  {
   "cell_type": "code",
   "execution_count": 18,
   "id": "a0478035",
   "metadata": {
    "execution": {
     "iopub.execute_input": "2024-11-15T06:47:15.194150Z",
     "iopub.status.busy": "2024-11-15T06:47:15.193687Z",
     "iopub.status.idle": "2024-11-15T06:47:16.391486Z",
     "shell.execute_reply": "2024-11-15T06:47:16.390317Z"
    },
    "papermill": {
     "duration": 1.242823,
     "end_time": "2024-11-15T06:47:16.394339",
     "exception": false,
     "start_time": "2024-11-15T06:47:15.151516",
     "status": "completed"
    },
    "tags": []
   },
   "outputs": [
    {
     "data": {
      "text/plain": [
       "<Axes: ylabel='Density'>"
      ]
     },
     "execution_count": 18,
     "metadata": {},
     "output_type": "execute_result"
    },
    {
     "data": {
      "image/png": "[encoded data removed]",
      "text/plain": [
       "<Figure size 640x480 with 1 Axes>"
      ]
     },
     "metadata": {},
     "output_type": "display_data"
    }
   ],
   "source": [
    "df['age'].plot(kind='kde')"
   ]
  },
  {
   "cell_type": "code",
   "execution_count": 19,
   "id": "3c592dcf",
   "metadata": {
    "execution": {
     "iopub.execute_input": "2024-11-15T06:47:16.478562Z",
     "iopub.status.busy": "2024-11-15T06:47:16.478096Z",
     "iopub.status.idle": "2024-11-15T06:47:16.486638Z",
     "shell.execute_reply": "2024-11-15T06:47:16.485485Z"
    },
    "papermill": {
     "duration": 0.053619,
     "end_time": "2024-11-15T06:47:16.489142",
     "exception": false,
     "start_time": "2024-11-15T06:47:16.435523",
     "status": "completed"
    },
    "tags": []
   },
   "outputs": [
    {
     "data": {
      "text/plain": [
       "1.124277825963419"
      ]
     },
     "execution_count": 19,
     "metadata": {},
     "output_type": "execute_result"
    }
   ],
   "source": [
    "df['age'].skew()"
   ]
  },
  {
   "cell_type": "code",
   "execution_count": 20,
   "id": "b97723ae",
   "metadata": {
    "execution": {
     "iopub.execute_input": "2024-11-15T06:47:16.571897Z",
     "iopub.status.busy": "2024-11-15T06:47:16.571454Z",
     "iopub.status.idle": "2024-11-15T06:47:16.819037Z",
     "shell.execute_reply": "2024-11-15T06:47:16.817729Z"
    },
    "papermill": {
     "duration": 0.291947,
     "end_time": "2024-11-15T06:47:16.821548",
     "exception": false,
     "start_time": "2024-11-15T06:47:16.529601",
     "status": "completed"
    },
    "tags": []
   },
   "outputs": [
    {
     "data": {
      "text/plain": [
       "<Axes: >"
      ]
     },
     "execution_count": 20,
     "metadata": {},
     "output_type": "execute_result"
    },
    {
     "data": {
      "image/png": "[encoded data removed]",
      "text/plain": [
       "<Figure size 640x480 with 1 Axes>"
      ]
     },
     "metadata": {},
     "output_type": "display_data"
    }
   ],
   "source": [
    "df['age'].plot(kind='box')"
   ]
  },
  {
   "cell_type": "code",
   "execution_count": 21,
   "id": "30e08394",
   "metadata": {
    "execution": {
     "iopub.execute_input": "2024-11-15T06:47:16.907131Z",
     "iopub.status.busy": "2024-11-15T06:47:16.906649Z",
     "iopub.status.idle": "2024-11-15T06:47:16.932097Z",
     "shell.execute_reply": "2024-11-15T06:47:16.930864Z"
    },
    "papermill": {
     "duration": 0.071976,
     "end_time": "2024-11-15T06:47:16.934618",
     "exception": false,
     "start_time": "2024-11-15T06:47:16.862642",
     "status": "completed"
    },
    "tags": []
   },
   "outputs": [
    {
     "data": {
      "text/html": [
       "<div>\n",
       "<style scoped>\n",
       "    .dataframe tbody tr th:only-of-type {\n",
       "        vertical-align: middle;\n",
       "    }\n",
       "\n",
       "    .dataframe tbody tr th {\n",
       "        vertical-align: top;\n",
       "    }\n",
       "\n",
       "    .dataframe thead th {\n",
       "        text-align: right;\n",
       "    }\n",
       "</style>\n",
       "<table border=\"1\" class=\"dataframe\">\n",
       "  <thead>\n",
       "    <tr style=\"text-align: right;\">\n",
       "      <th></th>\n",
       "      <th>last contact date</th>\n",
       "      <th>age</th>\n",
       "      <th>job</th>\n",
       "      <th>marital</th>\n",
       "      <th>education</th>\n",
       "      <th>default</th>\n",
       "      <th>balance</th>\n",
       "      <th>housing</th>\n",
       "      <th>loan</th>\n",
       "      <th>contact</th>\n",
       "      <th>duration</th>\n",
       "      <th>campaign</th>\n",
       "      <th>pdays</th>\n",
       "      <th>previous</th>\n",
       "      <th>poutcome</th>\n",
       "      <th>target</th>\n",
       "    </tr>\n",
       "  </thead>\n",
       "  <tbody>\n",
       "    <tr>\n",
       "      <th>19</th>\n",
       "      <td>2009-10-30</td>\n",
       "      <td>86</td>\n",
       "      <td>student</td>\n",
       "      <td>divorced</td>\n",
       "      <td>primary</td>\n",
       "      <td>yes</td>\n",
       "      <td>22272</td>\n",
       "      <td>no</td>\n",
       "      <td>no</td>\n",
       "      <td>cellular</td>\n",
       "      <td>283</td>\n",
       "      <td>44</td>\n",
       "      <td>599</td>\n",
       "      <td>234</td>\n",
       "      <td>success</td>\n",
       "      <td>no</td>\n",
       "    </tr>\n",
       "    <tr>\n",
       "      <th>106</th>\n",
       "      <td>2010-10-13</td>\n",
       "      <td>83</td>\n",
       "      <td>retired</td>\n",
       "      <td>single</td>\n",
       "      <td>primary</td>\n",
       "      <td>no</td>\n",
       "      <td>1965</td>\n",
       "      <td>no</td>\n",
       "      <td>no</td>\n",
       "      <td>telephone</td>\n",
       "      <td>1003</td>\n",
       "      <td>3</td>\n",
       "      <td>-1</td>\n",
       "      <td>0</td>\n",
       "      <td>NaN</td>\n",
       "      <td>yes</td>\n",
       "    </tr>\n",
       "    <tr>\n",
       "      <th>160</th>\n",
       "      <td>2010-03-09</td>\n",
       "      <td>80</td>\n",
       "      <td>entrepreneur</td>\n",
       "      <td>married</td>\n",
       "      <td>secondary</td>\n",
       "      <td>yes</td>\n",
       "      <td>68191</td>\n",
       "      <td>no</td>\n",
       "      <td>no</td>\n",
       "      <td>cellular</td>\n",
       "      <td>1505</td>\n",
       "      <td>7</td>\n",
       "      <td>596</td>\n",
       "      <td>119</td>\n",
       "      <td>other</td>\n",
       "      <td>yes</td>\n",
       "    </tr>\n",
       "    <tr>\n",
       "      <th>167</th>\n",
       "      <td>2009-08-12</td>\n",
       "      <td>76</td>\n",
       "      <td>retired</td>\n",
       "      <td>divorced</td>\n",
       "      <td>primary</td>\n",
       "      <td>no</td>\n",
       "      <td>86</td>\n",
       "      <td>no</td>\n",
       "      <td>no</td>\n",
       "      <td>cellular</td>\n",
       "      <td>192</td>\n",
       "      <td>1</td>\n",
       "      <td>-1</td>\n",
       "      <td>0</td>\n",
       "      <td>NaN</td>\n",
       "      <td>no</td>\n",
       "    </tr>\n",
       "    <tr>\n",
       "      <th>213</th>\n",
       "      <td>2009-03-02</td>\n",
       "      <td>93</td>\n",
       "      <td>housemaid</td>\n",
       "      <td>single</td>\n",
       "      <td>secondary</td>\n",
       "      <td>no</td>\n",
       "      <td>29594</td>\n",
       "      <td>no</td>\n",
       "      <td>yes</td>\n",
       "      <td>telephone</td>\n",
       "      <td>1586</td>\n",
       "      <td>4</td>\n",
       "      <td>31</td>\n",
       "      <td>116</td>\n",
       "      <td>failure</td>\n",
       "      <td>yes</td>\n",
       "    </tr>\n",
       "    <tr>\n",
       "      <th>...</th>\n",
       "      <td>...</td>\n",
       "      <td>...</td>\n",
       "      <td>...</td>\n",
       "      <td>...</td>\n",
       "      <td>...</td>\n",
       "      <td>...</td>\n",
       "      <td>...</td>\n",
       "      <td>...</td>\n",
       "      <td>...</td>\n",
       "      <td>...</td>\n",
       "      <td>...</td>\n",
       "      <td>...</td>\n",
       "      <td>...</td>\n",
       "      <td>...</td>\n",
       "      <td>...</td>\n",
       "      <td>...</td>\n",
       "    </tr>\n",
       "    <tr>\n",
       "      <th>39118</th>\n",
       "      <td>2009-10-22</td>\n",
       "      <td>85</td>\n",
       "      <td>housemaid</td>\n",
       "      <td>divorced</td>\n",
       "      <td>tertiary</td>\n",
       "      <td>yes</td>\n",
       "      <td>98141</td>\n",
       "      <td>yes</td>\n",
       "      <td>yes</td>\n",
       "      <td>cellular</td>\n",
       "      <td>1780</td>\n",
       "      <td>39</td>\n",
       "      <td>728</td>\n",
       "      <td>209</td>\n",
       "      <td>failure</td>\n",
       "      <td>yes</td>\n",
       "    </tr>\n",
       "    <tr>\n",
       "      <th>39123</th>\n",
       "      <td>2008-12-01</td>\n",
       "      <td>88</td>\n",
       "      <td>unemployed</td>\n",
       "      <td>single</td>\n",
       "      <td>secondary</td>\n",
       "      <td>yes</td>\n",
       "      <td>36960</td>\n",
       "      <td>yes</td>\n",
       "      <td>no</td>\n",
       "      <td>telephone</td>\n",
       "      <td>1631</td>\n",
       "      <td>9</td>\n",
       "      <td>578</td>\n",
       "      <td>267</td>\n",
       "      <td>other</td>\n",
       "      <td>no</td>\n",
       "    </tr>\n",
       "    <tr>\n",
       "      <th>39143</th>\n",
       "      <td>2008-10-20</td>\n",
       "      <td>77</td>\n",
       "      <td>retired</td>\n",
       "      <td>married</td>\n",
       "      <td>NaN</td>\n",
       "      <td>no</td>\n",
       "      <td>1807</td>\n",
       "      <td>no</td>\n",
       "      <td>no</td>\n",
       "      <td>telephone</td>\n",
       "      <td>373</td>\n",
       "      <td>1</td>\n",
       "      <td>-1</td>\n",
       "      <td>0</td>\n",
       "      <td>NaN</td>\n",
       "      <td>yes</td>\n",
       "    </tr>\n",
       "    <tr>\n",
       "      <th>39147</th>\n",
       "      <td>2008-12-01</td>\n",
       "      <td>91</td>\n",
       "      <td>unemployed</td>\n",
       "      <td>divorced</td>\n",
       "      <td>primary</td>\n",
       "      <td>yes</td>\n",
       "      <td>16507</td>\n",
       "      <td>no</td>\n",
       "      <td>yes</td>\n",
       "      <td>cellular</td>\n",
       "      <td>3182</td>\n",
       "      <td>31</td>\n",
       "      <td>459</td>\n",
       "      <td>22</td>\n",
       "      <td>other</td>\n",
       "      <td>no</td>\n",
       "    </tr>\n",
       "    <tr>\n",
       "      <th>39149</th>\n",
       "      <td>2008-12-17</td>\n",
       "      <td>86</td>\n",
       "      <td>entrepreneur</td>\n",
       "      <td>divorced</td>\n",
       "      <td>tertiary</td>\n",
       "      <td>no</td>\n",
       "      <td>100094</td>\n",
       "      <td>yes</td>\n",
       "      <td>no</td>\n",
       "      <td>cellular</td>\n",
       "      <td>1596</td>\n",
       "      <td>1</td>\n",
       "      <td>735</td>\n",
       "      <td>60</td>\n",
       "      <td>other</td>\n",
       "      <td>yes</td>\n",
       "    </tr>\n",
       "  </tbody>\n",
       "</table>\n",
       "<p>1002 rows × 16 columns</p>\n",
       "</div>"
      ],
      "text/plain": [
       "      last contact date  age           job   marital  education default  \\\n",
       "19           2009-10-30   86       student  divorced    primary     yes   \n",
       "106          2010-10-13   83       retired    single    primary      no   \n",
       "160          2010-03-09   80  entrepreneur   married  secondary     yes   \n",
       "167          2009-08-12   76       retired  divorced    primary      no   \n",
       "213          2009-03-02   93     housemaid    single  secondary      no   \n",
       "...                 ...  ...           ...       ...        ...     ...   \n",
       "39118        2009-10-22   85     housemaid  divorced   tertiary     yes   \n",
       "39123        2008-12-01   88    unemployed    single  secondary     yes   \n",
       "39143        2008-10-20   77       retired   married        NaN      no   \n",
       "39147        2008-12-01   91    unemployed  divorced    primary     yes   \n",
       "39149        2008-12-17   86  entrepreneur  divorced   tertiary      no   \n",
       "\n",
       "       balance housing loan    contact  duration  campaign  pdays  previous  \\\n",
       "19       22272      no   no   cellular       283        44    599       234   \n",
       "106       1965      no   no  telephone      1003         3     -1         0   \n",
       "160      68191      no   no   cellular      1505         7    596       119   \n",
       "167         86      no   no   cellular       192         1     -1         0   \n",
       "213      29594      no  yes  telephone      1586         4     31       116   \n",
       "...        ...     ...  ...        ...       ...       ...    ...       ...   \n",
       "39118    98141     yes  yes   cellular      1780        39    728       209   \n",
       "39123    36960     yes   no  telephone      1631         9    578       267   \n",
       "39143     1807      no   no  telephone       373         1     -1         0   \n",
       "39147    16507      no  yes   cellular      3182        31    459        22   \n",
       "39149   100094     yes   no   cellular      1596         1    735        60   \n",
       "\n",
       "      poutcome target  \n",
       "19     success     no  \n",
       "106        NaN    yes  \n",
       "160      other    yes  \n",
       "167        NaN     no  \n",
       "213    failure    yes  \n",
       "...        ...    ...  \n",
       "39118  failure    yes  \n",
       "39123    other     no  \n",
       "39143      NaN    yes  \n",
       "39147    other     no  \n",
       "39149    other    yes  \n",
       "\n",
       "[1002 rows x 16 columns]"
      ]
     },
     "execution_count": 21,
     "metadata": {},
     "output_type": "execute_result"
    }
   ],
   "source": [
    "df[(df['age'] > 75)]"
   ]
  },
  {
   "cell_type": "code",
   "execution_count": 22,
   "id": "2257e238",
   "metadata": {
    "execution": {
     "iopub.execute_input": "2024-11-15T06:47:17.021970Z",
     "iopub.status.busy": "2024-11-15T06:47:17.020905Z",
     "iopub.status.idle": "2024-11-15T06:47:17.031209Z",
     "shell.execute_reply": "2024-11-15T06:47:17.030027Z"
    },
    "papermill": {
     "duration": 0.056679,
     "end_time": "2024-11-15T06:47:17.034488",
     "exception": false,
     "start_time": "2024-11-15T06:47:16.977809",
     "status": "completed"
    },
    "tags": []
   },
   "outputs": [
    {
     "data": {
      "text/plain": [
       "(1002, 16)"
      ]
     },
     "execution_count": 22,
     "metadata": {},
     "output_type": "execute_result"
    }
   ],
   "source": [
    "df[(df['age'] > 75)].shape"
   ]
  },
  {
   "cell_type": "code",
   "execution_count": 23,
   "id": "8c4d49c4",
   "metadata": {
    "execution": {
     "iopub.execute_input": "2024-11-15T06:47:17.122157Z",
     "iopub.status.busy": "2024-11-15T06:47:17.121285Z",
     "iopub.status.idle": "2024-11-15T06:47:17.133748Z",
     "shell.execute_reply": "2024-11-15T06:47:17.132621Z"
    },
    "papermill": {
     "duration": 0.058643,
     "end_time": "2024-11-15T06:47:17.136339",
     "exception": false,
     "start_time": "2024-11-15T06:47:17.077696",
     "status": "completed"
    },
    "tags": []
   },
   "outputs": [
    {
     "data": {
      "text/plain": [
       "job\n",
       "retired          187\n",
       "housemaid        182\n",
       "self-employed    173\n",
       "unemployed       154\n",
       "entrepreneur     152\n",
       "student          146\n",
       "management         6\n",
       "Name: count, dtype: int64"
      ]
     },
     "execution_count": 23,
     "metadata": {},
     "output_type": "execute_result"
    }
   ],
   "source": [
    "df[(df['age'] > 75)]['job'].value_counts()"
   ]
  },
  {
   "cell_type": "code",
   "execution_count": 24,
   "id": "9fe08378",
   "metadata": {
    "execution": {
     "iopub.execute_input": "2024-11-15T06:47:17.223789Z",
     "iopub.status.busy": "2024-11-15T06:47:17.223002Z",
     "iopub.status.idle": "2024-11-15T06:47:17.231144Z",
     "shell.execute_reply": "2024-11-15T06:47:17.230020Z"
    },
    "papermill": {
     "duration": 0.054138,
     "end_time": "2024-11-15T06:47:17.233658",
     "exception": false,
     "start_time": "2024-11-15T06:47:17.179520",
     "status": "completed"
    },
    "tags": []
   },
   "outputs": [
    {
     "data": {
      "text/plain": [
       "0"
      ]
     },
     "execution_count": 24,
     "metadata": {},
     "output_type": "execute_result"
    }
   ],
   "source": [
    "df['age'].isnull().sum()"
   ]
  },
  {
   "cell_type": "markdown",
   "id": "40274d8d",
   "metadata": {
    "papermill": {
     "duration": 0.045112,
     "end_time": "2024-11-15T06:47:17.323199",
     "exception": false,
     "start_time": "2024-11-15T06:47:17.278087",
     "status": "completed"
    },
    "tags": []
   },
   "source": [
    "> ## Balance\n",
    "> \n",
    "> **conclusion**\n",
    "> \n",
    "> * the balance data is extremely positively skewed (right-skewed)\n",
    "> * The mean balance for clients who subscribed is approximately 15,542 euros, significantly higher than the overall mean balance of 5,442 euros across all clients. This suggests that clients who subscribe to deposits generally have higher balances.\n",
    "> "
   ]
  },
  {
   "cell_type": "code",
   "execution_count": 25,
   "id": "6223d4f1",
   "metadata": {
    "execution": {
     "iopub.execute_input": "2024-11-15T06:47:17.410023Z",
     "iopub.status.busy": "2024-11-15T06:47:17.409530Z",
     "iopub.status.idle": "2024-11-15T06:47:17.423762Z",
     "shell.execute_reply": "2024-11-15T06:47:17.422359Z"
    },
    "papermill": {
     "duration": 0.060431,
     "end_time": "2024-11-15T06:47:17.426481",
     "exception": false,
     "start_time": "2024-11-15T06:47:17.366050",
     "status": "completed"
    },
    "tags": []
   },
   "outputs": [
    {
     "data": {
      "text/plain": [
       "count     39211.000000\n",
       "mean       5441.781719\n",
       "std       16365.292065\n",
       "min       -8019.000000\n",
       "25%          98.000000\n",
       "50%         549.000000\n",
       "75%        2030.000000\n",
       "max      102127.000000\n",
       "Name: balance, dtype: float64"
      ]
     },
     "execution_count": 25,
     "metadata": {},
     "output_type": "execute_result"
    }
   ],
   "source": [
    "df['balance'].describe()"
   ]
  },
  {
   "cell_type": "code",
   "execution_count": 26,
   "id": "ab3676c2",
   "metadata": {
    "execution": {
     "iopub.execute_input": "2024-11-15T06:47:17.513897Z",
     "iopub.status.busy": "2024-11-15T06:47:17.513041Z",
     "iopub.status.idle": "2024-11-15T06:47:17.810347Z",
     "shell.execute_reply": "2024-11-15T06:47:17.809149Z"
    },
    "papermill": {
     "duration": 0.343899,
     "end_time": "2024-11-15T06:47:17.813058",
     "exception": false,
     "start_time": "2024-11-15T06:47:17.469159",
     "status": "completed"
    },
    "tags": []
   },
   "outputs": [
    {
     "data": {
      "text/plain": [
       "<Axes: ylabel='Frequency'>"
      ]
     },
     "execution_count": 26,
     "metadata": {},
     "output_type": "execute_result"
    },
    {
     "data": {
      "image/png": "[encoded data removed]",
      "text/plain": [
       "<Figure size 640x480 with 1 Axes>"
      ]
     },
     "metadata": {},
     "output_type": "display_data"
    }
   ],
   "source": [
    "df['balance'].plot(kind='hist',bins=50)"
   ]
  },
  {
   "cell_type": "code",
   "execution_count": 27,
   "id": "25d524a7",
   "metadata": {
    "execution": {
     "iopub.execute_input": "2024-11-15T06:47:17.900786Z",
     "iopub.status.busy": "2024-11-15T06:47:17.900330Z",
     "iopub.status.idle": "2024-11-15T06:47:19.003839Z",
     "shell.execute_reply": "2024-11-15T06:47:19.002629Z"
    },
    "papermill": {
     "duration": 1.150715,
     "end_time": "2024-11-15T06:47:19.006359",
     "exception": false,
     "start_time": "2024-11-15T06:47:17.855644",
     "status": "completed"
    },
    "tags": []
   },
   "outputs": [
    {
     "data": {
      "text/plain": [
       "<Axes: ylabel='Density'>"
      ]
     },
     "execution_count": 27,
     "metadata": {},
     "output_type": "execute_result"
    },
    {
     "data": {
      "image/png": "[encoded data removed]",
      "text/plain": [
       "<Figure size 640x480 with 1 Axes>"
      ]
     },
     "metadata": {},
     "output_type": "display_data"
    }
   ],
   "source": [
    "df['balance'].plot(kind='kde')"
   ]
  },
  {
   "cell_type": "code",
   "execution_count": 28,
   "id": "7c582d54",
   "metadata": {
    "execution": {
     "iopub.execute_input": "2024-11-15T06:47:19.096788Z",
     "iopub.status.busy": "2024-11-15T06:47:19.095726Z",
     "iopub.status.idle": "2024-11-15T06:47:19.105200Z",
     "shell.execute_reply": "2024-11-15T06:47:19.103809Z"
    },
    "papermill": {
     "duration": 0.057631,
     "end_time": "2024-11-15T06:47:19.107685",
     "exception": false,
     "start_time": "2024-11-15T06:47:19.050054",
     "status": "completed"
    },
    "tags": []
   },
   "outputs": [
    {
     "data": {
      "text/plain": [
       "4.0635870169871"
      ]
     },
     "execution_count": 28,
     "metadata": {},
     "output_type": "execute_result"
    }
   ],
   "source": [
    "df['balance'].skew()"
   ]
  },
  {
   "cell_type": "code",
   "execution_count": 29,
   "id": "5bcaa2d5",
   "metadata": {
    "execution": {
     "iopub.execute_input": "2024-11-15T06:47:19.197835Z",
     "iopub.status.busy": "2024-11-15T06:47:19.197362Z",
     "iopub.status.idle": "2024-11-15T06:47:19.388737Z",
     "shell.execute_reply": "2024-11-15T06:47:19.387607Z"
    },
    "papermill": {
     "duration": 0.239568,
     "end_time": "2024-11-15T06:47:19.391318",
     "exception": false,
     "start_time": "2024-11-15T06:47:19.151750",
     "status": "completed"
    },
    "tags": []
   },
   "outputs": [
    {
     "data": {
      "text/plain": [
       "<Axes: >"
      ]
     },
     "execution_count": 29,
     "metadata": {},
     "output_type": "execute_result"
    },
    {
     "data": {
      "image/png": "[encoded data removed]",
      "text/plain": [
       "<Figure size 640x480 with 1 Axes>"
      ]
     },
     "metadata": {},
     "output_type": "display_data"
    }
   ],
   "source": [
    "df['balance'].plot(kind='box')"
   ]
  },
  {
   "cell_type": "code",
   "execution_count": 30,
   "id": "d9a92db9",
   "metadata": {
    "execution": {
     "iopub.execute_input": "2024-11-15T06:47:19.483277Z",
     "iopub.status.busy": "2024-11-15T06:47:19.482376Z",
     "iopub.status.idle": "2024-11-15T06:47:19.505359Z",
     "shell.execute_reply": "2024-11-15T06:47:19.504182Z"
    },
    "papermill": {
     "duration": 0.072124,
     "end_time": "2024-11-15T06:47:19.508046",
     "exception": false,
     "start_time": "2024-11-15T06:47:19.435922",
     "status": "completed"
    },
    "tags": []
   },
   "outputs": [
    {
     "data": {
      "text/plain": [
       "count      5827.000000\n",
       "mean      15542.540072\n",
       "std       27234.079387\n",
       "min       -3058.000000\n",
       "25%         354.000000\n",
       "50%        1604.000000\n",
       "75%       13014.000000\n",
       "max      101892.000000\n",
       "Name: balance, dtype: float64"
      ]
     },
     "execution_count": 30,
     "metadata": {},
     "output_type": "execute_result"
    }
   ],
   "source": [
    "df[(df['target']=='yes')]['balance'].describe()"
   ]
  },
  {
   "cell_type": "code",
   "execution_count": 31,
   "id": "9109195c",
   "metadata": {
    "execution": {
     "iopub.execute_input": "2024-11-15T06:47:19.598892Z",
     "iopub.status.busy": "2024-11-15T06:47:19.598458Z",
     "iopub.status.idle": "2024-11-15T06:47:19.607057Z",
     "shell.execute_reply": "2024-11-15T06:47:19.605872Z"
    },
    "papermill": {
     "duration": 0.057341,
     "end_time": "2024-11-15T06:47:19.609491",
     "exception": false,
     "start_time": "2024-11-15T06:47:19.552150",
     "status": "completed"
    },
    "tags": []
   },
   "outputs": [
    {
     "data": {
      "text/plain": [
       "0"
      ]
     },
     "execution_count": 31,
     "metadata": {},
     "output_type": "execute_result"
    }
   ],
   "source": [
    "df['balance'].isnull().sum()"
   ]
  },
  {
   "cell_type": "markdown",
   "id": "06191687",
   "metadata": {
    "papermill": {
     "duration": 0.044047,
     "end_time": "2024-11-15T06:47:19.698469",
     "exception": false,
     "start_time": "2024-11-15T06:47:19.654422",
     "status": "completed"
    },
    "tags": []
   },
   "source": [
    "> ## Duration\n",
    "> \n",
    "> **conclusion**\n",
    "> * calls with longer duration tends to a successfull subscription.\n",
    "> * the data is extremely right skewed.\n",
    "> "
   ]
  },
  {
   "cell_type": "code",
   "execution_count": 32,
   "id": "ae430630",
   "metadata": {
    "execution": {
     "iopub.execute_input": "2024-11-15T06:47:19.789145Z",
     "iopub.status.busy": "2024-11-15T06:47:19.788642Z",
     "iopub.status.idle": "2024-11-15T06:47:19.802047Z",
     "shell.execute_reply": "2024-11-15T06:47:19.800909Z"
    },
    "papermill": {
     "duration": 0.06198,
     "end_time": "2024-11-15T06:47:19.804684",
     "exception": false,
     "start_time": "2024-11-15T06:47:19.742704",
     "status": "completed"
    },
    "tags": []
   },
   "outputs": [
    {
     "data": {
      "text/plain": [
       "count    39211.000000\n",
       "mean       439.062789\n",
       "std        769.096291\n",
       "min          0.000000\n",
       "25%        109.000000\n",
       "50%        197.000000\n",
       "75%        380.000000\n",
       "max       4918.000000\n",
       "Name: duration, dtype: float64"
      ]
     },
     "execution_count": 32,
     "metadata": {},
     "output_type": "execute_result"
    }
   ],
   "source": [
    "df['duration'].describe()"
   ]
  },
  {
   "cell_type": "code",
   "execution_count": 33,
   "id": "522e6192",
   "metadata": {
    "execution": {
     "iopub.execute_input": "2024-11-15T06:47:19.896347Z",
     "iopub.status.busy": "2024-11-15T06:47:19.895903Z",
     "iopub.status.idle": "2024-11-15T06:47:20.143609Z",
     "shell.execute_reply": "2024-11-15T06:47:20.142470Z"
    },
    "papermill": {
     "duration": 0.29663,
     "end_time": "2024-11-15T06:47:20.146271",
     "exception": false,
     "start_time": "2024-11-15T06:47:19.849641",
     "status": "completed"
    },
    "tags": []
   },
   "outputs": [
    {
     "data": {
      "text/plain": [
       "<Axes: ylabel='Frequency'>"
      ]
     },
     "execution_count": 33,
     "metadata": {},
     "output_type": "execute_result"
    },
    {
     "data": {
      "image/png": "[encoded data removed]",
      "text/plain": [
       "<Figure size 640x480 with 1 Axes>"
      ]
     },
     "metadata": {},
     "output_type": "display_data"
    }
   ],
   "source": [
    "df['duration'].plot(kind='hist',bins=20)"
   ]
  },
  {
   "cell_type": "code",
   "execution_count": 34,
   "id": "b8703229",
   "metadata": {
    "execution": {
     "iopub.execute_input": "2024-11-15T06:47:20.239634Z",
     "iopub.status.busy": "2024-11-15T06:47:20.239178Z",
     "iopub.status.idle": "2024-11-15T06:47:21.271445Z",
     "shell.execute_reply": "2024-11-15T06:47:21.270252Z"
    },
    "papermill": {
     "duration": 1.082198,
     "end_time": "2024-11-15T06:47:21.274141",
     "exception": false,
     "start_time": "2024-11-15T06:47:20.191943",
     "status": "completed"
    },
    "tags": []
   },
   "outputs": [
    {
     "data": {
      "text/plain": [
       "<Axes: ylabel='Density'>"
      ]
     },
     "execution_count": 34,
     "metadata": {},
     "output_type": "execute_result"
    },
    {
     "data": {
      "image/png": "[encoded data removed]",
      "text/plain": [
       "<Figure size 640x480 with 1 Axes>"
      ]
     },
     "metadata": {},
     "output_type": "display_data"
    }
   ],
   "source": [
    "df['duration'].plot(kind='kde')"
   ]
  },
  {
   "cell_type": "code",
   "execution_count": 35,
   "id": "8374b007",
   "metadata": {
    "execution": {
     "iopub.execute_input": "2024-11-15T06:47:21.367637Z",
     "iopub.status.busy": "2024-11-15T06:47:21.367182Z",
     "iopub.status.idle": "2024-11-15T06:47:21.375402Z",
     "shell.execute_reply": "2024-11-15T06:47:21.374286Z"
    },
    "papermill": {
     "duration": 0.058099,
     "end_time": "2024-11-15T06:47:21.377887",
     "exception": false,
     "start_time": "2024-11-15T06:47:21.319788",
     "status": "completed"
    },
    "tags": []
   },
   "outputs": [
    {
     "data": {
      "text/plain": [
       "3.7005849290063417"
      ]
     },
     "execution_count": 35,
     "metadata": {},
     "output_type": "execute_result"
    }
   ],
   "source": [
    "df['duration'].skew()"
   ]
  },
  {
   "cell_type": "code",
   "execution_count": 36,
   "id": "4daf6ec5",
   "metadata": {
    "execution": {
     "iopub.execute_input": "2024-11-15T06:47:21.472313Z",
     "iopub.status.busy": "2024-11-15T06:47:21.471855Z",
     "iopub.status.idle": "2024-11-15T06:47:21.714161Z",
     "shell.execute_reply": "2024-11-15T06:47:21.713029Z"
    },
    "papermill": {
     "duration": 0.293175,
     "end_time": "2024-11-15T06:47:21.716849",
     "exception": false,
     "start_time": "2024-11-15T06:47:21.423674",
     "status": "completed"
    },
    "tags": []
   },
   "outputs": [
    {
     "data": {
      "text/plain": [
       "<Axes: >"
      ]
     },
     "execution_count": 36,
     "metadata": {},
     "output_type": "execute_result"
    },
    {
     "data": {
      "image/png": "[encoded data removed]",
      "text/plain": [
       "<Figure size 640x480 with 1 Axes>"
      ]
     },
     "metadata": {},
     "output_type": "display_data"
    }
   ],
   "source": [
    "df['duration'].plot(kind='box')"
   ]
  },
  {
   "cell_type": "code",
   "execution_count": 37,
   "id": "2ebcc25c",
   "metadata": {
    "execution": {
     "iopub.execute_input": "2024-11-15T06:47:21.812362Z",
     "iopub.status.busy": "2024-11-15T06:47:21.811087Z",
     "iopub.status.idle": "2024-11-15T06:47:21.833375Z",
     "shell.execute_reply": "2024-11-15T06:47:21.832230Z"
    },
    "papermill": {
     "duration": 0.073498,
     "end_time": "2024-11-15T06:47:21.836447",
     "exception": false,
     "start_time": "2024-11-15T06:47:21.762949",
     "status": "completed"
    },
    "tags": []
   },
   "outputs": [
    {
     "data": {
      "text/plain": [
       "count    5827.000000\n",
       "mean     1071.077570\n",
       "std      1182.646374\n",
       "min         8.000000\n",
       "25%       285.000000\n",
       "50%       589.000000\n",
       "75%      1242.500000\n",
       "max      4916.000000\n",
       "Name: duration, dtype: float64"
      ]
     },
     "execution_count": 37,
     "metadata": {},
     "output_type": "execute_result"
    }
   ],
   "source": [
    "df[(df['target']=='yes')]['duration'].describe()"
   ]
  },
  {
   "cell_type": "code",
   "execution_count": 38,
   "id": "9b39fa36",
   "metadata": {
    "execution": {
     "iopub.execute_input": "2024-11-15T06:47:21.931533Z",
     "iopub.status.busy": "2024-11-15T06:47:21.930545Z",
     "iopub.status.idle": "2024-11-15T06:47:21.938683Z",
     "shell.execute_reply": "2024-11-15T06:47:21.937559Z"
    },
    "papermill": {
     "duration": 0.058423,
     "end_time": "2024-11-15T06:47:21.941220",
     "exception": false,
     "start_time": "2024-11-15T06:47:21.882797",
     "status": "completed"
    },
    "tags": []
   },
   "outputs": [
    {
     "data": {
      "text/plain": [
       "0"
      ]
     },
     "execution_count": 38,
     "metadata": {},
     "output_type": "execute_result"
    }
   ],
   "source": [
    "df['duration'].isnull().sum()"
   ]
  },
  {
   "cell_type": "markdown",
   "id": "5ec56325",
   "metadata": {
    "papermill": {
     "duration": 0.052424,
     "end_time": "2024-11-15T06:47:22.040624",
     "exception": false,
     "start_time": "2024-11-15T06:47:21.988200",
     "status": "completed"
    },
    "tags": []
   },
   "source": [
    "> ## Campaign\n",
    "> \n",
    "> **conclusion**\n",
    "> 1. number of contacts is higher for the clients who showed intrest\n",
    "> 2. right skewness can be seen\n",
    "> "
   ]
  },
  {
   "cell_type": "code",
   "execution_count": 39,
   "id": "57f467da",
   "metadata": {
    "execution": {
     "iopub.execute_input": "2024-11-15T06:47:22.137019Z",
     "iopub.status.busy": "2024-11-15T06:47:22.135904Z",
     "iopub.status.idle": "2024-11-15T06:47:22.149211Z",
     "shell.execute_reply": "2024-11-15T06:47:22.148000Z"
    },
    "papermill": {
     "duration": 0.064059,
     "end_time": "2024-11-15T06:47:22.151831",
     "exception": false,
     "start_time": "2024-11-15T06:47:22.087772",
     "status": "completed"
    },
    "tags": []
   },
   "outputs": [
    {
     "data": {
      "text/plain": [
       "count    39211.000000\n",
       "mean         5.108770\n",
       "std          9.890153\n",
       "min          1.000000\n",
       "25%          1.000000\n",
       "50%          2.000000\n",
       "75%          4.000000\n",
       "max         63.000000\n",
       "Name: campaign, dtype: float64"
      ]
     },
     "execution_count": 39,
     "metadata": {},
     "output_type": "execute_result"
    }
   ],
   "source": [
    "df['campaign'].describe()"
   ]
  },
  {
   "cell_type": "code",
   "execution_count": 40,
   "id": "2f201ac8",
   "metadata": {
    "execution": {
     "iopub.execute_input": "2024-11-15T06:47:22.252206Z",
     "iopub.status.busy": "2024-11-15T06:47:22.251707Z",
     "iopub.status.idle": "2024-11-15T06:47:22.580196Z",
     "shell.execute_reply": "2024-11-15T06:47:22.578972Z"
    },
    "papermill": {
     "duration": 0.379718,
     "end_time": "2024-11-15T06:47:22.582780",
     "exception": false,
     "start_time": "2024-11-15T06:47:22.203062",
     "status": "completed"
    },
    "tags": []
   },
   "outputs": [
    {
     "data": {
      "text/plain": [
       "<Axes: ylabel='Frequency'>"
      ]
     },
     "execution_count": 40,
     "metadata": {},
     "output_type": "execute_result"
    },
    {
     "data": {
      "image/png": "[encoded data removed]",
      "text/plain": [
       "<Figure size 640x480 with 1 Axes>"
      ]
     },
     "metadata": {},
     "output_type": "display_data"
    }
   ],
   "source": [
    "df['campaign'].plot(kind='hist',bins=20)"
   ]
  },
  {
   "cell_type": "code",
   "execution_count": 41,
   "id": "d407e507",
   "metadata": {
    "execution": {
     "iopub.execute_input": "2024-11-15T06:47:22.680990Z",
     "iopub.status.busy": "2024-11-15T06:47:22.680024Z",
     "iopub.status.idle": "2024-11-15T06:47:23.767048Z",
     "shell.execute_reply": "2024-11-15T06:47:23.765761Z"
    },
    "papermill": {
     "duration": 1.138828,
     "end_time": "2024-11-15T06:47:23.769627",
     "exception": false,
     "start_time": "2024-11-15T06:47:22.630799",
     "status": "completed"
    },
    "tags": []
   },
   "outputs": [
    {
     "data": {
      "text/plain": [
       "<Axes: ylabel='Density'>"
      ]
     },
     "execution_count": 41,
     "metadata": {},
     "output_type": "execute_result"
    },
    {
     "data": {
      "image/png": "[encoded data removed]",
      "text/plain": [
       "<Figure size 640x480 with 1 Axes>"
      ]
     },
     "metadata": {},
     "output_type": "display_data"
    }
   ],
   "source": [
    "df['campaign'].plot(kind='kde')"
   ]
  },
  {
   "cell_type": "code",
   "execution_count": 42,
   "id": "9fc0a99d",
   "metadata": {
    "execution": {
     "iopub.execute_input": "2024-11-15T06:47:23.868387Z",
     "iopub.status.busy": "2024-11-15T06:47:23.867423Z",
     "iopub.status.idle": "2024-11-15T06:47:23.876906Z",
     "shell.execute_reply": "2024-11-15T06:47:23.875623Z"
    },
    "papermill": {
     "duration": 0.061741,
     "end_time": "2024-11-15T06:47:23.879539",
     "exception": false,
     "start_time": "2024-11-15T06:47:23.817798",
     "status": "completed"
    },
    "tags": []
   },
   "outputs": [
    {
     "data": {
      "text/plain": [
       "3.839592516972888"
      ]
     },
     "execution_count": 42,
     "metadata": {},
     "output_type": "execute_result"
    }
   ],
   "source": [
    "df['campaign'].skew()"
   ]
  },
  {
   "cell_type": "code",
   "execution_count": 43,
   "id": "a90ee590",
   "metadata": {
    "execution": {
     "iopub.execute_input": "2024-11-15T06:47:23.978340Z",
     "iopub.status.busy": "2024-11-15T06:47:23.977310Z",
     "iopub.status.idle": "2024-11-15T06:47:24.286425Z",
     "shell.execute_reply": "2024-11-15T06:47:24.285164Z"
    },
    "papermill": {
     "duration": 0.361173,
     "end_time": "2024-11-15T06:47:24.289038",
     "exception": false,
     "start_time": "2024-11-15T06:47:23.927865",
     "status": "completed"
    },
    "tags": []
   },
   "outputs": [
    {
     "data": {
      "text/plain": [
       "<Axes: >"
      ]
     },
     "execution_count": 43,
     "metadata": {},
     "output_type": "execute_result"
    },
    {
     "data": {
      "image/png": "[encoded data removed]",
      "text/plain": [
       "<Figure size 640x480 with 1 Axes>"
      ]
     },
     "metadata": {},
     "output_type": "display_data"
    }
   ],
   "source": [
    "df['campaign'].plot(kind='box')"
   ]
  },
  {
   "cell_type": "code",
   "execution_count": 44,
   "id": "ca677878",
   "metadata": {
    "execution": {
     "iopub.execute_input": "2024-11-15T06:47:24.388083Z",
     "iopub.status.busy": "2024-11-15T06:47:24.387564Z",
     "iopub.status.idle": "2024-11-15T06:47:24.410016Z",
     "shell.execute_reply": "2024-11-15T06:47:24.408757Z"
    },
    "papermill": {
     "duration": 0.075359,
     "end_time": "2024-11-15T06:47:24.413065",
     "exception": false,
     "start_time": "2024-11-15T06:47:24.337706",
     "status": "completed"
    },
    "tags": []
   },
   "outputs": [
    {
     "data": {
      "text/plain": [
       "count    5827.000000\n",
       "mean       10.250558\n",
       "std        16.253401\n",
       "min         1.000000\n",
       "25%         1.000000\n",
       "50%         2.000000\n",
       "75%         9.000000\n",
       "max        63.000000\n",
       "Name: campaign, dtype: float64"
      ]
     },
     "execution_count": 44,
     "metadata": {},
     "output_type": "execute_result"
    }
   ],
   "source": [
    "df[(df['target']=='yes')]['campaign'].describe()"
   ]
  },
  {
   "cell_type": "code",
   "execution_count": 45,
   "id": "67ac38bb",
   "metadata": {
    "execution": {
     "iopub.execute_input": "2024-11-15T06:47:24.514738Z",
     "iopub.status.busy": "2024-11-15T06:47:24.513658Z",
     "iopub.status.idle": "2024-11-15T06:47:24.545907Z",
     "shell.execute_reply": "2024-11-15T06:47:24.544465Z"
    },
    "papermill": {
     "duration": 0.08575,
     "end_time": "2024-11-15T06:47:24.548543",
     "exception": false,
     "start_time": "2024-11-15T06:47:24.462793",
     "status": "completed"
    },
    "tags": []
   },
   "outputs": [
    {
     "data": {
      "text/plain": [
       "count    33384.000000\n",
       "mean         4.211299\n",
       "std          7.960217\n",
       "min          1.000000\n",
       "25%          1.000000\n",
       "50%          2.000000\n",
       "75%          4.000000\n",
       "max         63.000000\n",
       "Name: campaign, dtype: float64"
      ]
     },
     "execution_count": 45,
     "metadata": {},
     "output_type": "execute_result"
    }
   ],
   "source": [
    "df[(df['target']=='no')]['campaign'].describe()"
   ]
  },
  {
   "cell_type": "code",
   "execution_count": 46,
   "id": "13a1da00",
   "metadata": {
    "execution": {
     "iopub.execute_input": "2024-11-15T06:47:24.649037Z",
     "iopub.status.busy": "2024-11-15T06:47:24.648567Z",
     "iopub.status.idle": "2024-11-15T06:47:24.657065Z",
     "shell.execute_reply": "2024-11-15T06:47:24.655803Z"
    },
    "papermill": {
     "duration": 0.062029,
     "end_time": "2024-11-15T06:47:24.659440",
     "exception": false,
     "start_time": "2024-11-15T06:47:24.597411",
     "status": "completed"
    },
    "tags": []
   },
   "outputs": [
    {
     "data": {
      "text/plain": [
       "0"
      ]
     },
     "execution_count": 46,
     "metadata": {},
     "output_type": "execute_result"
    }
   ],
   "source": [
    "df['campaign'].isnull().sum()"
   ]
  },
  {
   "cell_type": "markdown",
   "id": "fed2bf7f",
   "metadata": {
    "papermill": {
     "duration": 0.048633,
     "end_time": "2024-11-15T06:47:24.756837",
     "exception": false,
     "start_time": "2024-11-15T06:47:24.708204",
     "status": "completed"
    },
    "tags": []
   },
   "source": [
    "> ##  Pdays\n",
    "> \n",
    "> **conclusion**\n",
    ">  A large portion of clients (based on the percentiles) were contacted for the first time in this campaign"
   ]
  },
  {
   "cell_type": "code",
   "execution_count": 47,
   "id": "e4f5ad7d",
   "metadata": {
    "execution": {
     "iopub.execute_input": "2024-11-15T06:47:24.856538Z",
     "iopub.status.busy": "2024-11-15T06:47:24.856066Z",
     "iopub.status.idle": "2024-11-15T06:47:24.869165Z",
     "shell.execute_reply": "2024-11-15T06:47:24.868012Z"
    },
    "papermill": {
     "duration": 0.066449,
     "end_time": "2024-11-15T06:47:24.871768",
     "exception": false,
     "start_time": "2024-11-15T06:47:24.805319",
     "status": "completed"
    },
    "tags": []
   },
   "outputs": [
    {
     "data": {
      "text/plain": [
       "count    39211.000000\n",
       "mean        72.256051\n",
       "std        160.942593\n",
       "min         -1.000000\n",
       "25%         -1.000000\n",
       "50%         -1.000000\n",
       "75%         -1.000000\n",
       "max        871.000000\n",
       "Name: pdays, dtype: float64"
      ]
     },
     "execution_count": 47,
     "metadata": {},
     "output_type": "execute_result"
    }
   ],
   "source": [
    "df['pdays'].describe()"
   ]
  },
  {
   "cell_type": "code",
   "execution_count": 48,
   "id": "066b2af4",
   "metadata": {
    "execution": {
     "iopub.execute_input": "2024-11-15T06:47:24.972521Z",
     "iopub.status.busy": "2024-11-15T06:47:24.972060Z",
     "iopub.status.idle": "2024-11-15T06:47:25.280813Z",
     "shell.execute_reply": "2024-11-15T06:47:25.279223Z"
    },
    "papermill": {
     "duration": 0.36343,
     "end_time": "2024-11-15T06:47:25.283821",
     "exception": false,
     "start_time": "2024-11-15T06:47:24.920391",
     "status": "completed"
    },
    "tags": []
   },
   "outputs": [
    {
     "data": {
      "text/plain": [
       "<Axes: ylabel='Frequency'>"
      ]
     },
     "execution_count": 48,
     "metadata": {},
     "output_type": "execute_result"
    },
    {
     "data": {
      "image/png": "[encoded data removed]",
      "text/plain": [
       "<Figure size 640x480 with 1 Axes>"
      ]
     },
     "metadata": {},
     "output_type": "display_data"
    }
   ],
   "source": [
    "df['pdays'].plot(kind='hist',bins=20)"
   ]
  },
  {
   "cell_type": "code",
   "execution_count": 49,
   "id": "d9874c16",
   "metadata": {
    "execution": {
     "iopub.execute_input": "2024-11-15T06:47:25.385909Z",
     "iopub.status.busy": "2024-11-15T06:47:25.385435Z",
     "iopub.status.idle": "2024-11-15T06:47:26.463532Z",
     "shell.execute_reply": "2024-11-15T06:47:26.462375Z"
    },
    "papermill": {
     "duration": 1.132857,
     "end_time": "2024-11-15T06:47:26.466215",
     "exception": false,
     "start_time": "2024-11-15T06:47:25.333358",
     "status": "completed"
    },
    "tags": []
   },
   "outputs": [
    {
     "data": {
      "text/plain": [
       "<Axes: ylabel='Density'>"
      ]
     },
     "execution_count": 49,
     "metadata": {},
     "output_type": "execute_result"
    },
    {
     "data": {
      "image/png": "[encoded data removed]",
      "text/plain": [
       "<Figure size 640x480 with 1 Axes>"
      ]
     },
     "metadata": {},
     "output_type": "display_data"
    }
   ],
   "source": [
    "df['pdays'].plot(kind='kde')"
   ]
  },
  {
   "cell_type": "code",
   "execution_count": 50,
   "id": "fd3f3b90",
   "metadata": {
    "execution": {
     "iopub.execute_input": "2024-11-15T06:47:26.568804Z",
     "iopub.status.busy": "2024-11-15T06:47:26.567968Z",
     "iopub.status.idle": "2024-11-15T06:47:26.577494Z",
     "shell.execute_reply": "2024-11-15T06:47:26.576300Z"
    },
    "papermill": {
     "duration": 0.063974,
     "end_time": "2024-11-15T06:47:26.580138",
     "exception": false,
     "start_time": "2024-11-15T06:47:26.516164",
     "status": "completed"
    },
    "tags": []
   },
   "outputs": [
    {
     "data": {
      "text/plain": [
       "2.6117734927706215"
      ]
     },
     "execution_count": 50,
     "metadata": {},
     "output_type": "execute_result"
    }
   ],
   "source": [
    "df['pdays'].skew()"
   ]
  },
  {
   "cell_type": "code",
   "execution_count": 51,
   "id": "b8a598a6",
   "metadata": {
    "execution": {
     "iopub.execute_input": "2024-11-15T06:47:26.685174Z",
     "iopub.status.busy": "2024-11-15T06:47:26.684669Z",
     "iopub.status.idle": "2024-11-15T06:47:26.932276Z",
     "shell.execute_reply": "2024-11-15T06:47:26.931194Z"
    },
    "papermill": {
     "duration": 0.303629,
     "end_time": "2024-11-15T06:47:26.934648",
     "exception": false,
     "start_time": "2024-11-15T06:47:26.631019",
     "status": "completed"
    },
    "tags": []
   },
   "outputs": [
    {
     "data": {
      "text/plain": [
       "<Axes: >"
      ]
     },
     "execution_count": 51,
     "metadata": {},
     "output_type": "execute_result"
    },
    {
     "data": {
      "image/png": "[encoded data removed]",
      "text/plain": [
       "<Figure size 640x480 with 1 Axes>"
      ]
     },
     "metadata": {},
     "output_type": "display_data"
    }
   ],
   "source": [
    "df['pdays'].plot(kind='box')"
   ]
  },
  {
   "cell_type": "code",
   "execution_count": 52,
   "id": "2e754674",
   "metadata": {
    "execution": {
     "iopub.execute_input": "2024-11-15T06:47:27.038591Z",
     "iopub.status.busy": "2024-11-15T06:47:27.038065Z",
     "iopub.status.idle": "2024-11-15T06:47:27.060170Z",
     "shell.execute_reply": "2024-11-15T06:47:27.058975Z"
    },
    "papermill": {
     "duration": 0.077477,
     "end_time": "2024-11-15T06:47:27.062876",
     "exception": false,
     "start_time": "2024-11-15T06:47:26.985399",
     "status": "completed"
    },
    "tags": []
   },
   "outputs": [
    {
     "data": {
      "text/plain": [
       "count    5827.000000\n",
       "mean      171.689720\n",
       "std       237.463488\n",
       "min        -1.000000\n",
       "25%        -1.000000\n",
       "50%        70.000000\n",
       "75%       271.500000\n",
       "max       871.000000\n",
       "Name: pdays, dtype: float64"
      ]
     },
     "execution_count": 52,
     "metadata": {},
     "output_type": "execute_result"
    }
   ],
   "source": [
    "df[(df['target']=='yes')]['pdays'].describe()"
   ]
  },
  {
   "cell_type": "code",
   "execution_count": 53,
   "id": "03c1946b",
   "metadata": {
    "execution": {
     "iopub.execute_input": "2024-11-15T06:47:27.168124Z",
     "iopub.status.busy": "2024-11-15T06:47:27.167631Z",
     "iopub.status.idle": "2024-11-15T06:47:27.175820Z",
     "shell.execute_reply": "2024-11-15T06:47:27.174743Z"
    },
    "papermill": {
     "duration": 0.063701,
     "end_time": "2024-11-15T06:47:27.178211",
     "exception": false,
     "start_time": "2024-11-15T06:47:27.114510",
     "status": "completed"
    },
    "tags": []
   },
   "outputs": [
    {
     "data": {
      "text/plain": [
       "0"
      ]
     },
     "execution_count": 53,
     "metadata": {},
     "output_type": "execute_result"
    }
   ],
   "source": [
    "df['pdays'].isnull().sum()"
   ]
  },
  {
   "cell_type": "markdown",
   "id": "6da03ed9",
   "metadata": {
    "papermill": {
     "duration": 0.051086,
     "end_time": "2024-11-15T06:47:27.280496",
     "exception": false,
     "start_time": "2024-11-15T06:47:27.229410",
     "status": "completed"
    },
    "tags": []
   },
   "source": [
    "> ## Previous\n",
    "> \n",
    "> **conclusion**\n",
    "> 1. The majority of clients were not contacted previously, with a few clients receiving a disproportionate amount of attention before the current campaign\n",
    "> "
   ]
  },
  {
   "cell_type": "code",
   "execution_count": 54,
   "id": "347c6042",
   "metadata": {
    "execution": {
     "iopub.execute_input": "2024-11-15T06:47:27.387418Z",
     "iopub.status.busy": "2024-11-15T06:47:27.386936Z",
     "iopub.status.idle": "2024-11-15T06:47:27.399845Z",
     "shell.execute_reply": "2024-11-15T06:47:27.398613Z"
    },
    "papermill": {
     "duration": 0.069111,
     "end_time": "2024-11-15T06:47:27.402692",
     "exception": false,
     "start_time": "2024-11-15T06:47:27.333581",
     "status": "completed"
    },
    "tags": []
   },
   "outputs": [
    {
     "data": {
      "text/plain": [
       "count    39211.000000\n",
       "mean        11.826171\n",
       "std         44.140259\n",
       "min          0.000000\n",
       "25%          0.000000\n",
       "50%          0.000000\n",
       "75%          0.000000\n",
       "max        275.000000\n",
       "Name: previous, dtype: float64"
      ]
     },
     "execution_count": 54,
     "metadata": {},
     "output_type": "execute_result"
    }
   ],
   "source": [
    "df['previous'].describe()"
   ]
  },
  {
   "cell_type": "code",
   "execution_count": 55,
   "id": "e318d1f4",
   "metadata": {
    "execution": {
     "iopub.execute_input": "2024-11-15T06:47:27.508180Z",
     "iopub.status.busy": "2024-11-15T06:47:27.507664Z",
     "iopub.status.idle": "2024-11-15T06:47:27.832696Z",
     "shell.execute_reply": "2024-11-15T06:47:27.831330Z"
    },
    "papermill": {
     "duration": 0.381414,
     "end_time": "2024-11-15T06:47:27.835334",
     "exception": false,
     "start_time": "2024-11-15T06:47:27.453920",
     "status": "completed"
    },
    "tags": []
   },
   "outputs": [
    {
     "data": {
      "text/plain": [
       "<Axes: ylabel='Frequency'>"
      ]
     },
     "execution_count": 55,
     "metadata": {},
     "output_type": "execute_result"
    },
    {
     "data": {
      "image/png": "[encoded data removed]",
      "text/plain": [
       "<Figure size 640x480 with 1 Axes>"
      ]
     },
     "metadata": {},
     "output_type": "display_data"
    }
   ],
   "source": [
    "df['previous'].plot(kind='hist',bins=20)"
   ]
  },
  {
   "cell_type": "code",
   "execution_count": 56,
   "id": "668d506b",
   "metadata": {
    "execution": {
     "iopub.execute_input": "2024-11-15T06:47:27.941397Z",
     "iopub.status.busy": "2024-11-15T06:47:27.940328Z",
     "iopub.status.idle": "2024-11-15T06:47:29.037193Z",
     "shell.execute_reply": "2024-11-15T06:47:29.035974Z"
    },
    "papermill": {
     "duration": 1.152805,
     "end_time": "2024-11-15T06:47:29.039907",
     "exception": false,
     "start_time": "2024-11-15T06:47:27.887102",
     "status": "completed"
    },
    "tags": []
   },
   "outputs": [
    {
     "data": {
      "text/plain": [
       "<Axes: ylabel='Density'>"
      ]
     },
     "execution_count": 56,
     "metadata": {},
     "output_type": "execute_result"
    },
    {
     "data": {
      "image/png": "[encoded data removed]",
      "text/plain": [
       "<Figure size 640x480 with 1 Axes>"
      ]
     },
     "metadata": {},
     "output_type": "display_data"
    }
   ],
   "source": [
    "df['previous'].plot(kind='kde')"
   ]
  },
  {
   "cell_type": "code",
   "execution_count": 57,
   "id": "e407dd96",
   "metadata": {
    "execution": {
     "iopub.execute_input": "2024-11-15T06:47:29.151930Z",
     "iopub.status.busy": "2024-11-15T06:47:29.150435Z",
     "iopub.status.idle": "2024-11-15T06:47:29.159804Z",
     "shell.execute_reply": "2024-11-15T06:47:29.158664Z"
    },
    "papermill": {
     "duration": 0.067989,
     "end_time": "2024-11-15T06:47:29.162353",
     "exception": false,
     "start_time": "2024-11-15T06:47:29.094364",
     "status": "completed"
    },
    "tags": []
   },
   "outputs": [
    {
     "data": {
      "text/plain": [
       "4.206572876950425"
      ]
     },
     "execution_count": 57,
     "metadata": {},
     "output_type": "execute_result"
    }
   ],
   "source": [
    "df['previous'].skew()"
   ]
  },
  {
   "cell_type": "code",
   "execution_count": 58,
   "id": "0dafb193",
   "metadata": {
    "execution": {
     "iopub.execute_input": "2024-11-15T06:47:29.275649Z",
     "iopub.status.busy": "2024-11-15T06:47:29.274978Z",
     "iopub.status.idle": "2024-11-15T06:47:29.597619Z",
     "shell.execute_reply": "2024-11-15T06:47:29.596127Z"
    },
    "papermill": {
     "duration": 0.386094,
     "end_time": "2024-11-15T06:47:29.601036",
     "exception": false,
     "start_time": "2024-11-15T06:47:29.214942",
     "status": "completed"
    },
    "tags": []
   },
   "outputs": [
    {
     "data": {
      "text/plain": [
       "<Axes: >"
      ]
     },
     "execution_count": 58,
     "metadata": {},
     "output_type": "execute_result"
    },
    {
     "data": {
      "image/png": "[encoded data removed]",
      "text/plain": [
       "<Figure size 640x480 with 1 Axes>"
      ]
     },
     "metadata": {},
     "output_type": "display_data"
    }
   ],
   "source": [
    "df['previous'].plot(kind='box')"
   ]
  },
  {
   "cell_type": "code",
   "execution_count": 59,
   "id": "ea502294",
   "metadata": {
    "execution": {
     "iopub.execute_input": "2024-11-15T06:47:29.731949Z",
     "iopub.status.busy": "2024-11-15T06:47:29.730874Z",
     "iopub.status.idle": "2024-11-15T06:47:29.758304Z",
     "shell.execute_reply": "2024-11-15T06:47:29.757014Z"
    },
    "papermill": {
     "duration": 0.092685,
     "end_time": "2024-11-15T06:47:29.761571",
     "exception": false,
     "start_time": "2024-11-15T06:47:29.668886",
     "status": "completed"
    },
    "tags": []
   },
   "outputs": [
    {
     "data": {
      "text/plain": [
       "count    5827.000000\n",
       "mean       39.625536\n",
       "std        75.242365\n",
       "min         0.000000\n",
       "25%         0.000000\n",
       "50%         1.000000\n",
       "75%        28.000000\n",
       "max       275.000000\n",
       "Name: previous, dtype: float64"
      ]
     },
     "execution_count": 59,
     "metadata": {},
     "output_type": "execute_result"
    }
   ],
   "source": [
    "df[(df['target']=='yes')]['previous'].describe()"
   ]
  },
  {
   "cell_type": "code",
   "execution_count": 60,
   "id": "f7e5f94b",
   "metadata": {
    "execution": {
     "iopub.execute_input": "2024-11-15T06:47:29.890205Z",
     "iopub.status.busy": "2024-11-15T06:47:29.889477Z",
     "iopub.status.idle": "2024-11-15T06:47:29.900412Z",
     "shell.execute_reply": "2024-11-15T06:47:29.898965Z"
    },
    "papermill": {
     "duration": 0.079911,
     "end_time": "2024-11-15T06:47:29.903573",
     "exception": false,
     "start_time": "2024-11-15T06:47:29.823662",
     "status": "completed"
    },
    "tags": []
   },
   "outputs": [
    {
     "data": {
      "text/plain": [
       "0"
      ]
     },
     "execution_count": 60,
     "metadata": {},
     "output_type": "execute_result"
    }
   ],
   "source": [
    "df['previous'].isnull().sum()"
   ]
  },
  {
   "cell_type": "markdown",
   "id": "becd1225",
   "metadata": {
    "papermill": {
     "duration": 0.063807,
     "end_time": "2024-11-15T06:47:30.026546",
     "exception": false,
     "start_time": "2024-11-15T06:47:29.962739",
     "status": "completed"
    },
    "tags": []
   },
   "source": [
    "## categorical data analysis"
   ]
  },
  {
   "cell_type": "code",
   "execution_count": 61,
   "id": "d8b981c4",
   "metadata": {
    "execution": {
     "iopub.execute_input": "2024-11-15T06:47:30.160171Z",
     "iopub.status.busy": "2024-11-15T06:47:30.159411Z",
     "iopub.status.idle": "2024-11-15T06:47:30.178981Z",
     "shell.execute_reply": "2024-11-15T06:47:30.177301Z"
    },
    "papermill": {
     "duration": 0.092389,
     "end_time": "2024-11-15T06:47:30.182318",
     "exception": false,
     "start_time": "2024-11-15T06:47:30.089929",
     "status": "completed"
    },
    "tags": []
   },
   "outputs": [
    {
     "data": {
      "text/plain": [
       "job\n",
       "blue-collar      7776\n",
       "management       7462\n",
       "technician       6078\n",
       "admin.           4116\n",
       "services         3325\n",
       "self-employed    1862\n",
       "retired          1824\n",
       "entrepreneur     1805\n",
       "unemployed       1685\n",
       "housemaid        1656\n",
       "student          1393\n",
       "Name: count, dtype: int64"
      ]
     },
     "execution_count": 61,
     "metadata": {},
     "output_type": "execute_result"
    }
   ],
   "source": [
    "df['job'].value_counts()"
   ]
  },
  {
   "cell_type": "code",
   "execution_count": 62,
   "id": "1ec8b118",
   "metadata": {
    "execution": {
     "iopub.execute_input": "2024-11-15T06:47:30.309151Z",
     "iopub.status.busy": "2024-11-15T06:47:30.307487Z",
     "iopub.status.idle": "2024-11-15T06:47:30.654420Z",
     "shell.execute_reply": "2024-11-15T06:47:30.653078Z"
    },
    "papermill": {
     "duration": 0.416215,
     "end_time": "2024-11-15T06:47:30.658501",
     "exception": false,
     "start_time": "2024-11-15T06:47:30.242286",
     "status": "completed"
    },
    "tags": []
   },
   "outputs": [
    {
     "data": {
      "text/plain": [
       "<Axes: ylabel='count'>"
      ]
     },
     "execution_count": 62,
     "metadata": {},
     "output_type": "execute_result"
    },
    {
     "data": {
      "image/png": "[encoded data removed]",
      "text/plain": [
       "<Figure size 640x480 with 1 Axes>"
      ]
     },
     "metadata": {},
     "output_type": "display_data"
    }
   ],
   "source": [
    "df['job'].value_counts().plot(kind='pie',autopct='%0.1f%%')"
   ]
  },
  {
   "cell_type": "code",
   "execution_count": 63,
   "id": "3d75858f",
   "metadata": {
    "execution": {
     "iopub.execute_input": "2024-11-15T06:47:30.783223Z",
     "iopub.status.busy": "2024-11-15T06:47:30.782599Z",
     "iopub.status.idle": "2024-11-15T06:47:31.039365Z",
     "shell.execute_reply": "2024-11-15T06:47:31.037506Z"
    },
    "papermill": {
     "duration": 0.325403,
     "end_time": "2024-11-15T06:47:31.045106",
     "exception": false,
     "start_time": "2024-11-15T06:47:30.719703",
     "status": "completed"
    },
    "tags": []
   },
   "outputs": [
    {
     "data": {
      "text/plain": [
       "<Axes: ylabel='count'>"
      ]
     },
     "execution_count": 63,
     "metadata": {},
     "output_type": "execute_result"
    },
    {
     "data": {
      "image/png": "[encoded data removed]",
      "text/plain": [
       "<Figure size 640x480 with 1 Axes>"
      ]
     },
     "metadata": {},
     "output_type": "display_data"
    }
   ],
   "source": [
    "df[(df['target']=='yes')]['job'].value_counts().plot(kind='pie',autopct='%0.1f%%')"
   ]
  },
  {
   "cell_type": "code",
   "execution_count": 64,
   "id": "f3a5a2dc",
   "metadata": {
    "execution": {
     "iopub.execute_input": "2024-11-15T06:47:31.197751Z",
     "iopub.status.busy": "2024-11-15T06:47:31.197220Z",
     "iopub.status.idle": "2024-11-15T06:47:31.214742Z",
     "shell.execute_reply": "2024-11-15T06:47:31.213603Z"
    },
    "papermill": {
     "duration": 0.082971,
     "end_time": "2024-11-15T06:47:31.217420",
     "exception": false,
     "start_time": "2024-11-15T06:47:31.134449",
     "status": "completed"
    },
    "tags": []
   },
   "outputs": [
    {
     "data": {
      "text/plain": [
       "marital\n",
       "married     22691\n",
       "single      11250\n",
       "divorced     5270\n",
       "Name: count, dtype: int64"
      ]
     },
     "execution_count": 64,
     "metadata": {},
     "output_type": "execute_result"
    }
   ],
   "source": [
    "df['marital'].value_counts()"
   ]
  },
  {
   "cell_type": "code",
   "execution_count": 65,
   "id": "390e7a84",
   "metadata": {
    "execution": {
     "iopub.execute_input": "2024-11-15T06:47:31.344303Z",
     "iopub.status.busy": "2024-11-15T06:47:31.343723Z",
     "iopub.status.idle": "2024-11-15T06:47:31.537990Z",
     "shell.execute_reply": "2024-11-15T06:47:31.535925Z"
    },
    "papermill": {
     "duration": 0.266388,
     "end_time": "2024-11-15T06:47:31.544536",
     "exception": false,
     "start_time": "2024-11-15T06:47:31.278148",
     "status": "completed"
    },
    "tags": []
   },
   "outputs": [
    {
     "data": {
      "text/plain": [
       "<Axes: ylabel='count'>"
      ]
     },
     "execution_count": 65,
     "metadata": {},
     "output_type": "execute_result"
    },
    {
     "data": {
      "image/png": "[encoded data removed]",
      "text/plain": [
       "<Figure size 640x480 with 1 Axes>"
      ]
     },
     "metadata": {},
     "output_type": "display_data"
    }
   ],
   "source": [
    "df['marital'].value_counts().plot(kind='pie',autopct='%0.1f%%')"
   ]
  },
  {
   "cell_type": "code",
   "execution_count": 66,
   "id": "1f3b3ac9",
   "metadata": {
    "execution": {
     "iopub.execute_input": "2024-11-15T06:47:31.683237Z",
     "iopub.status.busy": "2024-11-15T06:47:31.682348Z",
     "iopub.status.idle": "2024-11-15T06:47:31.814920Z",
     "shell.execute_reply": "2024-11-15T06:47:31.813397Z"
    },
    "papermill": {
     "duration": 0.196112,
     "end_time": "2024-11-15T06:47:31.819835",
     "exception": false,
     "start_time": "2024-11-15T06:47:31.623723",
     "status": "completed"
    },
    "tags": []
   },
   "outputs": [
    {
     "data": {
      "text/plain": [
       "<Axes: ylabel='count'>"
      ]
     },
     "execution_count": 66,
     "metadata": {},
     "output_type": "execute_result"
    },
    {
     "data": {
      "image/png": "[encoded data removed]",
      "text/plain": [
       "<Figure size 640x480 with 1 Axes>"
      ]
     },
     "metadata": {},
     "output_type": "display_data"
    }
   ],
   "source": [
    "df[(df['target']=='yes')]['marital'].value_counts().plot(kind='pie',autopct='%0.1f%%')"
   ]
  },
  {
   "cell_type": "code",
   "execution_count": 67,
   "id": "81cfaa7b",
   "metadata": {
    "execution": {
     "iopub.execute_input": "2024-11-15T06:47:31.979335Z",
     "iopub.status.busy": "2024-11-15T06:47:31.978854Z",
     "iopub.status.idle": "2024-11-15T06:47:31.993919Z",
     "shell.execute_reply": "2024-11-15T06:47:31.992785Z"
    },
    "papermill": {
     "duration": 0.076547,
     "end_time": "2024-11-15T06:47:31.996398",
     "exception": false,
     "start_time": "2024-11-15T06:47:31.919851",
     "status": "completed"
    },
    "tags": []
   },
   "outputs": [
    {
     "data": {
      "text/plain": [
       "education\n",
       "secondary    19584\n",
       "tertiary     11615\n",
       "primary       6545\n",
       "Name: count, dtype: int64"
      ]
     },
     "execution_count": 67,
     "metadata": {},
     "output_type": "execute_result"
    }
   ],
   "source": [
    "df['education'].value_counts()"
   ]
  },
  {
   "cell_type": "code",
   "execution_count": 68,
   "id": "ded1abff",
   "metadata": {
    "execution": {
     "iopub.execute_input": "2024-11-15T06:47:32.113020Z",
     "iopub.status.busy": "2024-11-15T06:47:32.112537Z",
     "iopub.status.idle": "2024-11-15T06:47:32.256912Z",
     "shell.execute_reply": "2024-11-15T06:47:32.255660Z"
    },
    "papermill": {
     "duration": 0.206629,
     "end_time": "2024-11-15T06:47:32.259950",
     "exception": false,
     "start_time": "2024-11-15T06:47:32.053321",
     "status": "completed"
    },
    "tags": []
   },
   "outputs": [
    {
     "data": {
      "text/plain": [
       "<Axes: ylabel='count'>"
      ]
     },
     "execution_count": 68,
     "metadata": {},
     "output_type": "execute_result"
    },
    {
     "data": {
      "image/png": "[encoded data removed]",
      "text/plain": [
       "<Figure size 640x480 with 1 Axes>"
      ]
     },
     "metadata": {},
     "output_type": "display_data"
    }
   ],
   "source": [
    "df['education'].value_counts().plot(kind='pie',autopct='%0.1f%%')"
   ]
  },
  {
   "cell_type": "code",
   "execution_count": 69,
   "id": "e9f67ab6",
   "metadata": {
    "execution": {
     "iopub.execute_input": "2024-11-15T06:47:32.421708Z",
     "iopub.status.busy": "2024-11-15T06:47:32.421277Z",
     "iopub.status.idle": "2024-11-15T06:47:32.434221Z",
     "shell.execute_reply": "2024-11-15T06:47:32.433052Z"
    },
    "papermill": {
     "duration": 0.086547,
     "end_time": "2024-11-15T06:47:32.436705",
     "exception": false,
     "start_time": "2024-11-15T06:47:32.350158",
     "status": "completed"
    },
    "tags": []
   },
   "outputs": [
    {
     "data": {
      "text/plain": [
       "poutcome\n",
       "failure    4949\n",
       "other      2560\n",
       "success    2251\n",
       "Name: count, dtype: int64"
      ]
     },
     "execution_count": 69,
     "metadata": {},
     "output_type": "execute_result"
    }
   ],
   "source": [
    "df['poutcome'].value_counts()"
   ]
  },
  {
   "cell_type": "code",
   "execution_count": 70,
   "id": "dc4e65df",
   "metadata": {
    "execution": {
     "iopub.execute_input": "2024-11-15T06:47:32.555772Z",
     "iopub.status.busy": "2024-11-15T06:47:32.554822Z",
     "iopub.status.idle": "2024-11-15T06:47:32.713402Z",
     "shell.execute_reply": "2024-11-15T06:47:32.711696Z"
    },
    "papermill": {
     "duration": 0.223313,
     "end_time": "2024-11-15T06:47:32.717857",
     "exception": false,
     "start_time": "2024-11-15T06:47:32.494544",
     "status": "completed"
    },
    "tags": []
   },
   "outputs": [
    {
     "data": {
      "text/plain": [
       "<Axes: ylabel='count'>"
      ]
     },
     "execution_count": 70,
     "metadata": {},
     "output_type": "execute_result"
    },
    {
     "data": {
      "image/png": "[encoded data removed]",
      "text/plain": [
       "<Figure size 640x480 with 1 Axes>"
      ]
     },
     "metadata": {},
     "output_type": "display_data"
    }
   ],
   "source": [
    "df['poutcome'].value_counts().plot(kind='pie',autopct='%0.1f%%')"
   ]
  },
  {
   "cell_type": "code",
   "execution_count": 71,
   "id": "befebcf2",
   "metadata": {
    "execution": {
     "iopub.execute_input": "2024-11-15T06:47:32.877849Z",
     "iopub.status.busy": "2024-11-15T06:47:32.877391Z",
     "iopub.status.idle": "2024-11-15T06:47:33.063097Z",
     "shell.execute_reply": "2024-11-15T06:47:33.061301Z"
    },
    "papermill": {
     "duration": 0.259543,
     "end_time": "2024-11-15T06:47:33.067027",
     "exception": false,
     "start_time": "2024-11-15T06:47:32.807484",
     "status": "completed"
    },
    "tags": []
   },
   "outputs": [
    {
     "data": {
      "text/plain": [
       "<Axes: ylabel='count'>"
      ]
     },
     "execution_count": 71,
     "metadata": {},
     "output_type": "execute_result"
    },
    {
     "data": {
      "image/png": "[encoded data removed]",
      "text/plain": [
       "<Figure size 640x480 with 1 Axes>"
      ]
     },
     "metadata": {},
     "output_type": "display_data"
    }
   ],
   "source": [
    "df[(df['target']=='yes')]['poutcome'].value_counts().plot(kind='pie',autopct='%0.1f%%')"
   ]
  },
  {
   "cell_type": "markdown",
   "id": "7b36942e",
   "metadata": {
    "papermill": {
     "duration": 0.059626,
     "end_time": "2024-11-15T06:47:33.229383",
     "exception": false,
     "start_time": "2024-11-15T06:47:33.169757",
     "status": "completed"
    },
    "tags": []
   },
   "source": [
    "## Bivariate analysis"
   ]
  },
  {
   "cell_type": "code",
   "execution_count": 72,
   "id": "f95f0bf9",
   "metadata": {
    "execution": {
     "iopub.execute_input": "2024-11-15T06:47:33.353482Z",
     "iopub.status.busy": "2024-11-15T06:47:33.353013Z",
     "iopub.status.idle": "2024-11-15T06:47:33.696862Z",
     "shell.execute_reply": "2024-11-15T06:47:33.695745Z"
    },
    "papermill": {
     "duration": 0.409463,
     "end_time": "2024-11-15T06:47:33.699510",
     "exception": false,
     "start_time": "2024-11-15T06:47:33.290047",
     "status": "completed"
    },
    "tags": []
   },
   "outputs": [
    {
     "data": {
      "image/png": "[encoded data removed]",
      "text/plain": [
       "<Figure size 640x480 with 1 Axes>"
      ]
     },
     "metadata": {},
     "output_type": "display_data"
    }
   ],
   "source": [
    "import seaborn as sns\n",
    "import matplotlib.pyplot as plt\n",
    "\n",
    "sns.countplot(x='marital', hue='target', data=df)\n",
    "plt.title('Marital Status vs Target')\n",
    "plt.show()\n"
   ]
  },
  {
   "cell_type": "code",
   "execution_count": 73,
   "id": "676c319c",
   "metadata": {
    "execution": {
     "iopub.execute_input": "2024-11-15T06:47:33.823515Z",
     "iopub.status.busy": "2024-11-15T06:47:33.823048Z",
     "iopub.status.idle": "2024-11-15T06:47:34.097976Z",
     "shell.execute_reply": "2024-11-15T06:47:34.096671Z"
    },
    "papermill": {
     "duration": 0.339887,
     "end_time": "2024-11-15T06:47:34.100597",
     "exception": false,
     "start_time": "2024-11-15T06:47:33.760710",
     "status": "completed"
    },
    "tags": []
   },
   "outputs": [
    {
     "data": {
      "image/png": "[encoded data removed]",
      "text/plain": [
       "<Figure size 1000x600 with 1 Axes>"
      ]
     },
     "metadata": {},
     "output_type": "display_data"
    }
   ],
   "source": [
    "plt.figure(figsize=(10, 6))\n",
    "sns.boxplot(data=df, x='target', y='age')\n",
    "plt.title('Age Distribution by Subscription Status')\n",
    "plt.xlabel('Subscription Status')\n",
    "plt.ylabel('Age')\n",
    "plt.show()"
   ]
  },
  {
   "cell_type": "code",
   "execution_count": 74,
   "id": "10d36775",
   "metadata": {
    "execution": {
     "iopub.execute_input": "2024-11-15T06:47:34.225085Z",
     "iopub.status.busy": "2024-11-15T06:47:34.223924Z",
     "iopub.status.idle": "2024-11-15T06:47:34.736155Z",
     "shell.execute_reply": "2024-11-15T06:47:34.735093Z"
    },
    "papermill": {
     "duration": 0.577163,
     "end_time": "2024-11-15T06:47:34.738879",
     "exception": false,
     "start_time": "2024-11-15T06:47:34.161716",
     "status": "completed"
    },
    "tags": []
   },
   "outputs": [
    {
     "data": {
      "image/png": "[encoded data removed]",
      "text/plain": [
       "<Figure size 1200x600 with 1 Axes>"
      ]
     },
     "metadata": {},
     "output_type": "display_data"
    }
   ],
   "source": [
    "plt.figure(figsize=(12, 6))\n",
    "sns.countplot(data=df, x='job', hue='target')\n",
    "plt.title('Job Type vs. Subscription to Term Deposit')\n",
    "plt.xlabel('Job Type')\n",
    "plt.ylabel('Count')\n",
    "plt.xticks(rotation=45)\n",
    "plt.legend(title='Subscription', loc='upper right', labels=['No', 'Yes'])\n",
    "plt.show()"
   ]
  },
  {
   "cell_type": "code",
   "execution_count": 75,
   "id": "31025fb5",
   "metadata": {
    "execution": {
     "iopub.execute_input": "2024-11-15T06:47:34.866054Z",
     "iopub.status.busy": "2024-11-15T06:47:34.865218Z",
     "iopub.status.idle": "2024-11-15T06:47:35.134291Z",
     "shell.execute_reply": "2024-11-15T06:47:35.133184Z"
    },
    "papermill": {
     "duration": 0.335408,
     "end_time": "2024-11-15T06:47:35.136901",
     "exception": false,
     "start_time": "2024-11-15T06:47:34.801493",
     "status": "completed"
    },
    "tags": []
   },
   "outputs": [
    {
     "data": {
      "image/png": "[encoded data removed]",
      "text/plain": [
       "<Figure size 1000x600 with 1 Axes>"
      ]
     },
     "metadata": {},
     "output_type": "display_data"
    }
   ],
   "source": [
    "plt.figure(figsize=(10, 6))\n",
    "sns.boxplot(data=df, x='target', y='balance')\n",
    "plt.title('Balance Distribution by Subscription Status')\n",
    "plt.xlabel('Subscription Status')\n",
    "plt.ylabel('Balance (euros)')\n",
    "plt.show()"
   ]
  },
  {
   "cell_type": "markdown",
   "id": "676f50d8",
   "metadata": {
    "papermill": {
     "duration": 0.062281,
     "end_time": "2024-11-15T06:47:35.262348",
     "exception": false,
     "start_time": "2024-11-15T06:47:35.200067",
     "status": "completed"
    },
    "tags": []
   },
   "source": [
    "# model 1\n",
    "* simple imputer used to fill in nan in jobs\n"
   ]
  },
  {
   "cell_type": "code",
   "execution_count": 76,
   "id": "92bac4bb",
   "metadata": {
    "execution": {
     "iopub.execute_input": "2024-11-15T06:47:35.393598Z",
     "iopub.status.busy": "2024-11-15T06:47:35.392011Z",
     "iopub.status.idle": "2024-11-15T06:47:35.460049Z",
     "shell.execute_reply": "2024-11-15T06:47:35.458631Z"
    },
    "papermill": {
     "duration": 0.135603,
     "end_time": "2024-11-15T06:47:35.463115",
     "exception": false,
     "start_time": "2024-11-15T06:47:35.327512",
     "status": "completed"
    },
    "tags": []
   },
   "outputs": [
    {
     "data": {
      "text/plain": [
       "\"X = df_copy.drop('target', axis=1)\\ny = df_copy['target']\""
      ]
     },
     "execution_count": 76,
     "metadata": {},
     "output_type": "execute_result"
    }
   ],
   "source": [
    "# Create a copy of the dataframe\n",
    "df_copy = df.copy(deep=True)\n",
    "df_test = pd.read_csv('/kaggle/input/predict-the-success-of-bank-telemarketing/test.csv')\n",
    "\n",
    "# Drop 'last contact date' column\n",
    "df_copy = df_copy.drop('last contact date', axis=1)\n",
    "df_test = df_test.drop('last contact date', axis=1)\n",
    "\n",
    "'''X = df_copy.drop('target', axis=1)\n",
    "y = df_copy['target']'''"
   ]
  },
  {
   "cell_type": "code",
   "execution_count": 77,
   "id": "8f39458d",
   "metadata": {
    "execution": {
     "iopub.execute_input": "2024-11-15T06:47:35.590607Z",
     "iopub.status.busy": "2024-11-15T06:47:35.590155Z",
     "iopub.status.idle": "2024-11-15T06:47:35.635792Z",
     "shell.execute_reply": "2024-11-15T06:47:35.634550Z"
    },
    "papermill": {
     "duration": 0.112442,
     "end_time": "2024-11-15T06:47:35.638560",
     "exception": false,
     "start_time": "2024-11-15T06:47:35.526118",
     "status": "completed"
    },
    "tags": []
   },
   "outputs": [
    {
     "data": {
      "text/plain": [
       "age              0\n",
       "job            229\n",
       "marital          0\n",
       "education     1467\n",
       "default          0\n",
       "balance          0\n",
       "housing          0\n",
       "loan             0\n",
       "contact      10336\n",
       "duration         0\n",
       "campaign         0\n",
       "pdays            0\n",
       "previous         0\n",
       "poutcome     29451\n",
       "target           0\n",
       "dtype: int64"
      ]
     },
     "execution_count": 77,
     "metadata": {},
     "output_type": "execute_result"
    }
   ],
   "source": [
    "df_copy.isnull().sum()"
   ]
  },
  {
   "cell_type": "code",
   "execution_count": 78,
   "id": "fdec0afd",
   "metadata": {
    "execution": {
     "iopub.execute_input": "2024-11-15T06:47:35.767006Z",
     "iopub.status.busy": "2024-11-15T06:47:35.766481Z",
     "iopub.status.idle": "2024-11-15T06:47:35.783713Z",
     "shell.execute_reply": "2024-11-15T06:47:35.782402Z"
    },
    "papermill": {
     "duration": 0.084493,
     "end_time": "2024-11-15T06:47:35.786433",
     "exception": false,
     "start_time": "2024-11-15T06:47:35.701940",
     "status": "completed"
    },
    "tags": []
   },
   "outputs": [
    {
     "data": {
      "text/plain": [
       "target\n",
       "no     205\n",
       "yes     24\n",
       "Name: count, dtype: int64"
      ]
     },
     "execution_count": 78,
     "metadata": {},
     "output_type": "execute_result"
    }
   ],
   "source": [
    "df_copy[df_copy['job'].isnull()]['target'].value_counts()"
   ]
  },
  {
   "cell_type": "code",
   "execution_count": 79,
   "id": "96f35fbd",
   "metadata": {
    "execution": {
     "iopub.execute_input": "2024-11-15T06:47:35.915099Z",
     "iopub.status.busy": "2024-11-15T06:47:35.914619Z",
     "iopub.status.idle": "2024-11-15T06:47:35.955889Z",
     "shell.execute_reply": "2024-11-15T06:47:35.954717Z"
    },
    "papermill": {
     "duration": 0.108912,
     "end_time": "2024-11-15T06:47:35.958917",
     "exception": false,
     "start_time": "2024-11-15T06:47:35.850005",
     "status": "completed"
    },
    "tags": []
   },
   "outputs": [
    {
     "data": {
      "text/html": [
       "<div>\n",
       "<style scoped>\n",
       "    .dataframe tbody tr th:only-of-type {\n",
       "        vertical-align: middle;\n",
       "    }\n",
       "\n",
       "    .dataframe tbody tr th {\n",
       "        vertical-align: top;\n",
       "    }\n",
       "\n",
       "    .dataframe thead th {\n",
       "        text-align: right;\n",
       "    }\n",
       "</style>\n",
       "<table border=\"1\" class=\"dataframe\">\n",
       "  <thead>\n",
       "    <tr style=\"text-align: right;\">\n",
       "      <th></th>\n",
       "      <th>age</th>\n",
       "      <th>job</th>\n",
       "      <th>marital</th>\n",
       "      <th>education</th>\n",
       "      <th>default</th>\n",
       "      <th>balance</th>\n",
       "      <th>housing</th>\n",
       "      <th>loan</th>\n",
       "      <th>contact</th>\n",
       "      <th>duration</th>\n",
       "      <th>campaign</th>\n",
       "      <th>pdays</th>\n",
       "      <th>previous</th>\n",
       "      <th>poutcome</th>\n",
       "      <th>target</th>\n",
       "    </tr>\n",
       "  </thead>\n",
       "  <tbody>\n",
       "    <tr>\n",
       "      <th>2158</th>\n",
       "      <td>54</td>\n",
       "      <td>NaN</td>\n",
       "      <td>married</td>\n",
       "      <td>NaN</td>\n",
       "      <td>no</td>\n",
       "      <td>895</td>\n",
       "      <td>no</td>\n",
       "      <td>no</td>\n",
       "      <td>cellular</td>\n",
       "      <td>335</td>\n",
       "      <td>1</td>\n",
       "      <td>-1</td>\n",
       "      <td>0</td>\n",
       "      <td>NaN</td>\n",
       "      <td>yes</td>\n",
       "    </tr>\n",
       "    <tr>\n",
       "      <th>4391</th>\n",
       "      <td>33</td>\n",
       "      <td>NaN</td>\n",
       "      <td>married</td>\n",
       "      <td>secondary</td>\n",
       "      <td>no</td>\n",
       "      <td>335</td>\n",
       "      <td>no</td>\n",
       "      <td>no</td>\n",
       "      <td>cellular</td>\n",
       "      <td>891</td>\n",
       "      <td>2</td>\n",
       "      <td>177</td>\n",
       "      <td>7</td>\n",
       "      <td>failure</td>\n",
       "      <td>yes</td>\n",
       "    </tr>\n",
       "    <tr>\n",
       "      <th>5978</th>\n",
       "      <td>54</td>\n",
       "      <td>NaN</td>\n",
       "      <td>married</td>\n",
       "      <td>secondary</td>\n",
       "      <td>no</td>\n",
       "      <td>2206</td>\n",
       "      <td>no</td>\n",
       "      <td>no</td>\n",
       "      <td>cellular</td>\n",
       "      <td>449</td>\n",
       "      <td>1</td>\n",
       "      <td>91</td>\n",
       "      <td>3</td>\n",
       "      <td>success</td>\n",
       "      <td>yes</td>\n",
       "    </tr>\n",
       "    <tr>\n",
       "      <th>6216</th>\n",
       "      <td>54</td>\n",
       "      <td>NaN</td>\n",
       "      <td>married</td>\n",
       "      <td>secondary</td>\n",
       "      <td>no</td>\n",
       "      <td>2206</td>\n",
       "      <td>no</td>\n",
       "      <td>no</td>\n",
       "      <td>cellular</td>\n",
       "      <td>260</td>\n",
       "      <td>1</td>\n",
       "      <td>91</td>\n",
       "      <td>4</td>\n",
       "      <td>success</td>\n",
       "      <td>yes</td>\n",
       "    </tr>\n",
       "    <tr>\n",
       "      <th>9557</th>\n",
       "      <td>49</td>\n",
       "      <td>NaN</td>\n",
       "      <td>married</td>\n",
       "      <td>primary</td>\n",
       "      <td>no</td>\n",
       "      <td>341</td>\n",
       "      <td>yes</td>\n",
       "      <td>yes</td>\n",
       "      <td>NaN</td>\n",
       "      <td>520</td>\n",
       "      <td>2</td>\n",
       "      <td>-1</td>\n",
       "      <td>0</td>\n",
       "      <td>NaN</td>\n",
       "      <td>yes</td>\n",
       "    </tr>\n",
       "    <tr>\n",
       "      <th>13419</th>\n",
       "      <td>28</td>\n",
       "      <td>NaN</td>\n",
       "      <td>single</td>\n",
       "      <td>secondary</td>\n",
       "      <td>no</td>\n",
       "      <td>4465</td>\n",
       "      <td>no</td>\n",
       "      <td>no</td>\n",
       "      <td>cellular</td>\n",
       "      <td>769</td>\n",
       "      <td>1</td>\n",
       "      <td>-1</td>\n",
       "      <td>0</td>\n",
       "      <td>NaN</td>\n",
       "      <td>yes</td>\n",
       "    </tr>\n",
       "    <tr>\n",
       "      <th>15061</th>\n",
       "      <td>50</td>\n",
       "      <td>NaN</td>\n",
       "      <td>married</td>\n",
       "      <td>primary</td>\n",
       "      <td>no</td>\n",
       "      <td>341</td>\n",
       "      <td>yes</td>\n",
       "      <td>yes</td>\n",
       "      <td>cellular</td>\n",
       "      <td>670</td>\n",
       "      <td>4</td>\n",
       "      <td>340</td>\n",
       "      <td>2</td>\n",
       "      <td>success</td>\n",
       "      <td>yes</td>\n",
       "    </tr>\n",
       "    <tr>\n",
       "      <th>15579</th>\n",
       "      <td>41</td>\n",
       "      <td>NaN</td>\n",
       "      <td>single</td>\n",
       "      <td>NaN</td>\n",
       "      <td>no</td>\n",
       "      <td>942</td>\n",
       "      <td>no</td>\n",
       "      <td>no</td>\n",
       "      <td>cellular</td>\n",
       "      <td>219</td>\n",
       "      <td>1</td>\n",
       "      <td>-1</td>\n",
       "      <td>0</td>\n",
       "      <td>NaN</td>\n",
       "      <td>yes</td>\n",
       "    </tr>\n",
       "    <tr>\n",
       "      <th>16923</th>\n",
       "      <td>37</td>\n",
       "      <td>NaN</td>\n",
       "      <td>single</td>\n",
       "      <td>tertiary</td>\n",
       "      <td>no</td>\n",
       "      <td>0</td>\n",
       "      <td>no</td>\n",
       "      <td>no</td>\n",
       "      <td>cellular</td>\n",
       "      <td>257</td>\n",
       "      <td>2</td>\n",
       "      <td>97</td>\n",
       "      <td>1</td>\n",
       "      <td>success</td>\n",
       "      <td>yes</td>\n",
       "    </tr>\n",
       "    <tr>\n",
       "      <th>20573</th>\n",
       "      <td>54</td>\n",
       "      <td>NaN</td>\n",
       "      <td>married</td>\n",
       "      <td>secondary</td>\n",
       "      <td>no</td>\n",
       "      <td>2206</td>\n",
       "      <td>no</td>\n",
       "      <td>no</td>\n",
       "      <td>cellular</td>\n",
       "      <td>104</td>\n",
       "      <td>1</td>\n",
       "      <td>99</td>\n",
       "      <td>2</td>\n",
       "      <td>other</td>\n",
       "      <td>yes</td>\n",
       "    </tr>\n",
       "    <tr>\n",
       "      <th>21686</th>\n",
       "      <td>77</td>\n",
       "      <td>NaN</td>\n",
       "      <td>married</td>\n",
       "      <td>NaN</td>\n",
       "      <td>no</td>\n",
       "      <td>397</td>\n",
       "      <td>no</td>\n",
       "      <td>no</td>\n",
       "      <td>telephone</td>\n",
       "      <td>300</td>\n",
       "      <td>3</td>\n",
       "      <td>-1</td>\n",
       "      <td>0</td>\n",
       "      <td>NaN</td>\n",
       "      <td>yes</td>\n",
       "    </tr>\n",
       "    <tr>\n",
       "      <th>22448</th>\n",
       "      <td>50</td>\n",
       "      <td>NaN</td>\n",
       "      <td>married</td>\n",
       "      <td>NaN</td>\n",
       "      <td>no</td>\n",
       "      <td>558</td>\n",
       "      <td>no</td>\n",
       "      <td>no</td>\n",
       "      <td>cellular</td>\n",
       "      <td>464</td>\n",
       "      <td>1</td>\n",
       "      <td>683</td>\n",
       "      <td>6</td>\n",
       "      <td>failure</td>\n",
       "      <td>yes</td>\n",
       "    </tr>\n",
       "    <tr>\n",
       "      <th>22888</th>\n",
       "      <td>28</td>\n",
       "      <td>NaN</td>\n",
       "      <td>single</td>\n",
       "      <td>NaN</td>\n",
       "      <td>no</td>\n",
       "      <td>326</td>\n",
       "      <td>no</td>\n",
       "      <td>no</td>\n",
       "      <td>cellular</td>\n",
       "      <td>450</td>\n",
       "      <td>1</td>\n",
       "      <td>231</td>\n",
       "      <td>1</td>\n",
       "      <td>success</td>\n",
       "      <td>yes</td>\n",
       "    </tr>\n",
       "    <tr>\n",
       "      <th>25493</th>\n",
       "      <td>47</td>\n",
       "      <td>NaN</td>\n",
       "      <td>married</td>\n",
       "      <td>NaN</td>\n",
       "      <td>no</td>\n",
       "      <td>677</td>\n",
       "      <td>no</td>\n",
       "      <td>no</td>\n",
       "      <td>cellular</td>\n",
       "      <td>900</td>\n",
       "      <td>2</td>\n",
       "      <td>86</td>\n",
       "      <td>2</td>\n",
       "      <td>failure</td>\n",
       "      <td>yes</td>\n",
       "    </tr>\n",
       "    <tr>\n",
       "      <th>29671</th>\n",
       "      <td>42</td>\n",
       "      <td>NaN</td>\n",
       "      <td>single</td>\n",
       "      <td>NaN</td>\n",
       "      <td>no</td>\n",
       "      <td>942</td>\n",
       "      <td>no</td>\n",
       "      <td>no</td>\n",
       "      <td>cellular</td>\n",
       "      <td>245</td>\n",
       "      <td>1</td>\n",
       "      <td>92</td>\n",
       "      <td>2</td>\n",
       "      <td>success</td>\n",
       "      <td>yes</td>\n",
       "    </tr>\n",
       "    <tr>\n",
       "      <th>32763</th>\n",
       "      <td>27</td>\n",
       "      <td>NaN</td>\n",
       "      <td>single</td>\n",
       "      <td>NaN</td>\n",
       "      <td>no</td>\n",
       "      <td>326</td>\n",
       "      <td>no</td>\n",
       "      <td>no</td>\n",
       "      <td>cellular</td>\n",
       "      <td>326</td>\n",
       "      <td>1</td>\n",
       "      <td>-1</td>\n",
       "      <td>0</td>\n",
       "      <td>NaN</td>\n",
       "      <td>yes</td>\n",
       "    </tr>\n",
       "    <tr>\n",
       "      <th>32843</th>\n",
       "      <td>57</td>\n",
       "      <td>NaN</td>\n",
       "      <td>married</td>\n",
       "      <td>NaN</td>\n",
       "      <td>no</td>\n",
       "      <td>19268</td>\n",
       "      <td>no</td>\n",
       "      <td>no</td>\n",
       "      <td>NaN</td>\n",
       "      <td>301</td>\n",
       "      <td>1</td>\n",
       "      <td>-1</td>\n",
       "      <td>0</td>\n",
       "      <td>NaN</td>\n",
       "      <td>yes</td>\n",
       "    </tr>\n",
       "    <tr>\n",
       "      <th>33439</th>\n",
       "      <td>45</td>\n",
       "      <td>NaN</td>\n",
       "      <td>divorced</td>\n",
       "      <td>NaN</td>\n",
       "      <td>no</td>\n",
       "      <td>0</td>\n",
       "      <td>no</td>\n",
       "      <td>no</td>\n",
       "      <td>cellular</td>\n",
       "      <td>278</td>\n",
       "      <td>3</td>\n",
       "      <td>-1</td>\n",
       "      <td>0</td>\n",
       "      <td>NaN</td>\n",
       "      <td>yes</td>\n",
       "    </tr>\n",
       "    <tr>\n",
       "      <th>33559</th>\n",
       "      <td>41</td>\n",
       "      <td>NaN</td>\n",
       "      <td>single</td>\n",
       "      <td>NaN</td>\n",
       "      <td>no</td>\n",
       "      <td>942</td>\n",
       "      <td>no</td>\n",
       "      <td>no</td>\n",
       "      <td>cellular</td>\n",
       "      <td>143</td>\n",
       "      <td>1</td>\n",
       "      <td>188</td>\n",
       "      <td>1</td>\n",
       "      <td>success</td>\n",
       "      <td>yes</td>\n",
       "    </tr>\n",
       "    <tr>\n",
       "      <th>34617</th>\n",
       "      <td>48</td>\n",
       "      <td>NaN</td>\n",
       "      <td>single</td>\n",
       "      <td>NaN</td>\n",
       "      <td>no</td>\n",
       "      <td>1819</td>\n",
       "      <td>no</td>\n",
       "      <td>no</td>\n",
       "      <td>cellular</td>\n",
       "      <td>1440</td>\n",
       "      <td>1</td>\n",
       "      <td>458</td>\n",
       "      <td>1</td>\n",
       "      <td>failure</td>\n",
       "      <td>yes</td>\n",
       "    </tr>\n",
       "    <tr>\n",
       "      <th>34672</th>\n",
       "      <td>31</td>\n",
       "      <td>NaN</td>\n",
       "      <td>married</td>\n",
       "      <td>secondary</td>\n",
       "      <td>no</td>\n",
       "      <td>111</td>\n",
       "      <td>no</td>\n",
       "      <td>no</td>\n",
       "      <td>cellular</td>\n",
       "      <td>504</td>\n",
       "      <td>2</td>\n",
       "      <td>93</td>\n",
       "      <td>2</td>\n",
       "      <td>failure</td>\n",
       "      <td>yes</td>\n",
       "    </tr>\n",
       "    <tr>\n",
       "      <th>36523</th>\n",
       "      <td>37</td>\n",
       "      <td>NaN</td>\n",
       "      <td>single</td>\n",
       "      <td>tertiary</td>\n",
       "      <td>no</td>\n",
       "      <td>0</td>\n",
       "      <td>no</td>\n",
       "      <td>no</td>\n",
       "      <td>cellular</td>\n",
       "      <td>426</td>\n",
       "      <td>1</td>\n",
       "      <td>-1</td>\n",
       "      <td>0</td>\n",
       "      <td>NaN</td>\n",
       "      <td>yes</td>\n",
       "    </tr>\n",
       "    <tr>\n",
       "      <th>37041</th>\n",
       "      <td>55</td>\n",
       "      <td>NaN</td>\n",
       "      <td>married</td>\n",
       "      <td>secondary</td>\n",
       "      <td>no</td>\n",
       "      <td>2206</td>\n",
       "      <td>no</td>\n",
       "      <td>no</td>\n",
       "      <td>cellular</td>\n",
       "      <td>265</td>\n",
       "      <td>1</td>\n",
       "      <td>91</td>\n",
       "      <td>5</td>\n",
       "      <td>success</td>\n",
       "      <td>yes</td>\n",
       "    </tr>\n",
       "    <tr>\n",
       "      <th>37567</th>\n",
       "      <td>65</td>\n",
       "      <td>NaN</td>\n",
       "      <td>married</td>\n",
       "      <td>NaN</td>\n",
       "      <td>no</td>\n",
       "      <td>4717</td>\n",
       "      <td>no</td>\n",
       "      <td>no</td>\n",
       "      <td>telephone</td>\n",
       "      <td>256</td>\n",
       "      <td>1</td>\n",
       "      <td>-1</td>\n",
       "      <td>0</td>\n",
       "      <td>NaN</td>\n",
       "      <td>yes</td>\n",
       "    </tr>\n",
       "  </tbody>\n",
       "</table>\n",
       "</div>"
      ],
      "text/plain": [
       "       age  job   marital  education default  balance housing loan    contact  \\\n",
       "2158    54  NaN   married        NaN      no      895      no   no   cellular   \n",
       "4391    33  NaN   married  secondary      no      335      no   no   cellular   \n",
       "5978    54  NaN   married  secondary      no     2206      no   no   cellular   \n",
       "6216    54  NaN   married  secondary      no     2206      no   no   cellular   \n",
       "9557    49  NaN   married    primary      no      341     yes  yes        NaN   \n",
       "13419   28  NaN    single  secondary      no     4465      no   no   cellular   \n",
       "15061   50  NaN   married    primary      no      341     yes  yes   cellular   \n",
       "15579   41  NaN    single        NaN      no      942      no   no   cellular   \n",
       "16923   37  NaN    single   tertiary      no        0      no   no   cellular   \n",
       "20573   54  NaN   married  secondary      no     2206      no   no   cellular   \n",
       "21686   77  NaN   married        NaN      no      397      no   no  telephone   \n",
       "22448   50  NaN   married        NaN      no      558      no   no   cellular   \n",
       "22888   28  NaN    single        NaN      no      326      no   no   cellular   \n",
       "25493   47  NaN   married        NaN      no      677      no   no   cellular   \n",
       "29671   42  NaN    single        NaN      no      942      no   no   cellular   \n",
       "32763   27  NaN    single        NaN      no      326      no   no   cellular   \n",
       "32843   57  NaN   married        NaN      no    19268      no   no        NaN   \n",
       "33439   45  NaN  divorced        NaN      no        0      no   no   cellular   \n",
       "33559   41  NaN    single        NaN      no      942      no   no   cellular   \n",
       "34617   48  NaN    single        NaN      no     1819      no   no   cellular   \n",
       "34672   31  NaN   married  secondary      no      111      no   no   cellular   \n",
       "36523   37  NaN    single   tertiary      no        0      no   no   cellular   \n",
       "37041   55  NaN   married  secondary      no     2206      no   no   cellular   \n",
       "37567   65  NaN   married        NaN      no     4717      no   no  telephone   \n",
       "\n",
       "       duration  campaign  pdays  previous poutcome target  \n",
       "2158        335         1     -1         0      NaN    yes  \n",
       "4391        891         2    177         7  failure    yes  \n",
       "5978        449         1     91         3  success    yes  \n",
       "6216        260         1     91         4  success    yes  \n",
       "9557        520         2     -1         0      NaN    yes  \n",
       "13419       769         1     -1         0      NaN    yes  \n",
       "15061       670         4    340         2  success    yes  \n",
       "15579       219         1     -1         0      NaN    yes  \n",
       "16923       257         2     97         1  success    yes  \n",
       "20573       104         1     99         2    other    yes  \n",
       "21686       300         3     -1         0      NaN    yes  \n",
       "22448       464         1    683         6  failure    yes  \n",
       "22888       450         1    231         1  success    yes  \n",
       "25493       900         2     86         2  failure    yes  \n",
       "29671       245         1     92         2  success    yes  \n",
       "32763       326         1     -1         0      NaN    yes  \n",
       "32843       301         1     -1         0      NaN    yes  \n",
       "33439       278         3     -1         0      NaN    yes  \n",
       "33559       143         1    188         1  success    yes  \n",
       "34617      1440         1    458         1  failure    yes  \n",
       "34672       504         2     93         2  failure    yes  \n",
       "36523       426         1     -1         0      NaN    yes  \n",
       "37041       265         1     91         5  success    yes  \n",
       "37567       256         1     -1         0      NaN    yes  "
      ]
     },
     "execution_count": 79,
     "metadata": {},
     "output_type": "execute_result"
    }
   ],
   "source": [
    "df_copy[(df_copy['target']=='yes') & (df_copy['job'].isnull())]"
   ]
  },
  {
   "cell_type": "code",
   "execution_count": 80,
   "id": "67ea9fde",
   "metadata": {
    "execution": {
     "iopub.execute_input": "2024-11-15T06:47:36.089917Z",
     "iopub.status.busy": "2024-11-15T06:47:36.089459Z",
     "iopub.status.idle": "2024-11-15T06:47:36.482452Z",
     "shell.execute_reply": "2024-11-15T06:47:36.481393Z"
    },
    "papermill": {
     "duration": 0.462108,
     "end_time": "2024-11-15T06:47:36.485256",
     "exception": false,
     "start_time": "2024-11-15T06:47:36.023148",
     "status": "completed"
    },
    "tags": []
   },
   "outputs": [],
   "source": [
    "from sklearn.impute import SimpleImputer\n",
    "imputer = SimpleImputer(strategy='most_frequent')\n",
    "df_copy['job'] = imputer.fit_transform(df_copy[['job']]).ravel()\n",
    "df_test['job'] = imputer.transform(df_test[['job']]).ravel()"
   ]
  },
  {
   "cell_type": "code",
   "execution_count": 81,
   "id": "02d595a7",
   "metadata": {
    "execution": {
     "iopub.execute_input": "2024-11-15T06:47:36.616278Z",
     "iopub.status.busy": "2024-11-15T06:47:36.615758Z",
     "iopub.status.idle": "2024-11-15T06:47:36.638687Z",
     "shell.execute_reply": "2024-11-15T06:47:36.637386Z"
    },
    "papermill": {
     "duration": 0.091672,
     "end_time": "2024-11-15T06:47:36.641437",
     "exception": false,
     "start_time": "2024-11-15T06:47:36.549765",
     "status": "completed"
    },
    "tags": []
   },
   "outputs": [],
   "source": [
    "df_copy['education'] = imputer.fit_transform(df_copy[['education']]).ravel()\n",
    "df_test['education'] = imputer.transform(df_test[['education']]).ravel()"
   ]
  },
  {
   "cell_type": "code",
   "execution_count": 82,
   "id": "54e89e20",
   "metadata": {
    "execution": {
     "iopub.execute_input": "2024-11-15T06:47:36.784015Z",
     "iopub.status.busy": "2024-11-15T06:47:36.783519Z",
     "iopub.status.idle": "2024-11-15T06:47:36.795117Z",
     "shell.execute_reply": "2024-11-15T06:47:36.793895Z"
    },
    "papermill": {
     "duration": 0.090982,
     "end_time": "2024-11-15T06:47:36.797712",
     "exception": false,
     "start_time": "2024-11-15T06:47:36.706730",
     "status": "completed"
    },
    "tags": []
   },
   "outputs": [
    {
     "data": {
      "text/plain": [
       "array(['secondary', 'tertiary', 'primary'], dtype=object)"
      ]
     },
     "execution_count": 82,
     "metadata": {},
     "output_type": "execute_result"
    }
   ],
   "source": [
    "df_copy['education'].unique()"
   ]
  },
  {
   "cell_type": "code",
   "execution_count": 83,
   "id": "0d98abb6",
   "metadata": {
    "execution": {
     "iopub.execute_input": "2024-11-15T06:47:36.946341Z",
     "iopub.status.busy": "2024-11-15T06:47:36.945559Z",
     "iopub.status.idle": "2024-11-15T06:47:36.971914Z",
     "shell.execute_reply": "2024-11-15T06:47:36.970574Z"
    },
    "papermill": {
     "duration": 0.107395,
     "end_time": "2024-11-15T06:47:36.975661",
     "exception": false,
     "start_time": "2024-11-15T06:47:36.868266",
     "status": "completed"
    },
    "tags": []
   },
   "outputs": [
    {
     "data": {
      "text/plain": [
       "target\n",
       "no     9919\n",
       "yes     417\n",
       "Name: count, dtype: int64"
      ]
     },
     "execution_count": 83,
     "metadata": {},
     "output_type": "execute_result"
    }
   ],
   "source": [
    "df_copy[df_copy['contact'].isnull()]['target'].value_counts()"
   ]
  },
  {
   "cell_type": "code",
   "execution_count": 84,
   "id": "51731c79",
   "metadata": {
    "execution": {
     "iopub.execute_input": "2024-11-15T06:47:37.127841Z",
     "iopub.status.busy": "2024-11-15T06:47:37.127318Z",
     "iopub.status.idle": "2024-11-15T06:47:37.154042Z",
     "shell.execute_reply": "2024-11-15T06:47:37.152660Z"
    },
    "papermill": {
     "duration": 0.105783,
     "end_time": "2024-11-15T06:47:37.157144",
     "exception": false,
     "start_time": "2024-11-15T06:47:37.051361",
     "status": "completed"
    },
    "tags": []
   },
   "outputs": [],
   "source": [
    "df_copy['contact'] = imputer.fit_transform(df_copy[['contact']]).ravel()\n",
    "df_test['contact'] = imputer.transform(df_test[['contact']]).ravel()"
   ]
  },
  {
   "cell_type": "code",
   "execution_count": 85,
   "id": "6d37764e",
   "metadata": {
    "execution": {
     "iopub.execute_input": "2024-11-15T06:47:37.295061Z",
     "iopub.status.busy": "2024-11-15T06:47:37.294590Z",
     "iopub.status.idle": "2024-11-15T06:47:37.305947Z",
     "shell.execute_reply": "2024-11-15T06:47:37.304757Z"
    },
    "papermill": {
     "duration": 0.082271,
     "end_time": "2024-11-15T06:47:37.308708",
     "exception": false,
     "start_time": "2024-11-15T06:47:37.226437",
     "status": "completed"
    },
    "tags": []
   },
   "outputs": [
    {
     "data": {
      "text/plain": [
       "array(['cellular', 'telephone'], dtype=object)"
      ]
     },
     "execution_count": 85,
     "metadata": {},
     "output_type": "execute_result"
    }
   ],
   "source": [
    "df_copy['contact'].unique()"
   ]
  },
  {
   "cell_type": "code",
   "execution_count": 86,
   "id": "470ddd95",
   "metadata": {
    "execution": {
     "iopub.execute_input": "2024-11-15T06:47:37.440808Z",
     "iopub.status.busy": "2024-11-15T06:47:37.440340Z",
     "iopub.status.idle": "2024-11-15T06:47:37.465050Z",
     "shell.execute_reply": "2024-11-15T06:47:37.463762Z"
    },
    "papermill": {
     "duration": 0.09307,
     "end_time": "2024-11-15T06:47:37.467818",
     "exception": false,
     "start_time": "2024-11-15T06:47:37.374748",
     "status": "completed"
    },
    "tags": []
   },
   "outputs": [
    {
     "data": {
      "text/plain": [
       "target\n",
       "no     26723\n",
       "yes     2728\n",
       "Name: count, dtype: int64"
      ]
     },
     "execution_count": 86,
     "metadata": {},
     "output_type": "execute_result"
    }
   ],
   "source": [
    "df_copy[df_copy['poutcome'].isnull()]['target'].value_counts()"
   ]
  },
  {
   "cell_type": "code",
   "execution_count": 87,
   "id": "29136803",
   "metadata": {
    "execution": {
     "iopub.execute_input": "2024-11-15T06:47:37.600118Z",
     "iopub.status.busy": "2024-11-15T06:47:37.598908Z",
     "iopub.status.idle": "2024-11-15T06:47:37.612051Z",
     "shell.execute_reply": "2024-11-15T06:47:37.610678Z"
    },
    "papermill": {
     "duration": 0.082665,
     "end_time": "2024-11-15T06:47:37.614796",
     "exception": false,
     "start_time": "2024-11-15T06:47:37.532131",
     "status": "completed"
    },
    "tags": []
   },
   "outputs": [],
   "source": [
    "df_copy['poutcome']=df_copy['poutcome'].fillna('unknown')\n",
    "df_test['poutcome']=df_test['poutcome'].fillna('unknown')"
   ]
  },
  {
   "cell_type": "code",
   "execution_count": 88,
   "id": "4e05b85b",
   "metadata": {
    "execution": {
     "iopub.execute_input": "2024-11-15T06:47:37.748385Z",
     "iopub.status.busy": "2024-11-15T06:47:37.747091Z",
     "iopub.status.idle": "2024-11-15T06:47:37.796555Z",
     "shell.execute_reply": "2024-11-15T06:47:37.795325Z"
    },
    "papermill": {
     "duration": 0.1196,
     "end_time": "2024-11-15T06:47:37.799201",
     "exception": false,
     "start_time": "2024-11-15T06:47:37.679601",
     "status": "completed"
    },
    "tags": []
   },
   "outputs": [
    {
     "data": {
      "text/plain": [
       "age          0\n",
       "job          0\n",
       "marital      0\n",
       "education    0\n",
       "default      0\n",
       "balance      0\n",
       "housing      0\n",
       "loan         0\n",
       "contact      0\n",
       "duration     0\n",
       "campaign     0\n",
       "pdays        0\n",
       "previous     0\n",
       "poutcome     0\n",
       "target       0\n",
       "dtype: int64"
      ]
     },
     "execution_count": 88,
     "metadata": {},
     "output_type": "execute_result"
    }
   ],
   "source": [
    "df_copy.isnull().sum()"
   ]
  },
  {
   "cell_type": "markdown",
   "id": "912cbf14",
   "metadata": {
    "papermill": {
     "duration": 0.063926,
     "end_time": "2024-11-15T06:47:37.927107",
     "exception": false,
     "start_time": "2024-11-15T06:47:37.863181",
     "status": "completed"
    },
    "tags": []
   },
   "source": [
    "## Random forest classifier"
   ]
  },
  {
   "cell_type": "code",
   "execution_count": 89,
   "id": "be8af95a",
   "metadata": {
    "execution": {
     "iopub.execute_input": "2024-11-15T06:47:38.058132Z",
     "iopub.status.busy": "2024-11-15T06:47:38.057651Z",
     "iopub.status.idle": "2024-11-15T06:47:46.552014Z",
     "shell.execute_reply": "2024-11-15T06:47:46.550863Z"
    },
    "papermill": {
     "duration": 8.563246,
     "end_time": "2024-11-15T06:47:46.554592",
     "exception": false,
     "start_time": "2024-11-15T06:47:37.991346",
     "status": "completed"
    },
    "tags": []
   },
   "outputs": [
    {
     "name": "stdout",
     "output_type": "stream",
     "text": [
      "F1 Score (Macro) on Training Data: 0.9998\n"
     ]
    },
    {
     "data": {
      "text/plain": [
       "\"submission = pd.DataFrame({'id':range(0,test_encoded.shape[0]),\\n                          'target':y_pred2})\\n                     \\nsubmission['target']=submission['target'].replace({False: 'no', True: 'yes'})\\n\\nsubmission.to_csv('submission.csv',index=False)\""
      ]
     },
     "execution_count": 89,
     "metadata": {},
     "output_type": "execute_result"
    }
   ],
   "source": [
    "from sklearn.ensemble import RandomForestClassifier\n",
    "from sklearn.metrics import f1_score\n",
    "\n",
    "# Apply one-hot encoding to the categorical features\n",
    "df_encoded = pd.get_dummies(df_copy, drop_first=True)\n",
    "test_encoded = pd.get_dummies(df_test, drop_first=True)\n",
    "\n",
    "X_train = df_encoded.drop('target_yes', axis=1)  \n",
    "\n",
    "y_train = df_encoded['target_yes']\n",
    "\n",
    "x_test=pd.read_csv(\"/kaggle/input/predict-the-success-of-bank-telemarketing/test.csv\")\n",
    "\n",
    "# Initialize and fit the Random Forest Classifier\n",
    "model = RandomForestClassifier(random_state=42)\n",
    "model.fit(X_train, y_train)\n",
    "\n",
    "# Predict on the test set (predict class labels, not probabilities)\n",
    "y_pred = model.predict(X_train)\n",
    "y_pred2 = model.predict(test_encoded)\n",
    "\n",
    "#print(y_pred2)\n",
    "\n",
    "# Calculate the F1 score\n",
    "f1 = f1_score(y_train, y_pred, average='macro')\n",
    "\n",
    "print(f'F1 Score (Macro) on Training Data: {f1:.4f}')\n",
    "\n",
    "'''submission = pd.DataFrame({'id':range(0,test_encoded.shape[0]),\n",
    "                          'target':y_pred2})\n",
    "                     \n",
    "submission['target']=submission['target'].replace({False: 'no', True: 'yes'})\n",
    "\n",
    "submission.to_csv('submission.csv',index=False)'''\n"
   ]
  },
  {
   "cell_type": "code",
   "execution_count": 90,
   "id": "ce1db956",
   "metadata": {
    "execution": {
     "iopub.execute_input": "2024-11-15T06:47:46.686287Z",
     "iopub.status.busy": "2024-11-15T06:47:46.685811Z",
     "iopub.status.idle": "2024-11-15T06:47:54.575513Z",
     "shell.execute_reply": "2024-11-15T06:47:54.574238Z"
    },
    "papermill": {
     "duration": 7.958517,
     "end_time": "2024-11-15T06:47:54.577986",
     "exception": false,
     "start_time": "2024-11-15T06:47:46.619469",
     "status": "completed"
    },
    "tags": []
   },
   "outputs": [
    {
     "name": "stdout",
     "output_type": "stream",
     "text": [
      "[False False False ... False False False]\n",
      "F1 Score (Macro) on Training Data: 0.9998\n"
     ]
    },
    {
     "data": {
      "text/plain": [
       "\"submission = pd.DataFrame({'id':range(0,test_encoded.shape[0]),\\n                          'target':y_pred2})\\n                     \\nsubmission['target']=submission['target'].replace({False: 'no', True: 'yes'})\\n\\nsubmission.to_csv('submission.csv',index=False)\""
      ]
     },
     "execution_count": 90,
     "metadata": {},
     "output_type": "execute_result"
    }
   ],
   "source": [
    "from sklearn.ensemble import RandomForestClassifier\n",
    "from sklearn.metrics import f1_score\n",
    "\n",
    "df_encoded = pd.get_dummies(df_copy, drop_first=True)\n",
    "test_encoded = pd.get_dummies(df_test, drop_first=True)\n",
    "\n",
    "X_train = df_encoded.drop('target_yes', axis=1)  \n",
    "\n",
    "y_train = df_encoded['target_yes']\n",
    "\n",
    "x_test=pd.read_csv(\"/kaggle/input/predict-the-success-of-bank-telemarketing/test.csv\")\n",
    "\n",
    "model = RandomForestClassifier(random_state=42)\n",
    "model.fit(X_train, y_train)\n",
    "\n",
    "# Predict on the test set\n",
    "y_pred = model.predict(X_train)\n",
    "\n",
    "y_pred2 = model.predict(test_encoded)\n",
    "\n",
    "print(y_pred2)\n",
    "# Calculate the F1 score\n",
    "f1 = f1_score(y_train, y_pred, average='macro')\n",
    "print(f'F1 Score (Macro) on Training Data: {f1:.4f}')\n",
    "\n",
    "'''submission = pd.DataFrame({'id':range(0,test_encoded.shape[0]),\n",
    "                          'target':y_pred2})\n",
    "                     \n",
    "submission['target']=submission['target'].replace({False: 'no', True: 'yes'})\n",
    "\n",
    "submission.to_csv('submission.csv',index=False)'''"
   ]
  },
  {
   "cell_type": "code",
   "execution_count": 91,
   "id": "1d1c7e40",
   "metadata": {
    "execution": {
     "iopub.execute_input": "2024-11-15T06:47:54.709865Z",
     "iopub.status.busy": "2024-11-15T06:47:54.709416Z",
     "iopub.status.idle": "2024-11-15T06:47:54.717014Z",
     "shell.execute_reply": "2024-11-15T06:47:54.715828Z"
    },
    "papermill": {
     "duration": 0.076763,
     "end_time": "2024-11-15T06:47:54.719475",
     "exception": false,
     "start_time": "2024-11-15T06:47:54.642712",
     "status": "completed"
    },
    "tags": []
   },
   "outputs": [
    {
     "data": {
      "text/plain": [
       "'submission.head()'"
      ]
     },
     "execution_count": 91,
     "metadata": {},
     "output_type": "execute_result"
    }
   ],
   "source": [
    "'''submission.head()'''"
   ]
  },
  {
   "cell_type": "code",
   "execution_count": 92,
   "id": "627ae4b4",
   "metadata": {
    "execution": {
     "iopub.execute_input": "2024-11-15T06:47:54.852856Z",
     "iopub.status.busy": "2024-11-15T06:47:54.852365Z",
     "iopub.status.idle": "2024-11-15T06:47:55.855038Z",
     "shell.execute_reply": "2024-11-15T06:47:55.853496Z"
    },
    "papermill": {
     "duration": 1.074998,
     "end_time": "2024-11-15T06:47:55.860309",
     "exception": false,
     "start_time": "2024-11-15T06:47:54.785311",
     "status": "completed"
    },
    "tags": []
   },
   "outputs": [
    {
     "name": "stdout",
     "output_type": "stream",
     "text": [
      "[False False False ... False False False]\n",
      "F1 Score (Macro) on Training Data: 0.5758\n"
     ]
    },
    {
     "data": {
      "text/plain": [
       "\"submission = pd.DataFrame({'id':range(0,test_encoded.shape[0]),\\n                          'target':y_pred2})\\n                     \\nsubmission['target']=submission['target'].replace({False: 'no', True: 'yes'})\\n\\nsubmission.to_csv('submission.csv',index=False)\""
      ]
     },
     "execution_count": 92,
     "metadata": {},
     "output_type": "execute_result"
    }
   ],
   "source": [
    "import pandas as pd\n",
    "from sklearn.linear_model import LogisticRegression\n",
    "from sklearn.metrics import f1_score\n",
    "\n",
    "df_encoded = pd.get_dummies(df_copy, drop_first=True)\n",
    "test_encoded = pd.get_dummies(df_test, drop_first=True)\n",
    "\n",
    "X_train = df_encoded.drop('target_yes', axis=1)  \n",
    "\n",
    "y_train = df_encoded['target_yes']\n",
    "\n",
    "x_test=pd.read_csv(\"/kaggle/input/predict-the-success-of-bank-telemarketing/test.csv\")\n",
    "\n",
    "\n",
    "model = LogisticRegression(max_iter=1000, random_state=42)\n",
    "model.fit(X_train, y_train)\n",
    "\n",
    "y_pred = model.predict(X_train)\n",
    "y_pred2 = model.predict(test_encoded)\n",
    "\n",
    "print(y_pred2)\n",
    "# Calculate the F1 score\n",
    "f1 = f1_score(y_train, y_pred, average='macro')\n",
    "print(f'F1 Score (Macro) on Training Data: {f1:.4f}')\n",
    "\n",
    "'''submission = pd.DataFrame({'id':range(0,test_encoded.shape[0]),\n",
    "                          'target':y_pred2})\n",
    "                     \n",
    "submission['target']=submission['target'].replace({False: 'no', True: 'yes'})\n",
    "\n",
    "submission.to_csv('submission.csv',index=False)'''"
   ]
  },
  {
   "cell_type": "markdown",
   "id": "8cfd459a",
   "metadata": {
    "papermill": {
     "duration": 0.065616,
     "end_time": "2024-11-15T06:47:56.029072",
     "exception": false,
     "start_time": "2024-11-15T06:47:55.963456",
     "status": "completed"
    },
    "tags": []
   },
   "source": [
    "## xg boost"
   ]
  },
  {
   "cell_type": "code",
   "execution_count": 93,
   "id": "20d43e75",
   "metadata": {
    "execution": {
     "iopub.execute_input": "2024-11-15T06:47:56.164173Z",
     "iopub.status.busy": "2024-11-15T06:47:56.163660Z",
     "iopub.status.idle": "2024-11-15T06:47:56.190310Z",
     "shell.execute_reply": "2024-11-15T06:47:56.189040Z"
    },
    "papermill": {
     "duration": 0.097538,
     "end_time": "2024-11-15T06:47:56.192927",
     "exception": false,
     "start_time": "2024-11-15T06:47:56.095389",
     "status": "completed"
    },
    "tags": []
   },
   "outputs": [
    {
     "data": {
      "text/html": [
       "<div>\n",
       "<style scoped>\n",
       "    .dataframe tbody tr th:only-of-type {\n",
       "        vertical-align: middle;\n",
       "    }\n",
       "\n",
       "    .dataframe tbody tr th {\n",
       "        vertical-align: top;\n",
       "    }\n",
       "\n",
       "    .dataframe thead th {\n",
       "        text-align: right;\n",
       "    }\n",
       "</style>\n",
       "<table border=\"1\" class=\"dataframe\">\n",
       "  <thead>\n",
       "    <tr style=\"text-align: right;\">\n",
       "      <th></th>\n",
       "      <th>age</th>\n",
       "      <th>balance</th>\n",
       "      <th>duration</th>\n",
       "      <th>campaign</th>\n",
       "      <th>pdays</th>\n",
       "      <th>previous</th>\n",
       "      <th>job_blue-collar</th>\n",
       "      <th>job_entrepreneur</th>\n",
       "      <th>job_housemaid</th>\n",
       "      <th>job_management</th>\n",
       "      <th>...</th>\n",
       "      <th>education_secondary</th>\n",
       "      <th>education_tertiary</th>\n",
       "      <th>default_yes</th>\n",
       "      <th>housing_yes</th>\n",
       "      <th>loan_yes</th>\n",
       "      <th>contact_telephone</th>\n",
       "      <th>poutcome_other</th>\n",
       "      <th>poutcome_success</th>\n",
       "      <th>poutcome_unknown</th>\n",
       "      <th>target_yes</th>\n",
       "    </tr>\n",
       "  </thead>\n",
       "  <tbody>\n",
       "    <tr>\n",
       "      <th>0</th>\n",
       "      <td>26</td>\n",
       "      <td>647</td>\n",
       "      <td>357</td>\n",
       "      <td>2</td>\n",
       "      <td>331</td>\n",
       "      <td>1</td>\n",
       "      <td>True</td>\n",
       "      <td>False</td>\n",
       "      <td>False</td>\n",
       "      <td>False</td>\n",
       "      <td>...</td>\n",
       "      <td>True</td>\n",
       "      <td>False</td>\n",
       "      <td>False</td>\n",
       "      <td>True</td>\n",
       "      <td>False</td>\n",
       "      <td>False</td>\n",
       "      <td>True</td>\n",
       "      <td>False</td>\n",
       "      <td>False</td>\n",
       "      <td>False</td>\n",
       "    </tr>\n",
       "    <tr>\n",
       "      <th>1</th>\n",
       "      <td>52</td>\n",
       "      <td>553</td>\n",
       "      <td>160</td>\n",
       "      <td>1</td>\n",
       "      <td>-1</td>\n",
       "      <td>0</td>\n",
       "      <td>False</td>\n",
       "      <td>False</td>\n",
       "      <td>False</td>\n",
       "      <td>False</td>\n",
       "      <td>...</td>\n",
       "      <td>True</td>\n",
       "      <td>False</td>\n",
       "      <td>False</td>\n",
       "      <td>True</td>\n",
       "      <td>False</td>\n",
       "      <td>True</td>\n",
       "      <td>False</td>\n",
       "      <td>False</td>\n",
       "      <td>True</td>\n",
       "      <td>False</td>\n",
       "    </tr>\n",
       "    <tr>\n",
       "      <th>2</th>\n",
       "      <td>44</td>\n",
       "      <td>1397</td>\n",
       "      <td>326</td>\n",
       "      <td>1</td>\n",
       "      <td>-1</td>\n",
       "      <td>0</td>\n",
       "      <td>True</td>\n",
       "      <td>False</td>\n",
       "      <td>False</td>\n",
       "      <td>False</td>\n",
       "      <td>...</td>\n",
       "      <td>True</td>\n",
       "      <td>False</td>\n",
       "      <td>False</td>\n",
       "      <td>False</td>\n",
       "      <td>False</td>\n",
       "      <td>False</td>\n",
       "      <td>False</td>\n",
       "      <td>False</td>\n",
       "      <td>True</td>\n",
       "      <td>False</td>\n",
       "    </tr>\n",
       "    <tr>\n",
       "      <th>3</th>\n",
       "      <td>33</td>\n",
       "      <td>394</td>\n",
       "      <td>104</td>\n",
       "      <td>3</td>\n",
       "      <td>-1</td>\n",
       "      <td>0</td>\n",
       "      <td>False</td>\n",
       "      <td>False</td>\n",
       "      <td>False</td>\n",
       "      <td>False</td>\n",
       "      <td>...</td>\n",
       "      <td>True</td>\n",
       "      <td>False</td>\n",
       "      <td>False</td>\n",
       "      <td>True</td>\n",
       "      <td>False</td>\n",
       "      <td>True</td>\n",
       "      <td>False</td>\n",
       "      <td>False</td>\n",
       "      <td>True</td>\n",
       "      <td>False</td>\n",
       "    </tr>\n",
       "    <tr>\n",
       "      <th>4</th>\n",
       "      <td>31</td>\n",
       "      <td>137</td>\n",
       "      <td>445</td>\n",
       "      <td>2</td>\n",
       "      <td>-1</td>\n",
       "      <td>0</td>\n",
       "      <td>False</td>\n",
       "      <td>True</td>\n",
       "      <td>False</td>\n",
       "      <td>False</td>\n",
       "      <td>...</td>\n",
       "      <td>False</td>\n",
       "      <td>True</td>\n",
       "      <td>False</td>\n",
       "      <td>False</td>\n",
       "      <td>False</td>\n",
       "      <td>False</td>\n",
       "      <td>False</td>\n",
       "      <td>False</td>\n",
       "      <td>True</td>\n",
       "      <td>False</td>\n",
       "    </tr>\n",
       "  </tbody>\n",
       "</table>\n",
       "<p>5 rows × 28 columns</p>\n",
       "</div>"
      ],
      "text/plain": [
       "   age  balance  duration  campaign  pdays  previous  job_blue-collar  \\\n",
       "0   26      647       357         2    331         1             True   \n",
       "1   52      553       160         1     -1         0            False   \n",
       "2   44     1397       326         1     -1         0             True   \n",
       "3   33      394       104         3     -1         0            False   \n",
       "4   31      137       445         2     -1         0            False   \n",
       "\n",
       "   job_entrepreneur  job_housemaid  job_management  ...  education_secondary  \\\n",
       "0             False          False           False  ...                 True   \n",
       "1             False          False           False  ...                 True   \n",
       "2             False          False           False  ...                 True   \n",
       "3             False          False           False  ...                 True   \n",
       "4              True          False           False  ...                False   \n",
       "\n",
       "   education_tertiary  default_yes  housing_yes  loan_yes  contact_telephone  \\\n",
       "0               False        False         True     False              False   \n",
       "1               False        False         True     False               True   \n",
       "2               False        False        False     False              False   \n",
       "3               False        False         True     False               True   \n",
       "4                True        False        False     False              False   \n",
       "\n",
       "   poutcome_other  poutcome_success  poutcome_unknown  target_yes  \n",
       "0            True             False             False       False  \n",
       "1           False             False              True       False  \n",
       "2           False             False              True       False  \n",
       "3           False             False              True       False  \n",
       "4           False             False              True       False  \n",
       "\n",
       "[5 rows x 28 columns]"
      ]
     },
     "execution_count": 93,
     "metadata": {},
     "output_type": "execute_result"
    }
   ],
   "source": [
    "df_encoded.head()"
   ]
  },
  {
   "cell_type": "code",
   "execution_count": 94,
   "id": "f0a9de94",
   "metadata": {
    "execution": {
     "iopub.execute_input": "2024-11-15T06:47:56.327252Z",
     "iopub.status.busy": "2024-11-15T06:47:56.326772Z",
     "iopub.status.idle": "2024-11-15T06:47:57.591651Z",
     "shell.execute_reply": "2024-11-15T06:47:57.590096Z"
    },
    "papermill": {
     "duration": 1.335074,
     "end_time": "2024-11-15T06:47:57.594400",
     "exception": false,
     "start_time": "2024-11-15T06:47:56.259326",
     "status": "completed"
    },
    "tags": []
   },
   "outputs": [
    {
     "name": "stdout",
     "output_type": "stream",
     "text": [
      "[0 0 0 ... 0 0 0]\n",
      "F1 Score (Macro): 0.8511\n"
     ]
    }
   ],
   "source": [
    "import xgboost as xgb\n",
    "from sklearn.metrics import f1_score\n",
    "\n",
    "df_encoded = pd.get_dummies(df_copy, drop_first=True)\n",
    "test_encoded = pd.get_dummies(df_test, drop_first=True)\n",
    "\n",
    "X_train = df_encoded.drop('target_yes', axis=1)\n",
    "y_train = df_encoded['target_yes']\n",
    "\n",
    "\n",
    "# Initialize and fit XGBoost Classifier\n",
    "xgb_model = xgb.XGBClassifier(random_state=42)\n",
    "xgb_model.fit(X_train, y_train)\n",
    "\n",
    "# Predict on the test set\n",
    "y_pred = xgb_model.predict(X_train)\n",
    "\n",
    "y_pred2 = xgb_model.predict(test_encoded)\n",
    "\n",
    "print(y_pred2)\n",
    "\n",
    "f1 = f1_score(y_train, y_pred, average='macro')\n",
    "\n",
    "print(f'F1 Score (Macro): {f1:.4f}')\n",
    "\n",
    "submission = pd.DataFrame({'id':range(0,test_encoded.shape[0]),\n",
    "                          'target':y_pred2})\n",
    "                     \n",
    "submission['target']=submission['target'].replace({0: 'no', 1: 'yes'})\n",
    "\n",
    "submission.to_csv('submission.csv',index=False)"
   ]
  },
  {
   "cell_type": "code",
   "execution_count": 95,
   "id": "fb7ed75f",
   "metadata": {
    "execution": {
     "iopub.execute_input": "2024-11-15T06:47:57.729174Z",
     "iopub.status.busy": "2024-11-15T06:47:57.728673Z",
     "iopub.status.idle": "2024-11-15T06:47:58.699071Z",
     "shell.execute_reply": "2024-11-15T06:47:58.697929Z"
    },
    "papermill": {
     "duration": 1.041148,
     "end_time": "2024-11-15T06:47:58.701991",
     "exception": false,
     "start_time": "2024-11-15T06:47:57.660843",
     "status": "completed"
    },
    "tags": []
   },
   "outputs": [
    {
     "name": "stdout",
     "output_type": "stream",
     "text": [
      "F1 Score (Macro): 0.8511\n"
     ]
    },
    {
     "data": {
      "text/plain": [
       "\"submission = pd.DataFrame({'id':range(0,test_encoded.shape[0]),\\n                          'target':y_pred2})\\n                     \\nsubmission['target']=submission['target'].replace({0: 'no', 1: 'yes'})\\n\\nsubmission.to_csv('submission.csv',index=False)\""
      ]
     },
     "execution_count": 95,
     "metadata": {},
     "output_type": "execute_result"
    }
   ],
   "source": [
    "import xgboost as xgb\n",
    "from xgboost import XGBClassifier\n",
    "from sklearn.metrics import f1_score\n",
    "import pandas as pd\n",
    "\n",
    "# Ensure train and test data have the same columns by aligning dummy encoding\n",
    "df_encoded = pd.get_dummies(df_copy, drop_first=True)\n",
    "test_encoded = pd.get_dummies(df_test, drop_first=True)\n",
    "\n",
    "# Align test_encoded columns with df_encoded\n",
    "test_encoded = test_encoded.reindex(columns=df_encoded.columns.drop('target_yes'), fill_value=0)\n",
    "\n",
    "# Define X_train, y_train\n",
    "X_train = df_encoded.drop('target_yes', axis=1)\n",
    "y_train = df_encoded['target_yes']\n",
    "\n",
    "# Initialize and fit XGBoost Classifier\n",
    "xgb_model = XGBClassifier(random_state=42)\n",
    "\n",
    "# Fit without eval_set (if not doing early stopping)\n",
    "xgb_model.fit(X_train, y_train)\n",
    "\n",
    "# Predict on the training set\n",
    "y_pred = xgb_model.predict(X_train)\n",
    "\n",
    "# Predict on the test set\n",
    "y_pred2 = xgb_model.predict(test_encoded)\n",
    "\n",
    "# Calculate F1 Score (Macro) on the training set\n",
    "f1 = f1_score(y_train, y_pred, average='macro')\n",
    "print(f'F1 Score (Macro): {f1:.4f}')\n",
    "\n",
    "'''submission = pd.DataFrame({'id':range(0,test_encoded.shape[0]),\n",
    "                          'target':y_pred2})\n",
    "                     \n",
    "submission['target']=submission['target'].replace({0: 'no', 1: 'yes'})\n",
    "\n",
    "submission.to_csv('submission.csv',index=False)'''"
   ]
  },
  {
   "cell_type": "markdown",
   "id": "5e09e99a",
   "metadata": {
    "papermill": {
     "duration": 0.070141,
     "end_time": "2024-11-15T06:47:58.844418",
     "exception": false,
     "start_time": "2024-11-15T06:47:58.774277",
     "status": "completed"
    },
    "tags": []
   },
   "source": [
    "## ridge regression"
   ]
  },
  {
   "cell_type": "code",
   "execution_count": 96,
   "id": "51946fd8",
   "metadata": {
    "execution": {
     "iopub.execute_input": "2024-11-15T06:47:58.989758Z",
     "iopub.status.busy": "2024-11-15T06:47:58.989204Z",
     "iopub.status.idle": "2024-11-15T06:47:58.999846Z",
     "shell.execute_reply": "2024-11-15T06:47:58.998329Z"
    },
    "papermill": {
     "duration": 0.090675,
     "end_time": "2024-11-15T06:47:59.002793",
     "exception": false,
     "start_time": "2024-11-15T06:47:58.912118",
     "status": "completed"
    },
    "tags": []
   },
   "outputs": [
    {
     "data": {
      "text/plain": [
       "\"from sklearn.linear_model import LogisticRegression\\nfrom sklearn.metrics import f1_score\\nfrom sklearn.model_selection import train_test_split\\n\\n\\n# Split the data into training and test sets\\nX_train, X_test, y_train, y_test = train_test_split(X, y, test_size=0.2, random_state=42)\\n\\n# Initialize and fit Logistic Regression with Ridge (L2 regularization)\\nridge = LogisticRegression(penalty='l2', solver='lbfgs', max_iter=1000, random_state=42)\\nridge.fit(X_train, y_train)\\n\\n# Predict on the test set\\ny_pred = ridge.predict(X_test)\\n\\n# Calculate F1 Score (Macro)\\nf1 = f1_score(y_test, y_pred, average='macro')\\nprint(f'Ridge F1 Score (Macro): {f1:.4f}')\""
      ]
     },
     "execution_count": 96,
     "metadata": {},
     "output_type": "execute_result"
    }
   ],
   "source": [
    "'''from sklearn.linear_model import LogisticRegression\n",
    "from sklearn.metrics import f1_score\n",
    "from sklearn.model_selection import train_test_split\n",
    "\n",
    "\n",
    "# Split the data into training and test sets\n",
    "X_train, X_test, y_train, y_test = train_test_split(X, y, test_size=0.2, random_state=42)\n",
    "\n",
    "# Initialize and fit Logistic Regression with Ridge (L2 regularization)\n",
    "ridge = LogisticRegression(penalty='l2', solver='lbfgs', max_iter=1000, random_state=42)\n",
    "ridge.fit(X_train, y_train)\n",
    "\n",
    "# Predict on the test set\n",
    "y_pred = ridge.predict(X_test)\n",
    "\n",
    "# Calculate F1 Score (Macro)\n",
    "f1 = f1_score(y_test, y_pred, average='macro')\n",
    "print(f'Ridge F1 Score (Macro): {f1:.4f}')'''\n"
   ]
  },
  {
   "cell_type": "code",
   "execution_count": 97,
   "id": "bac3b213",
   "metadata": {
    "execution": {
     "iopub.execute_input": "2024-11-15T06:47:59.149438Z",
     "iopub.status.busy": "2024-11-15T06:47:59.148886Z",
     "iopub.status.idle": "2024-11-15T06:47:59.157564Z",
     "shell.execute_reply": "2024-11-15T06:47:59.156356Z"
    },
    "papermill": {
     "duration": 0.082842,
     "end_time": "2024-11-15T06:47:59.160241",
     "exception": false,
     "start_time": "2024-11-15T06:47:59.077399",
     "status": "completed"
    },
    "tags": []
   },
   "outputs": [
    {
     "data": {
      "text/plain": [
       "\"from sklearn.linear_model import LogisticRegression\\n\\n# Initialize and fit Logistic Regression with Lasso (L1 regularization)\\nlasso = LogisticRegression(penalty='l1', solver='liblinear', max_iter=1000, random_state=42)\\nlasso.fit(X_train, y_train)\\n\\n# Predict and calculate F1 score\\ny_pred = lasso.predict(X_test)\\nf1 = f1_score(y_test, y_pred, average='macro')\\nprint(f'Lasso F1 Score (Macro): {f1:.4f}')\""
      ]
     },
     "execution_count": 97,
     "metadata": {},
     "output_type": "execute_result"
    }
   ],
   "source": [
    "'''from sklearn.linear_model import LogisticRegression\n",
    "\n",
    "# Initialize and fit Logistic Regression with Lasso (L1 regularization)\n",
    "lasso = LogisticRegression(penalty='l1', solver='liblinear', max_iter=1000, random_state=42)\n",
    "lasso.fit(X_train, y_train)\n",
    "\n",
    "# Predict and calculate F1 score\n",
    "y_pred = lasso.predict(X_test)\n",
    "f1 = f1_score(y_test, y_pred, average='macro')\n",
    "print(f'Lasso F1 Score (Macro): {f1:.4f}')'''\n"
   ]
  },
  {
   "cell_type": "code",
   "execution_count": 98,
   "id": "8d65211e",
   "metadata": {
    "execution": {
     "iopub.execute_input": "2024-11-15T06:47:59.304739Z",
     "iopub.status.busy": "2024-11-15T06:47:59.304282Z",
     "iopub.status.idle": "2024-11-15T06:48:00.114649Z",
     "shell.execute_reply": "2024-11-15T06:48:00.113468Z"
    },
    "papermill": {
     "duration": 0.887654,
     "end_time": "2024-11-15T06:48:00.119288",
     "exception": false,
     "start_time": "2024-11-15T06:47:59.231634",
     "status": "completed"
    },
    "tags": []
   },
   "outputs": [
    {
     "data": {
      "text/plain": [
       "\"submission = pd.DataFrame({'id':range(0,test_encoded.shape[0]),\\n                          'target':y_pred2})\\n                     \\nsubmission['target']=submission['target'].replace({0: 'no', 1: 'yes'})\\n\\nsubmission.to_csv('submission.csv',index=False)\""
      ]
     },
     "execution_count": 98,
     "metadata": {},
     "output_type": "execute_result"
    }
   ],
   "source": [
    "from sklearn.preprocessing import StandardScaler\n",
    "from sklearn.linear_model import LogisticRegression\n",
    "from sklearn.metrics import f1_score\n",
    "\n",
    "df_encoded = pd.get_dummies(df_copy, drop_first=True)\n",
    "test_encoded = pd.get_dummies(df_test, drop_first=True)\n",
    "\n",
    "X_train = df_encoded.drop('target_yes', axis=1)\n",
    "y_train = df_encoded['target_yes']\n",
    "\n",
    "X_train = df_encoded.drop('target_yes', axis=1)\n",
    "y_train = df_encoded['target_yes']\n",
    "X_test = test_encoded\n",
    "\n",
    "scaler = StandardScaler()\n",
    "X_train_scaled = scaler.fit_transform(X_train)\n",
    "X_test_scaled = scaler.transform(X_test)\n",
    "\n",
    "elasticnet = LogisticRegression(penalty='elasticnet', solver='saga', l1_ratio=0.5, max_iter=2000, random_state=42)\n",
    "elasticnet.fit(X_train_scaled, y_train)\n",
    "\n",
    "# Predict on the test set\n",
    "y_pred = elasticnet.predict(X_test_scaled)\n",
    "\n",
    "\n",
    "'''submission = pd.DataFrame({'id':range(0,test_encoded.shape[0]),\n",
    "                          'target':y_pred2})\n",
    "                     \n",
    "submission['target']=submission['target'].replace({0: 'no', 1: 'yes'})\n",
    "\n",
    "submission.to_csv('submission.csv',index=False)'''\n"
   ]
  },
  {
   "cell_type": "code",
   "execution_count": 99,
   "id": "fa345b02",
   "metadata": {
    "execution": {
     "iopub.execute_input": "2024-11-15T06:48:00.310223Z",
     "iopub.status.busy": "2024-11-15T06:48:00.309591Z",
     "iopub.status.idle": "2024-11-15T06:48:00.321018Z",
     "shell.execute_reply": "2024-11-15T06:48:00.319896Z"
    },
    "papermill": {
     "duration": 0.081644,
     "end_time": "2024-11-15T06:48:00.323472",
     "exception": false,
     "start_time": "2024-11-15T06:48:00.241828",
     "status": "completed"
    },
    "tags": []
   },
   "outputs": [
    {
     "data": {
      "text/html": [
       "<div>\n",
       "<style scoped>\n",
       "    .dataframe tbody tr th:only-of-type {\n",
       "        vertical-align: middle;\n",
       "    }\n",
       "\n",
       "    .dataframe tbody tr th {\n",
       "        vertical-align: top;\n",
       "    }\n",
       "\n",
       "    .dataframe thead th {\n",
       "        text-align: right;\n",
       "    }\n",
       "</style>\n",
       "<table border=\"1\" class=\"dataframe\">\n",
       "  <thead>\n",
       "    <tr style=\"text-align: right;\">\n",
       "      <th></th>\n",
       "      <th>id</th>\n",
       "      <th>target</th>\n",
       "    </tr>\n",
       "  </thead>\n",
       "  <tbody>\n",
       "    <tr>\n",
       "      <th>0</th>\n",
       "      <td>0</td>\n",
       "      <td>no</td>\n",
       "    </tr>\n",
       "    <tr>\n",
       "      <th>1</th>\n",
       "      <td>1</td>\n",
       "      <td>no</td>\n",
       "    </tr>\n",
       "    <tr>\n",
       "      <th>2</th>\n",
       "      <td>2</td>\n",
       "      <td>no</td>\n",
       "    </tr>\n",
       "    <tr>\n",
       "      <th>3</th>\n",
       "      <td>3</td>\n",
       "      <td>no</td>\n",
       "    </tr>\n",
       "    <tr>\n",
       "      <th>4</th>\n",
       "      <td>4</td>\n",
       "      <td>yes</td>\n",
       "    </tr>\n",
       "  </tbody>\n",
       "</table>\n",
       "</div>"
      ],
      "text/plain": [
       "   id target\n",
       "0   0     no\n",
       "1   1     no\n",
       "2   2     no\n",
       "3   3     no\n",
       "4   4    yes"
      ]
     },
     "execution_count": 99,
     "metadata": {},
     "output_type": "execute_result"
    }
   ],
   "source": [
    "submission.head()"
   ]
  },
  {
   "cell_type": "markdown",
   "id": "1883ef9b",
   "metadata": {
    "papermill": {
     "duration": 0.069056,
     "end_time": "2024-11-15T06:48:00.459357",
     "exception": false,
     "start_time": "2024-11-15T06:48:00.390301",
     "status": "completed"
    },
    "tags": []
   },
   "source": [
    "## Random forest hypertuned\n"
   ]
  },
  {
   "cell_type": "code",
   "execution_count": 100,
   "id": "bc7de17a",
   "metadata": {
    "execution": {
     "iopub.execute_input": "2024-11-15T06:48:00.594459Z",
     "iopub.status.busy": "2024-11-15T06:48:00.594019Z",
     "iopub.status.idle": "2024-11-15T06:48:00.603690Z",
     "shell.execute_reply": "2024-11-15T06:48:00.602598Z"
    },
    "papermill": {
     "duration": 0.080226,
     "end_time": "2024-11-15T06:48:00.605986",
     "exception": false,
     "start_time": "2024-11-15T06:48:00.525760",
     "status": "completed"
    },
    "tags": []
   },
   "outputs": [
    {
     "data": {
      "text/plain": [
       "\"from sklearn.preprocessing import StandardScaler\\nfrom sklearn.ensemble import RandomForestClassifier\\nfrom sklearn.metrics import f1_score\\nfrom sklearn.model_selection import RandomizedSearchCV\\n\\ndf_encoded = pd.get_dummies(df_copy, drop_first=True)\\ntest_encoded = pd.get_dummies(df_test, drop_first=True)\\n\\nX_train = df_encoded.drop('target_yes', axis=1)\\ny_train = df_encoded['target_yes']\\n\\nX_train = df_encoded.drop('target_yes', axis=1)\\ny_train = df_encoded['target_yes']\\nX_test = test_encoded\\n\\nscaler = StandardScaler()\\nX_train_scaled = scaler.fit_transform(X_train)\\nX_test_scaled = scaler.transform(X_test)\\n\\nrfh = RandomForestClassifier()\\n\\nparams = {\\n    'criterion': ['gini', 'entropy'],\\n    'min_samples_split': list(np.arange(2, 21)),  # Adjusted upper limit\\n    'min_samples_leaf': list(np.arange(1, 21)),   # Lowered lower limit to 1\\n    'max_features': ['sqrt', 'log2', None, 0.5, 0.8],  # Added fractions\\n    'n_estimators': [100, 200,1000]  # Consider a range of estimators\\n}\\n\\nnrf = RandomizedSearchCV(rfh, param_distributions=params, scoring='f1_macro', random_state=42, n_jobs=-1, cv=10)\\n\\nnrf.fit(X_train_scaled,y_train)\\n\\n# Output the best parameters and best score\\nprint(nrf.best_params_)\\nprint(nrf.best_score_)\\n\\n# Get the best estimator\\nnrf = nrf.best_estimator_\\n\\ny_pred=nrf.predict(X_test_scaled)\\n\\nsubmission = pd.DataFrame({'id':range(0,y_pred.shape[0]),\\n                          'target':y_pred})\\n                     \\nsubmission['target']=submission['target'].replace({False: 'no', True: 'yes'})\\n\\nsubmission.to_csv('submission.csv',index=False)\\n\""
      ]
     },
     "execution_count": 100,
     "metadata": {},
     "output_type": "execute_result"
    }
   ],
   "source": [
    "'''from sklearn.preprocessing import StandardScaler\n",
    "from sklearn.ensemble import RandomForestClassifier\n",
    "from sklearn.metrics import f1_score\n",
    "from sklearn.model_selection import RandomizedSearchCV\n",
    "\n",
    "df_encoded = pd.get_dummies(df_copy, drop_first=True)\n",
    "test_encoded = pd.get_dummies(df_test, drop_first=True)\n",
    "\n",
    "X_train = df_encoded.drop('target_yes', axis=1)\n",
    "y_train = df_encoded['target_yes']\n",
    "\n",
    "X_train = df_encoded.drop('target_yes', axis=1)\n",
    "y_train = df_encoded['target_yes']\n",
    "X_test = test_encoded\n",
    "\n",
    "scaler = StandardScaler()\n",
    "X_train_scaled = scaler.fit_transform(X_train)\n",
    "X_test_scaled = scaler.transform(X_test)\n",
    "\n",
    "rfh = RandomForestClassifier()\n",
    "\n",
    "params = {\n",
    "    'criterion': ['gini', 'entropy'],\n",
    "    'min_samples_split': list(np.arange(2, 21)),  # Adjusted upper limit\n",
    "    'min_samples_leaf': list(np.arange(1, 21)),   # Lowered lower limit to 1\n",
    "    'max_features': ['sqrt', 'log2', None, 0.5, 0.8],  # Added fractions\n",
    "    'n_estimators': [100, 200,1000]  # Consider a range of estimators\n",
    "}\n",
    "\n",
    "nrf = RandomizedSearchCV(rfh, param_distributions=params, scoring='f1_macro', random_state=42, n_jobs=-1, cv=10)\n",
    "\n",
    "nrf.fit(X_train_scaled,y_train)\n",
    "\n",
    "# Output the best parameters and best score\n",
    "print(nrf.best_params_)\n",
    "print(nrf.best_score_)\n",
    "\n",
    "# Get the best estimator\n",
    "nrf = nrf.best_estimator_\n",
    "\n",
    "y_pred=nrf.predict(X_test_scaled)\n",
    "\n",
    "submission = pd.DataFrame({'id':range(0,y_pred.shape[0]),\n",
    "                          'target':y_pred})\n",
    "                     \n",
    "submission['target']=submission['target'].replace({False: 'no', True: 'yes'})\n",
    "\n",
    "submission.to_csv('submission.csv',index=False)\n",
    "'''"
   ]
  },
  {
   "cell_type": "code",
   "execution_count": 101,
   "id": "b2c3bbcc",
   "metadata": {
    "execution": {
     "iopub.execute_input": "2024-11-15T06:48:00.744943Z",
     "iopub.status.busy": "2024-11-15T06:48:00.743852Z",
     "iopub.status.idle": "2024-11-15T06:48:30.149119Z",
     "shell.execute_reply": "2024-11-15T06:48:30.148022Z"
    },
    "papermill": {
     "duration": 29.477987,
     "end_time": "2024-11-15T06:48:30.152025",
     "exception": false,
     "start_time": "2024-11-15T06:48:00.674038",
     "status": "completed"
    },
    "tags": []
   },
   "outputs": [],
   "source": [
    "#v26\n",
    "from sklearn.ensemble import RandomForestClassifier\n",
    "\n",
    "rd=RandomForestClassifier(n_estimators=200,min_samples_split=18,min_samples_leaf=18,max_features=0.8,criterion='gini',class_weight=\"balanced\")\n",
    "df_encoded = pd.get_dummies(df_copy, drop_first=True)\n",
    "test_encoded = pd.get_dummies(df_test, drop_first=True)\n",
    "\n",
    "X_train = df_encoded.drop('target_yes', axis=1)\n",
    "y_train = df_encoded['target_yes']\n",
    "\n",
    "X_train = df_encoded.drop('target_yes', axis=1)\n",
    "y_train = df_encoded['target_yes']\n",
    "X_test = test_encoded\n",
    "\n",
    "scaler = StandardScaler()\n",
    "X_train_scaled = scaler.fit_transform(X_train)\n",
    "X_test_scaled = scaler.transform(X_test)\n",
    "rd.fit(X_train_scaled,y_train)\n",
    "y_pred=rd.predict(X_test_scaled)\n",
    "\n",
    "submission = pd.DataFrame({'id':range(0,y_pred.shape[0]),\n",
    "                          'target':y_pred})\n",
    "                     \n",
    "submission['target']=submission['target'].replace({False: 'no', True: 'yes'})\n",
    "\n",
    "submission.to_csv('submission.csv',index=False)"
   ]
  },
  {
   "cell_type": "code",
   "execution_count": 102,
   "id": "a12f82a0",
   "metadata": {
    "execution": {
     "iopub.execute_input": "2024-11-15T06:48:30.288618Z",
     "iopub.status.busy": "2024-11-15T06:48:30.287827Z",
     "iopub.status.idle": "2024-11-15T06:49:55.814036Z",
     "shell.execute_reply": "2024-11-15T06:49:55.812853Z"
    },
    "papermill": {
     "duration": 85.596852,
     "end_time": "2024-11-15T06:49:55.816256",
     "exception": false,
     "start_time": "2024-11-15T06:48:30.219404",
     "status": "completed"
    },
    "tags": []
   },
   "outputs": [
    {
     "name": "stdout",
     "output_type": "stream",
     "text": [
      "Fitting 3 folds for each of 50 candidates, totalling 150 fits\n",
      "Best Parameters: {'subsample': 0.6, 'reg_lambda': 5, 'reg_alpha': 0.1, 'n_estimators': 200, 'max_depth': 7, 'learning_rate': 0.05, 'gamma': 0, 'colsample_bytree': 1.0}\n",
      "Best F1 Score (Macro) from cross-validation: 0.7111\n",
      "Training F1 Score (Macro): 0.8124\n"
     ]
    },
    {
     "data": {
      "text/plain": [
       "\"submission = pd.DataFrame({'id': range(0, test_encoded.shape[0]), 'target': y_pred_test})\\nsubmission['target'] = submission['target'].replace({0: 'no', 1: 'yes'})\\nsubmission.to_csv('submission.csv', index=False)\""
      ]
     },
     "execution_count": 102,
     "metadata": {},
     "output_type": "execute_result"
    }
   ],
   "source": [
    "import xgboost as xgb\n",
    "from xgboost import XGBClassifier\n",
    "from sklearn.model_selection import RandomizedSearchCV\n",
    "from sklearn.metrics import f1_score\n",
    "import pandas as pd\n",
    "\n",
    "# Ensure train and test data have the same columns by aligning dummy encoding\n",
    "df_encoded = pd.get_dummies(df_copy, drop_first=True)\n",
    "test_encoded = pd.get_dummies(df_test, drop_first=True)\n",
    "\n",
    "# Align test_encoded columns with df_encoded\n",
    "test_encoded = test_encoded.reindex(columns=df_encoded.columns.drop('target_yes'), fill_value=0)\n",
    "\n",
    "# Define X_train, y_train\n",
    "X_train = df_encoded.drop('target_yes', axis=1)\n",
    "y_train = df_encoded['target_yes']\n",
    "\n",
    "# Define parameter grid for hyperparameter tuning\n",
    "param_grid = {\n",
    "    'learning_rate': [0.01, 0.05, 0.1, 0.2],\n",
    "    'max_depth': [3, 5, 7, 10],\n",
    "    'n_estimators': [50, 100, 200, 300],\n",
    "    'subsample': [0.6, 0.8, 1.0],\n",
    "    'colsample_bytree': [0.6, 0.8, 1.0],\n",
    "    'gamma': [0, 0.1, 0.3, 0.5],\n",
    "    'reg_alpha': [0, 0.1, 1],\n",
    "    'reg_lambda': [0, 1, 5]\n",
    "}\n",
    "\n",
    "# Initialize XGBoost Classifier\n",
    "xgb_model = XGBClassifier(random_state=42, use_label_encoder=False, eval_metric='logloss')\n",
    "\n",
    "# Randomized search with 3-fold cross-validation\n",
    "random_search = RandomizedSearchCV(\n",
    "    estimator=xgb_model,\n",
    "    param_distributions=param_grid,\n",
    "    n_iter=50,  # Increase this for a more thorough search\n",
    "    scoring='f1_macro',\n",
    "    cv=3,\n",
    "    verbose=1,\n",
    "    random_state=42,\n",
    "    n_jobs=-1\n",
    ")\n",
    "\n",
    "# Fit randomized search\n",
    "random_search.fit(X_train, y_train)\n",
    "\n",
    "# Display the best parameters and best score\n",
    "print(f\"Best Parameters: {random_search.best_params_}\")\n",
    "print(f\"Best F1 Score (Macro) from cross-validation: {random_search.best_score_:.4f}\")\n",
    "\n",
    "# Predict on the training set using best model\n",
    "best_model = random_search.best_estimator_\n",
    "y_pred_train = best_model.predict(X_train)\n",
    "f1_train = f1_score(y_train, y_pred_train, average='macro')\n",
    "print(f'Training F1 Score (Macro): {f1_train:.4f}')\n",
    "\n",
    "# Predict on the test set\n",
    "y_pred_test = best_model.predict(test_encoded)\n",
    "\n",
    "# Prepare the submission\n",
    "'''submission = pd.DataFrame({'id': range(0, test_encoded.shape[0]), 'target': y_pred_test})\n",
    "submission['target'] = submission['target'].replace({0: 'no', 1: 'yes'})\n",
    "submission.to_csv('submission.csv', index=False)'''"
   ]
  },
  {
   "cell_type": "markdown",
   "id": "cc48b501",
   "metadata": {
    "papermill": {
     "duration": 0.068987,
     "end_time": "2024-11-15T06:49:55.953419",
     "exception": false,
     "start_time": "2024-11-15T06:49:55.884432",
     "status": "completed"
    },
    "tags": []
   },
   "source": []
  },
  {
   "cell_type": "code",
   "execution_count": 103,
   "id": "c17826c8",
   "metadata": {
    "execution": {
     "iopub.execute_input": "2024-11-15T06:49:56.092643Z",
     "iopub.status.busy": "2024-11-15T06:49:56.092186Z",
     "iopub.status.idle": "2024-11-15T06:49:56.103118Z",
     "shell.execute_reply": "2024-11-15T06:49:56.101966Z"
    },
    "papermill": {
     "duration": 0.084322,
     "end_time": "2024-11-15T06:49:56.105456",
     "exception": false,
     "start_time": "2024-11-15T06:49:56.021134",
     "status": "completed"
    },
    "tags": []
   },
   "outputs": [
    {
     "data": {
      "text/plain": [
       "'import xgboost as xgb\\nfrom xgboost import XGBClassifier\\nfrom sklearn.model_selection import RandomizedSearchCV\\nfrom sklearn.metrics import f1_score\\nimport pandas as pd\\n\\n# Ensure train and test data have the same columns by aligning dummy encoding\\ndf_encoded = pd.get_dummies(df_copy, drop_first=True)\\ntest_encoded = pd.get_dummies(df_test, drop_first=True)\\n\\n# Align test_encoded columns with df_encoded\\ntest_encoded = test_encoded.reindex(columns=df_encoded.columns.drop(\\'target_yes\\'), fill_value=0)\\n\\n# Define X_train, y_train\\nX_train = df_encoded.drop(\\'target_yes\\', axis=1)\\ny_train = df_encoded[\\'target_yes\\']\\n\\n# Define parameter grid for hyperparameter tuning\\nparam_grid = {\\n    \\'learning_rate\\': [0.05, 0.075,0.1, 0.2],\\n    \\'max_depth\\': [5,6,7],\\n    \\'n_estimators\\': [ 300,500],\\n    \\'subsample\\': [ 0.8,0.85],\\n    \\'colsample_bytree\\': [0.6,0.7],\\n    \\'gamma\\': [0, 0.05],\\n    \\'reg_alpha\\': [0.1, 0.15],\\n    \\'reg_lambda\\': [ 1, 3]\\n}\\n\\n# Initialize XGBoost Classifier\\nxgb_model = XGBClassifier(random_state=42, use_label_encoder=False, eval_metric=\\'logloss\\')\\n\\n# Randomized search with 3-fold cross-validation\\nrandom_search = RandomizedSearchCV(\\n    estimator=xgb_model,\\n    param_distributions=param_grid,\\n    n_iter=50,  # Increase this for a more thorough search\\n    scoring=\\'f1_macro\\',\\n    cv=3,\\n    verbose=1,\\n    random_state=42,\\n    n_jobs=-1\\n)\\n\\n# Fit randomized search\\nrandom_search.fit(X_train, y_train)\\n\\n# Display the best parameters and best score\\nprint(f\"Best Parameters: {random_search.best_params_}\")\\nprint(f\"Best F1 Score (Macro) from cross-validation: {random_search.best_score_:.4f}\")\\n\\n# Predict on the training set using best model\\nbest_model = random_search.best_estimator_\\ny_pred_train = best_model.predict(X_train)\\nf1_train = f1_score(y_train, y_pred_train, average=\\'macro\\')\\nprint(f\\'Training F1 Score (Macro): {f1_train:.4f}\\')\\n\\n# Predict on the test set\\ny_pred_test = best_model.predict(test_encoded)\\n\\n# Prepare the submission\\nsubmission = pd.DataFrame({\\'id\\': range(0, test_encoded.shape[0]), \\'target\\': y_pred_test})\\nsubmission[\\'target\\'] = submission[\\'target\\'].replace({0: \\'no\\', 1: \\'yes\\'})\\nsubmission.to_csv(\\'submission.csv\\', index=False)\\n'"
      ]
     },
     "execution_count": 103,
     "metadata": {},
     "output_type": "execute_result"
    }
   ],
   "source": [
    "'''import xgboost as xgb\n",
    "from xgboost import XGBClassifier\n",
    "from sklearn.model_selection import RandomizedSearchCV\n",
    "from sklearn.metrics import f1_score\n",
    "import pandas as pd\n",
    "\n",
    "# Ensure train and test data have the same columns by aligning dummy encoding\n",
    "df_encoded = pd.get_dummies(df_copy, drop_first=True)\n",
    "test_encoded = pd.get_dummies(df_test, drop_first=True)\n",
    "\n",
    "# Align test_encoded columns with df_encoded\n",
    "test_encoded = test_encoded.reindex(columns=df_encoded.columns.drop('target_yes'), fill_value=0)\n",
    "\n",
    "# Define X_train, y_train\n",
    "X_train = df_encoded.drop('target_yes', axis=1)\n",
    "y_train = df_encoded['target_yes']\n",
    "\n",
    "# Define parameter grid for hyperparameter tuning\n",
    "param_grid = {\n",
    "    'learning_rate': [0.05, 0.075,0.1, 0.2],\n",
    "    'max_depth': [5,6,7],\n",
    "    'n_estimators': [ 300,500],\n",
    "    'subsample': [ 0.8,0.85],\n",
    "    'colsample_bytree': [0.6,0.7],\n",
    "    'gamma': [0, 0.05],\n",
    "    'reg_alpha': [0.1, 0.15],\n",
    "    'reg_lambda': [ 1, 3]\n",
    "}\n",
    "\n",
    "# Initialize XGBoost Classifier\n",
    "xgb_model = XGBClassifier(random_state=42, use_label_encoder=False, eval_metric='logloss')\n",
    "\n",
    "# Randomized search with 3-fold cross-validation\n",
    "random_search = RandomizedSearchCV(\n",
    "    estimator=xgb_model,\n",
    "    param_distributions=param_grid,\n",
    "    n_iter=50,  # Increase this for a more thorough search\n",
    "    scoring='f1_macro',\n",
    "    cv=3,\n",
    "    verbose=1,\n",
    "    random_state=42,\n",
    "    n_jobs=-1\n",
    ")\n",
    "\n",
    "# Fit randomized search\n",
    "random_search.fit(X_train, y_train)\n",
    "\n",
    "# Display the best parameters and best score\n",
    "print(f\"Best Parameters: {random_search.best_params_}\")\n",
    "print(f\"Best F1 Score (Macro) from cross-validation: {random_search.best_score_:.4f}\")\n",
    "\n",
    "# Predict on the training set using best model\n",
    "best_model = random_search.best_estimator_\n",
    "y_pred_train = best_model.predict(X_train)\n",
    "f1_train = f1_score(y_train, y_pred_train, average='macro')\n",
    "print(f'Training F1 Score (Macro): {f1_train:.4f}')\n",
    "\n",
    "# Predict on the test set\n",
    "y_pred_test = best_model.predict(test_encoded)\n",
    "\n",
    "# Prepare the submission\n",
    "submission = pd.DataFrame({'id': range(0, test_encoded.shape[0]), 'target': y_pred_test})\n",
    "submission['target'] = submission['target'].replace({0: 'no', 1: 'yes'})\n",
    "submission.to_csv('submission.csv', index=False)\n",
    "'''"
   ]
  },
  {
   "cell_type": "code",
   "execution_count": 104,
   "id": "d9d76e6d",
   "metadata": {
    "execution": {
     "iopub.execute_input": "2024-11-15T06:49:56.243760Z",
     "iopub.status.busy": "2024-11-15T06:49:56.243254Z",
     "iopub.status.idle": "2024-11-15T06:49:56.251859Z",
     "shell.execute_reply": "2024-11-15T06:49:56.250576Z"
    },
    "papermill": {
     "duration": 0.080496,
     "end_time": "2024-11-15T06:49:56.254319",
     "exception": false,
     "start_time": "2024-11-15T06:49:56.173823",
     "status": "completed"
    },
    "tags": []
   },
   "outputs": [
    {
     "data": {
      "text/plain": [
       "\"from sklearn.svm import SVC\\n\\n\\n# Ensure train and test data have the same columns by aligning dummy encoding\\ndf_encoded = pd.get_dummies(df_copy, drop_first=True)\\ntest_encoded = pd.get_dummies(df_test, drop_first=True)\\n\\n# Align test_encoded columns with df_encoded\\ntest_encoded = test_encoded.reindex(columns=df_encoded.columns.drop('target_yes'), fill_value=0)\\n\\n# Define X_train, y_train\\nX_train = df_encoded.drop('target_yes', axis=1)\\ny_train = df_encoded['target_yes']\\n\\n\\nmodel = SVC(class_weight='balanced', random_state=42)\\nmodel.fit(X_train, y_train)\\ny_pred_test = model.predict(test_encoded)\\n\\n\\n# Prepare the submission\\nsubmission = pd.DataFrame({'id': range(0, y_pred_test.shape[0]), 'target': y_pred_test})\\nsubmission['target'] = submission['target'].replace({False: 'no', True: 'yes'})\\nsubmission.to_csv('submission.csv', index=False)\""
      ]
     },
     "execution_count": 104,
     "metadata": {},
     "output_type": "execute_result"
    }
   ],
   "source": [
    "#v25\n",
    "'''from sklearn.svm import SVC\n",
    "\n",
    "\n",
    "# Ensure train and test data have the same columns by aligning dummy encoding\n",
    "df_encoded = pd.get_dummies(df_copy, drop_first=True)\n",
    "test_encoded = pd.get_dummies(df_test, drop_first=True)\n",
    "\n",
    "# Align test_encoded columns with df_encoded\n",
    "test_encoded = test_encoded.reindex(columns=df_encoded.columns.drop('target_yes'), fill_value=0)\n",
    "\n",
    "# Define X_train, y_train\n",
    "X_train = df_encoded.drop('target_yes', axis=1)\n",
    "y_train = df_encoded['target_yes']\n",
    "\n",
    "\n",
    "model = SVC(class_weight='balanced', random_state=42)\n",
    "model.fit(X_train, y_train)\n",
    "y_pred_test = model.predict(test_encoded)\n",
    "\n",
    "\n",
    "# Prepare the submission\n",
    "submission = pd.DataFrame({'id': range(0, y_pred_test.shape[0]), 'target': y_pred_test})\n",
    "submission['target'] = submission['target'].replace({False: 'no', True: 'yes'})\n",
    "submission.to_csv('submission.csv', index=False)'''\n"
   ]
  },
  {
   "cell_type": "code",
   "execution_count": 105,
   "id": "8cefc7ca",
   "metadata": {
    "execution": {
     "iopub.execute_input": "2024-11-15T06:49:56.392590Z",
     "iopub.status.busy": "2024-11-15T06:49:56.391535Z",
     "iopub.status.idle": "2024-11-15T06:49:56.399035Z",
     "shell.execute_reply": "2024-11-15T06:49:56.397762Z"
    },
    "papermill": {
     "duration": 0.079683,
     "end_time": "2024-11-15T06:49:56.401735",
     "exception": false,
     "start_time": "2024-11-15T06:49:56.322052",
     "status": "completed"
    },
    "tags": []
   },
   "outputs": [
    {
     "data": {
      "text/plain": [
       "'!rm submission.csv'"
      ]
     },
     "execution_count": 105,
     "metadata": {},
     "output_type": "execute_result"
    }
   ],
   "source": [
    "'''!rm submission.csv'''"
   ]
  },
  {
   "cell_type": "code",
   "execution_count": 106,
   "id": "faaa1494",
   "metadata": {
    "execution": {
     "iopub.execute_input": "2024-11-15T06:49:56.538970Z",
     "iopub.status.busy": "2024-11-15T06:49:56.538526Z",
     "iopub.status.idle": "2024-11-15T06:49:57.506118Z",
     "shell.execute_reply": "2024-11-15T06:49:57.504984Z"
    },
    "papermill": {
     "duration": 1.039117,
     "end_time": "2024-11-15T06:49:57.508627",
     "exception": false,
     "start_time": "2024-11-15T06:49:56.469510",
     "status": "completed"
    },
    "tags": []
   },
   "outputs": [
    {
     "name": "stdout",
     "output_type": "stream",
     "text": [
      "F1 Score (Macro): 0.7975\n"
     ]
    },
    {
     "data": {
      "text/plain": [
       "\"submission = pd.DataFrame({'id':range(0,test_encoded.shape[0]),\\n                          'target':y_pred2})\\n                     \\nsubmission['target']=submission['target'].replace({0: 'no', 1: 'yes'})\\n\\nsubmission.to_csv('submission.csv',index=False)\""
      ]
     },
     "execution_count": 106,
     "metadata": {},
     "output_type": "execute_result"
    }
   ],
   "source": [
    "#27\n",
    "import xgboost as xgb\n",
    "from xgboost import XGBClassifier\n",
    "from sklearn.metrics import f1_score\n",
    "import pandas as pd\n",
    "\n",
    "# Ensure train and test data have the same columns by aligning dummy encoding\n",
    "df_encoded = pd.get_dummies(df_copy, drop_first=True)\n",
    "test_encoded = pd.get_dummies(df_test, drop_first=True)\n",
    "\n",
    "# Align test_encoded columns with df_encoded\n",
    "test_encoded = test_encoded.reindex(columns=df_encoded.columns.drop('target_yes'), fill_value=0)\n",
    "\n",
    "# Define X_train, y_train\n",
    "X_train = df_encoded.drop('target_yes', axis=1)\n",
    "y_train = df_encoded['target_yes']\n",
    "\n",
    "scale_pos_weight = len(y_train[y_train == 0]) / len(y_train[y_train == 1])\n",
    "\n",
    "# Initialize and fit XGBoost Classifier\n",
    "xgb_model = XGBClassifier(random_state=42,scale_pos_weight=scale_pos_weight)\n",
    "\n",
    "# Fit without eval_set (if not doing early stopping)\n",
    "xgb_model.fit(X_train, y_train)\n",
    "\n",
    "# Predict on the training set\n",
    "y_pred = xgb_model.predict(X_train)\n",
    "\n",
    "# Predict on the test set\n",
    "y_pred2 = xgb_model.predict(test_encoded)\n",
    "\n",
    "# Calculate F1 Score (Macro) on the training set\n",
    "f1 = f1_score(y_train, y_pred, average='macro')\n",
    "print(f'F1 Score (Macro): {f1:.4f}')\n",
    "\n",
    "'''submission = pd.DataFrame({'id':range(0,test_encoded.shape[0]),\n",
    "                          'target':y_pred2})\n",
    "                     \n",
    "submission['target']=submission['target'].replace({0: 'no', 1: 'yes'})\n",
    "\n",
    "submission.to_csv('submission.csv',index=False)'''"
   ]
  },
  {
   "cell_type": "code",
   "execution_count": 107,
   "id": "379b2f45",
   "metadata": {
    "execution": {
     "iopub.execute_input": "2024-11-15T06:49:57.647126Z",
     "iopub.status.busy": "2024-11-15T06:49:57.646005Z",
     "iopub.status.idle": "2024-11-15T06:49:59.464579Z",
     "shell.execute_reply": "2024-11-15T06:49:59.463171Z"
    },
    "papermill": {
     "duration": 1.890865,
     "end_time": "2024-11-15T06:49:59.467343",
     "exception": false,
     "start_time": "2024-11-15T06:49:57.576478",
     "status": "completed"
    },
    "tags": []
   },
   "outputs": [
    {
     "name": "stdout",
     "output_type": "stream",
     "text": [
      "F1 Score (Macro): 0.7613\n"
     ]
    }
   ],
   "source": [
    "#28\n",
    "import xgboost as xgb\n",
    "from xgboost import XGBClassifier\n",
    "from sklearn.metrics import f1_score\n",
    "import pandas as pd\n",
    "\n",
    "# Ensure train and test data have the same columns by aligning dummy encoding\n",
    "df_encoded = pd.get_dummies(df_copy, drop_first=True)\n",
    "test_encoded = pd.get_dummies(df_test, drop_first=True)\n",
    "\n",
    "# Align test_encoded columns with df_encoded\n",
    "test_encoded = test_encoded.reindex(columns=df_encoded.columns.drop('target_yes'), fill_value=0)\n",
    "\n",
    "# Define X_train, y_train\n",
    "X_train = df_encoded.drop('target_yes', axis=1)\n",
    "y_train = df_encoded['target_yes']\n",
    "\n",
    "scale_pos_weight = len(y_train[y_train == 0]) / len(y_train[y_train == 1])\n",
    "\n",
    "params = {\n",
    "    'subsample': 0.6,\n",
    "    'reg_lambda': 5,\n",
    "    'reg_alpha': 0.1,\n",
    "    'n_estimators': 200,\n",
    "    'max_depth': 7,\n",
    "    'learning_rate': 0.05,\n",
    "    'gamma': 0,\n",
    "    'colsample_bytree': 1.0,\n",
    "    'scale_pos_weight': scale_pos_weight  # for handling class imbalance\n",
    "}\n",
    "\n",
    "# Initialize and fit XGBoost Classifier\n",
    "xgb_model = XGBClassifier(random_state=42,**params)\n",
    "\n",
    "# Fit without eval_set (if not doing early stopping)\n",
    "xgb_model.fit(X_train, y_train)\n",
    "\n",
    "# Predict on the training set\n",
    "y_pred = xgb_model.predict(X_train)\n",
    "\n",
    "# Predict on the test set\n",
    "y_pred2 = xgb_model.predict(test_encoded)\n",
    "\n",
    "# Calculate F1 Score (Macro) on the training set\n",
    "f1 = f1_score(y_train, y_pred, average='macro')\n",
    "print(f'F1 Score (Macro): {f1:.4f}')\n",
    "\n",
    "submission = pd.DataFrame({'id':range(0,test_encoded.shape[0]),\n",
    "                          'target':y_pred2})\n",
    "                     \n",
    "submission['target']=submission['target'].replace({0: 'no', 1: 'yes'})\n",
    "\n",
    "submission.to_csv('submission.csv',index=False)"
   ]
  },
  {
   "cell_type": "code",
   "execution_count": null,
   "id": "1b1763af",
   "metadata": {
    "execution": {
     "iopub.execute_input": "2024-11-15T06:46:27.709411Z",
     "iopub.status.busy": "2024-11-15T06:46:27.708920Z",
     "iopub.status.idle": "2024-11-15T06:46:28.872254Z",
     "shell.execute_reply": "2024-11-15T06:46:28.870745Z",
     "shell.execute_reply.started": "2024-11-15T06:46:27.709361Z"
    },
    "papermill": {
     "duration": 0.069114,
     "end_time": "2024-11-15T06:49:59.604841",
     "exception": false,
     "start_time": "2024-11-15T06:49:59.535727",
     "status": "completed"
    },
    "tags": []
   },
   "outputs": [],
   "source": []
  }
 ],
 "metadata": {
  "kaggle": {
   "accelerator": "none",
   "dataSources": [
    {
     "databundleVersionId": 9578279,
     "sourceId": 85062,
     "sourceType": "competition"
    }
   ],
   "dockerImageVersionId": 30775,
   "isGpuEnabled": false,
   "isInternetEnabled": true,
   "language": "python",
   "sourceType": "notebook"
  },
  "kernelspec": {
   "display_name": "Python 3",
   "language": "python",
   "name": "python3"
  },
  "language_info": {
   "codemirror_mode": {
    "name": "ipython",
    "version": 3
   },
   "file_extension": ".py",
   "mimetype": "text/x-python",
   "name": "python",
   "nbconvert_exporter": "python",
   "pygments_lexer": "ipython3",
   "version": "3.10.14"
  },
  "papermill": {
   "default_parameters": {},
   "duration": 177.388142,
   "end_time": "2024-11-15T06:50:02.297748",
   "environment_variables": {},
   "exception": null,
   "input_path": "__notebook__.ipynb",
   "output_path": "__notebook__.ipynb",
   "parameters": {},
   "start_time": "2024-11-15T06:47:04.909606",
   "version": "2.6.0"
  }
 },
 "nbformat": 4,
 "nbformat_minor": 5
}
